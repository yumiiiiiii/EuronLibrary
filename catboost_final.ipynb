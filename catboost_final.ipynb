{
  "cells": [
    {
      "cell_type": "code",
      "source": [
        "!pip install optuna catboost"
      ],
      "metadata": {
        "id": "GdQo17C-5XNt",
        "colab": {
          "base_uri": "https://localhost:8080/"
        },
        "outputId": "2bc8fab4-8d5c-49e4-9ff8-5b5b6a9eaa90"
      },
      "id": "GdQo17C-5XNt",
      "execution_count": 1,
      "outputs": [
        {
          "output_type": "stream",
          "name": "stdout",
          "text": [
            "Collecting optuna\n",
            "  Downloading optuna-3.5.0-py3-none-any.whl (413 kB)\n",
            "\u001b[2K     \u001b[90m━━━━━━━━━━━━━━━━━━━━━━━━━━━━━━━━━━━━━━━━\u001b[0m \u001b[32m413.4/413.4 kB\u001b[0m \u001b[31m8.5 MB/s\u001b[0m eta \u001b[36m0:00:00\u001b[0m\n",
            "\u001b[?25hCollecting catboost\n",
            "  Downloading catboost-1.2.2-cp310-cp310-manylinux2014_x86_64.whl (98.7 MB)\n",
            "\u001b[2K     \u001b[90m━━━━━━━━━━━━━━━━━━━━━━━━━━━━━━━━━━━━━━━━\u001b[0m \u001b[32m98.7/98.7 MB\u001b[0m \u001b[31m9.8 MB/s\u001b[0m eta \u001b[36m0:00:00\u001b[0m\n",
            "\u001b[?25hCollecting alembic>=1.5.0 (from optuna)\n",
            "  Downloading alembic-1.13.1-py3-none-any.whl (233 kB)\n",
            "\u001b[2K     \u001b[90m━━━━━━━━━━━━━━━━━━━━━━━━━━━━━━━━━━━━━━━━\u001b[0m \u001b[32m233.4/233.4 kB\u001b[0m \u001b[31m32.4 MB/s\u001b[0m eta \u001b[36m0:00:00\u001b[0m\n",
            "\u001b[?25hCollecting colorlog (from optuna)\n",
            "  Downloading colorlog-6.8.2-py3-none-any.whl (11 kB)\n",
            "Requirement already satisfied: numpy in /usr/local/lib/python3.10/dist-packages (from optuna) (1.23.5)\n",
            "Requirement already satisfied: packaging>=20.0 in /usr/local/lib/python3.10/dist-packages (from optuna) (23.2)\n",
            "Requirement already satisfied: sqlalchemy>=1.3.0 in /usr/local/lib/python3.10/dist-packages (from optuna) (2.0.25)\n",
            "Requirement already satisfied: tqdm in /usr/local/lib/python3.10/dist-packages (from optuna) (4.66.1)\n",
            "Requirement already satisfied: PyYAML in /usr/local/lib/python3.10/dist-packages (from optuna) (6.0.1)\n",
            "Requirement already satisfied: graphviz in /usr/local/lib/python3.10/dist-packages (from catboost) (0.20.1)\n",
            "Requirement already satisfied: matplotlib in /usr/local/lib/python3.10/dist-packages (from catboost) (3.7.1)\n",
            "Requirement already satisfied: pandas>=0.24 in /usr/local/lib/python3.10/dist-packages (from catboost) (1.5.3)\n",
            "Requirement already satisfied: scipy in /usr/local/lib/python3.10/dist-packages (from catboost) (1.11.4)\n",
            "Requirement already satisfied: plotly in /usr/local/lib/python3.10/dist-packages (from catboost) (5.15.0)\n",
            "Requirement already satisfied: six in /usr/local/lib/python3.10/dist-packages (from catboost) (1.16.0)\n",
            "Collecting Mako (from alembic>=1.5.0->optuna)\n",
            "  Downloading Mako-1.3.2-py3-none-any.whl (78 kB)\n",
            "\u001b[2K     \u001b[90m━━━━━━━━━━━━━━━━━━━━━━━━━━━━━━━━━━━━━━━━\u001b[0m \u001b[32m78.7/78.7 kB\u001b[0m \u001b[31m12.2 MB/s\u001b[0m eta \u001b[36m0:00:00\u001b[0m\n",
            "\u001b[?25hRequirement already satisfied: typing-extensions>=4 in /usr/local/lib/python3.10/dist-packages (from alembic>=1.5.0->optuna) (4.9.0)\n",
            "Requirement already satisfied: python-dateutil>=2.8.1 in /usr/local/lib/python3.10/dist-packages (from pandas>=0.24->catboost) (2.8.2)\n",
            "Requirement already satisfied: pytz>=2020.1 in /usr/local/lib/python3.10/dist-packages (from pandas>=0.24->catboost) (2023.4)\n",
            "Requirement already satisfied: greenlet!=0.4.17 in /usr/local/lib/python3.10/dist-packages (from sqlalchemy>=1.3.0->optuna) (3.0.3)\n",
            "Requirement already satisfied: contourpy>=1.0.1 in /usr/local/lib/python3.10/dist-packages (from matplotlib->catboost) (1.2.0)\n",
            "Requirement already satisfied: cycler>=0.10 in /usr/local/lib/python3.10/dist-packages (from matplotlib->catboost) (0.12.1)\n",
            "Requirement already satisfied: fonttools>=4.22.0 in /usr/local/lib/python3.10/dist-packages (from matplotlib->catboost) (4.47.2)\n",
            "Requirement already satisfied: kiwisolver>=1.0.1 in /usr/local/lib/python3.10/dist-packages (from matplotlib->catboost) (1.4.5)\n",
            "Requirement already satisfied: pillow>=6.2.0 in /usr/local/lib/python3.10/dist-packages (from matplotlib->catboost) (9.4.0)\n",
            "Requirement already satisfied: pyparsing>=2.3.1 in /usr/local/lib/python3.10/dist-packages (from matplotlib->catboost) (3.1.1)\n",
            "Requirement already satisfied: tenacity>=6.2.0 in /usr/local/lib/python3.10/dist-packages (from plotly->catboost) (8.2.3)\n",
            "Requirement already satisfied: MarkupSafe>=0.9.2 in /usr/local/lib/python3.10/dist-packages (from Mako->alembic>=1.5.0->optuna) (2.1.5)\n",
            "Installing collected packages: Mako, colorlog, alembic, optuna, catboost\n",
            "Successfully installed Mako-1.3.2 alembic-1.13.1 catboost-1.2.2 colorlog-6.8.2 optuna-3.5.0\n"
          ]
        }
      ]
    },
    {
      "cell_type": "code",
      "execution_count": 2,
      "id": "d58c9dbc-8a89-4147-a3a0-594a1b4b6fc6",
      "metadata": {
        "id": "d58c9dbc-8a89-4147-a3a0-594a1b4b6fc6"
      },
      "outputs": [],
      "source": [
        "import pandas as pd\n",
        "import numpy as np\n",
        "from sklearn.preprocessing import LabelEncoder\n",
        "import optuna\n",
        "from catboost import CatBoostRegressor\n",
        "from sklearn.model_selection import KFold, StratifiedKFold\n",
        "from sklearn.metrics import make_scorer, mean_squared_error, mean_absolute_error\n",
        "from sklearn.model_selection import train_test_split\n",
        "import matplotlib.pyplot as plt\n",
        "import seaborn as sns\n",
        "import warnings\n",
        "import gc"
      ]
    },
    {
      "cell_type": "code",
      "source": [
        "from google.colab import drive\n",
        "drive.mount('/content/drive')"
      ],
      "metadata": {
        "colab": {
          "base_uri": "https://localhost:8080/"
        },
        "id": "fWpIMdgb0LBd",
        "outputId": "160543a8-0b6e-4a0c-e04c-1f15b81adc9a"
      },
      "id": "fWpIMdgb0LBd",
      "execution_count": 3,
      "outputs": [
        {
          "output_type": "stream",
          "name": "stdout",
          "text": [
            "Mounted at /content/drive\n"
          ]
        }
      ]
    },
    {
      "cell_type": "code",
      "source": [
        "import os\n",
        "os.chdir('/content/drive/MyDrive/Euron')"
      ],
      "metadata": {
        "id": "uO3D81WN0N1_"
      },
      "id": "uO3D81WN0N1_",
      "execution_count": 4,
      "outputs": []
    },
    {
      "cell_type": "code",
      "source": [
        "train = pd.read_csv('train.csv')\n",
        "test = pd.read_csv('test.csv')\n",
        "submission = pd.read_csv('sample_submission.csv')"
      ],
      "metadata": {
        "id": "EtPCBd365Kss"
      },
      "id": "EtPCBd365Kss",
      "execution_count": 5,
      "outputs": []
    },
    {
      "cell_type": "code",
      "execution_count": 6,
      "id": "48f4b273-4266-4abb-8caf-47c3a028ffaf",
      "metadata": {
        "id": "48f4b273-4266-4abb-8caf-47c3a028ffaf",
        "colab": {
          "base_uri": "https://localhost:8080/"
        },
        "outputId": "fe6c823d-a63e-4516-891d-97382a90fd5b"
      },
      "outputs": [
        {
          "output_type": "stream",
          "name": "stderr",
          "text": [
            "<ipython-input-6-4af6f511e24b>:5: FutureWarning: The default value of regex will change from True to False in a future version.\n",
            "  train['Location'] = train['Location'].str.replace(r'[^0-9a-zA-Z:,]', '')\n"
          ]
        }
      ],
      "source": [
        "#train.drop(columns=['ID', 'Book-ID', 'Year-Of-Publication'], inplace=True)\n",
        "#test.drop(columns=['ID', 'Book-ID', 'Year-Of-Publication'], inplace=True)\n",
        "# location 전처리\n",
        "# Location 분리\n",
        "train['Location'] = train['Location'].str.replace(r'[^0-9a-zA-Z:,]', '')\n",
        "train['city'] = train['Location'].apply(lambda x: x.split(',')[0].strip())\n",
        "train['state'] = train['Location'].apply(lambda x: x.split(',')[1].strip())\n",
        "train['country'] = train['Location'].apply(lambda x: x.split(',')[2].strip())\n",
        "\n",
        "train.drop('Location', axis=1, inplace=True)\n",
        "train = train.replace('na', np.nan)\n",
        "train = train.replace('', np.nan)\n",
        "\n",
        "# Location 최빈값으로 대체\n",
        "mode_city = train['city'].mode()[0]\n",
        "mode_state = train['state'].mode()[0]\n",
        "mode_country = train['country'].mode()[0]\n",
        "\n",
        "# 결측값 대체\n",
        "train['city'].fillna(mode_city, inplace=True)\n",
        "train['state'].fillna(mode_state, inplace=True)\n",
        "train['country'].fillna(mode_country, inplace=True)"
      ]
    },
    {
      "cell_type": "code",
      "source": [
        "## Age 이상치 처리\n",
        "# 이상치: 5세 이하 90세 초과\n",
        "train.loc[(train['Age'] <= 5)|(train['Age'] > 90), 'Age'] = np.nan\n",
        "train['Age'].isnull().sum() # 5세 이하 또는 90세 초과인 데이터 4497개\n",
        "# 평균값으로 대체\n",
        "train['Age'].mean() # Age (이상치 제거 후) 평균: 36.541634752034845\n",
        "train['Age'] = train['Age'].fillna(train['Age'].mean())\n",
        "\n",
        "## Age 범주화\n",
        "# Age_group: 이상치 처리 & 5세 단위로 범주화\n",
        "train['Age_group'] = pd.cut(train['Age'], bins = list(range(5, 91, 5)))\n",
        "# Age_group2: 이상치 처리 & 미국 노동통계국 자료를 참고한 범주화\n",
        "# train['Age_group'] = pd.cut(train['Age'], bins = [5, 6, 8, 12, 18, 25, 34, 44, 54, 64, 74, 91])\n",
        "\n",
        "from sklearn.preprocessing import LabelEncoder\n",
        "\n",
        "encoder = LabelEncoder() #labelencoder함수를 가져온다.\n",
        "encoder.fit(train['Age_group']) #내가 가지고 있는 데이터에 학습시킨다\n",
        "digit_label = encoder.transform(train['Age_group'])\n",
        "train['Age_group'] = digit_label # encoding 잘됐나?\n",
        "#train['Age_group']"
      ],
      "metadata": {
        "id": "olR13yoUrn5y"
      },
      "id": "olR13yoUrn5y",
      "execution_count": 7,
      "outputs": []
    },
    {
      "cell_type": "code",
      "source": [
        "# 소문자 통일, 특수문자 제거 (종류: 15505 -> 15021)\n",
        "train['Publisher'] = train['Publisher'].str.lower().replace('[^0-9a-zA-Z\\s]', '', regex=True)\n",
        "\n",
        "# 소문자 통일, 특수문자 제거, 띄어쓰기 제거 (종류: 15505 -> 14840)\n",
        "train['Publisher'] = train['Publisher'].str.lower().replace('[^0-9a-zA-Z]', '', regex=True)"
      ],
      "metadata": {
        "id": "JOdWDEhOtcXc"
      },
      "id": "JOdWDEhOtcXc",
      "execution_count": 8,
      "outputs": []
    },
    {
      "cell_type": "code",
      "source": [
        "train['Book-Author'] = train['Book-Author'].str.lower().replace('[^0-9a-zA-Z]', '', regex=True)"
      ],
      "metadata": {
        "id": "ydbpwyoktdJt"
      },
      "id": "ydbpwyoktdJt",
      "execution_count": 9,
      "outputs": []
    },
    {
      "cell_type": "code",
      "source": [
        "# 출판년도 그룹화\n",
        "# 만약 출판연도가 null이 있다면 정보없음(-1)로 채움\n",
        "# train['Year-Of-Publication'] = train['Year-Of-Publication'].fillna(-1)\n",
        "\n",
        "labels = ['Unknown', '-1800', '1800-1850', '1850-1900', '1900-1910', '1910-1920', '1920-1930', '1930-1940', '1940-1950','1950-1960', '1960-1970', '1970-1980', '1980-1990', '1990-2000', '2000-2010', '2010-2020', '2020-']\n",
        "bins = [-1, 0, 1800, 1850, 1900, 1910, 1920, 1930, 1940, 1950, 1960, 1970, 1980, 1990, 2000, 2010, 2020, 3000]\n",
        "train['Pub_gb'] = pd.cut(train['Year-Of-Publication'], bins, labels = labels,include_lowest = True)\n",
        "train = train.drop(columns =['Year-Of-Publication'])\n",
        "#train['Year-Of-Publication'] = pd.cut(train['Year-Of-Publication'], bins=bins, labels=labels)\n",
        "\n",
        "\n",
        "encoder2 = LabelEncoder() #labelencoder함수를 가져온다.\n",
        "encoder2.fit(train['Pub_gb']) #내가 가지고 있는 데이터에 학습시킨다\n",
        "digit_label = encoder2.transform(train['Pub_gb'])\n",
        "train['Pub_gb'] = digit_label # encoding 잘됐나?\n",
        "#train['Pub_gb']"
      ],
      "metadata": {
        "id": "HbC7XtbztqWa"
      },
      "id": "HbC7XtbztqWa",
      "execution_count": 10,
      "outputs": []
    },
    {
      "cell_type": "code",
      "source": [
        "# Title 데이터 정리\n",
        "import re # 정규표현 모듈\n",
        "\n",
        "# 정규표현식으로 대소문자 통일, 특수문자 제거\n",
        "train['Book-Title'] = [re.sub(r'[^0-9a-zA-Z:,]',  ' ',str(i)) for i in train['Book-Title']]\n",
        "train['Main_Title'] = [i.split('  ')[0] for i in train['Book-Title']]\n",
        "train['Sub_Title'] = [''.join(i.split('  ')[1:]) for i in train['Book-Title']]\n",
        "train['Sub_Title'] = np.where(train['Sub_Title'] == '', 'No_SUB', train['Sub_Title'])"
      ],
      "metadata": {
        "id": "q9RQKqBp8R0R"
      },
      "id": "q9RQKqBp8R0R",
      "execution_count": 11,
      "outputs": []
    },
    {
      "cell_type": "code",
      "source": [
        "train.info()"
      ],
      "metadata": {
        "colab": {
          "base_uri": "https://localhost:8080/"
        },
        "id": "5UmgGed775Zb",
        "outputId": "22094eee-ebfd-4750-9554-477dad8d6569"
      },
      "id": "5UmgGed775Zb",
      "execution_count": 12,
      "outputs": [
        {
          "output_type": "stream",
          "name": "stdout",
          "text": [
            "<class 'pandas.core.frame.DataFrame'>\n",
            "RangeIndex: 871393 entries, 0 to 871392\n",
            "Data columns (total 15 columns):\n",
            " #   Column       Non-Null Count   Dtype  \n",
            "---  ------       --------------   -----  \n",
            " 0   ID           871393 non-null  object \n",
            " 1   User-ID      871393 non-null  object \n",
            " 2   Book-ID      871393 non-null  object \n",
            " 3   Book-Rating  871393 non-null  int64  \n",
            " 4   Age          871393 non-null  float64\n",
            " 5   Book-Title   871393 non-null  object \n",
            " 6   Book-Author  871393 non-null  object \n",
            " 7   Publisher    871393 non-null  object \n",
            " 8   city         871393 non-null  object \n",
            " 9   state        871393 non-null  object \n",
            " 10  country      871393 non-null  object \n",
            " 11  Age_group    871393 non-null  int64  \n",
            " 12  Pub_gb       871393 non-null  int64  \n",
            " 13  Main_Title   871393 non-null  object \n",
            " 14  Sub_Title    871393 non-null  object \n",
            "dtypes: float64(1), int64(3), object(11)\n",
            "memory usage: 99.7+ MB\n"
          ]
        }
      ]
    },
    {
      "cell_type": "code",
      "execution_count": 13,
      "id": "c3f0d1c7-d713-4cfd-9d71-5c809cab7b46",
      "metadata": {
        "id": "c3f0d1c7-d713-4cfd-9d71-5c809cab7b46"
      },
      "outputs": [],
      "source": [
        "y = train['Book-Rating']\n",
        "\n",
        "X = train.drop(['Book-Rating','Book-ID','Book-Title','ID'], axis=1)"
      ]
    },
    {
      "cell_type": "code",
      "execution_count": 14,
      "id": "218a6eeb-fdd2-483c-8073-98b1916d4771",
      "metadata": {
        "id": "218a6eeb-fdd2-483c-8073-98b1916d4771"
      },
      "outputs": [],
      "source": [
        "kf = StratifiedKFold(n_splits = 10, random_state = 42, shuffle = True)\n",
        "\n",
        "cat_feature = [\"User-ID\",  \"Age_group\",\"Pub_gb\",\"Publisher\",\"country\",\"Book-Author\",\"state\",\"city\",\"Main_Title\",\"Sub_Title\"]"
      ]
    },
    {
      "cell_type": "code",
      "execution_count": 15,
      "id": "9622086f-6df0-4a4b-b45f-2360e764a5b1",
      "metadata": {
        "id": "9622086f-6df0-4a4b-b45f-2360e764a5b1"
      },
      "outputs": [],
      "source": [
        "def objective_cat(trial):\n",
        "    \"\"\"\n",
        "    Objective function to tune a `CatBoostRegressor` model.\n",
        "    \"\"\"\n",
        "\n",
        "    x_train, x_test, y_train, y_test = train_test_split(X, y, test_size=0.1, random_state=42, stratify=y)\n",
        "\n",
        "    params = {\n",
        "        'objective' :  'RMSE',\n",
        "        'n_estimators':trial.suggest_int(\"n_estimators\", 30, 10000),\n",
        "        'od_wait':trial.suggest_int('od_wait', 500, 2300),\n",
        "        'learning_rate' : trial.suggest_uniform('learning_rate',0.01, 1),\n",
        "        'reg_lambda': trial.suggest_uniform('reg_lambda',1e-5,100),\n",
        "        'random_strength': trial.suggest_uniform('random_strength',10,50),\n",
        "        'depth': trial.suggest_int('depth',1, 15),\n",
        "        'min_data_in_leaf': trial.suggest_int('min_data_in_leaf',1,30),\n",
        "        'random_state' : 42,\n",
        "        'task_type' : \"GPU\",\n",
        "        'verbose' : False\n",
        "    }\n",
        "\n",
        "\n",
        "    model = CatBoostRegressor(\n",
        "        **params,\n",
        "        cat_features=[\"User-ID\",  \"Age_group\",\"Pub_gb\",\"Publisher\",\"country\",\"Book-Author\",\"state\",\"city\",\"Main_Title\",\"Sub_Title\"]\n",
        "    )\n",
        "    model.fit(x_train, y_train, eval_set = [(x_test, y_test)], early_stopping_rounds = 500, verbose = 2000)\n",
        "\n",
        "    pred = model.predict(x_test)\n",
        "\n",
        "    mae = mean_squared_error(y_test, pred, squared=False)\n",
        "\n",
        "\n",
        "    return mae"
      ]
    },
    {
      "cell_type": "code",
      "source": [
        "study = optuna.create_study(direction=\"minimize\")\n",
        "study.optimize(objective_cat, n_trials=10)"
      ],
      "metadata": {
        "colab": {
          "base_uri": "https://localhost:8080/"
        },
        "id": "hRN-YZlunveL",
        "outputId": "71094025-aae9-4417-c457-3b2e273ca90a"
      },
      "id": "hRN-YZlunveL",
      "execution_count": 16,
      "outputs": [
        {
          "output_type": "stream",
          "name": "stderr",
          "text": [
            "[I 2024-02-08 04:17:01,698] A new study created in memory with name: no-name-2f34158e-fd9d-4e08-943b-595cfe4303aa\n",
            "<ipython-input-15-88818f8e1d71>:12: FutureWarning: suggest_uniform has been deprecated in v3.0.0. This feature will be removed in v6.0.0. See https://github.com/optuna/optuna/releases/tag/v3.0.0. Use suggest_float instead.\n",
            "  'learning_rate' : trial.suggest_uniform('learning_rate',0.01, 1),\n",
            "<ipython-input-15-88818f8e1d71>:13: FutureWarning: suggest_uniform has been deprecated in v3.0.0. This feature will be removed in v6.0.0. See https://github.com/optuna/optuna/releases/tag/v3.0.0. Use suggest_float instead.\n",
            "  'reg_lambda': trial.suggest_uniform('reg_lambda',1e-5,100),\n",
            "<ipython-input-15-88818f8e1d71>:14: FutureWarning: suggest_uniform has been deprecated in v3.0.0. This feature will be removed in v6.0.0. See https://github.com/optuna/optuna/releases/tag/v3.0.0. Use suggest_float instead.\n",
            "  'random_strength': trial.suggest_uniform('random_strength',10,50),\n"
          ]
        },
        {
          "output_type": "stream",
          "name": "stdout",
          "text": [
            "0:\tlearn: 3.7327287\ttest: 3.7261244\tbest: 3.7261244 (0)\ttotal: 417ms\tremaining: 15m 48s\n",
            "bestTest = 3.263974388\n",
            "bestIteration = 82\n",
            "Shrink model to first 83 iterations.\n"
          ]
        },
        {
          "output_type": "stream",
          "name": "stderr",
          "text": [
            "[I 2024-02-08 04:21:32,986] Trial 0 finished with value: 3.2639743968932007 and parameters: {'n_estimators': 2277, 'od_wait': 2152, 'learning_rate': 0.1646443965814705, 'reg_lambda': 0.5694107471452711, 'random_strength': 16.011565490103315, 'depth': 14, 'min_data_in_leaf': 10}. Best is trial 0 with value: 3.2639743968932007.\n",
            "<ipython-input-15-88818f8e1d71>:12: FutureWarning: suggest_uniform has been deprecated in v3.0.0. This feature will be removed in v6.0.0. See https://github.com/optuna/optuna/releases/tag/v3.0.0. Use suggest_float instead.\n",
            "  'learning_rate' : trial.suggest_uniform('learning_rate',0.01, 1),\n",
            "<ipython-input-15-88818f8e1d71>:13: FutureWarning: suggest_uniform has been deprecated in v3.0.0. This feature will be removed in v6.0.0. See https://github.com/optuna/optuna/releases/tag/v3.0.0. Use suggest_float instead.\n",
            "  'reg_lambda': trial.suggest_uniform('reg_lambda',1e-5,100),\n",
            "<ipython-input-15-88818f8e1d71>:14: FutureWarning: suggest_uniform has been deprecated in v3.0.0. This feature will be removed in v6.0.0. See https://github.com/optuna/optuna/releases/tag/v3.0.0. Use suggest_float instead.\n",
            "  'random_strength': trial.suggest_uniform('random_strength',10,50),\n"
          ]
        },
        {
          "output_type": "stream",
          "name": "stdout",
          "text": [
            "0:\tlearn: 3.6720106\ttest: 3.6611461\tbest: 3.6611461 (0)\ttotal: 598ms\tremaining: 1h 28m 52s\n",
            "bestTest = 3.261350147\n",
            "bestIteration = 122\n",
            "Shrink model to first 123 iterations.\n"
          ]
        },
        {
          "output_type": "stream",
          "name": "stderr",
          "text": [
            "[I 2024-02-08 04:24:52,088] Trial 1 finished with value: 3.2613502353226975 and parameters: {'n_estimators': 8922, 'od_wait': 972, 'learning_rate': 0.3135561212272636, 'reg_lambda': 94.19760520316446, 'random_strength': 39.467861165075355, 'depth': 13, 'min_data_in_leaf': 14}. Best is trial 1 with value: 3.2613502353226975.\n",
            "<ipython-input-15-88818f8e1d71>:12: FutureWarning: suggest_uniform has been deprecated in v3.0.0. This feature will be removed in v6.0.0. See https://github.com/optuna/optuna/releases/tag/v3.0.0. Use suggest_float instead.\n",
            "  'learning_rate' : trial.suggest_uniform('learning_rate',0.01, 1),\n",
            "<ipython-input-15-88818f8e1d71>:13: FutureWarning: suggest_uniform has been deprecated in v3.0.0. This feature will be removed in v6.0.0. See https://github.com/optuna/optuna/releases/tag/v3.0.0. Use suggest_float instead.\n",
            "  'reg_lambda': trial.suggest_uniform('reg_lambda',1e-5,100),\n",
            "<ipython-input-15-88818f8e1d71>:14: FutureWarning: suggest_uniform has been deprecated in v3.0.0. This feature will be removed in v6.0.0. See https://github.com/optuna/optuna/releases/tag/v3.0.0. Use suggest_float instead.\n",
            "  'random_strength': trial.suggest_uniform('random_strength',10,50),\n"
          ]
        },
        {
          "output_type": "stream",
          "name": "stdout",
          "text": [
            "0:\tlearn: 3.7349906\ttest: 3.7279370\tbest: 3.7279370 (0)\ttotal: 97.9ms\tremaining: 7m 52s\n",
            "2000:\tlearn: 3.2577496\ttest: 3.2529109\tbest: 3.2524290 (1777)\ttotal: 3m 2s\tremaining: 4m 17s\n",
            "bestTest = 3.25242898\n",
            "bestIteration = 1777\n",
            "Shrink model to first 1778 iterations.\n"
          ]
        },
        {
          "output_type": "stream",
          "name": "stderr",
          "text": [
            "[I 2024-02-08 04:28:42,192] Trial 2 finished with value: 3.252429009793645 and parameters: {'n_estimators': 4822, 'od_wait': 1223, 'learning_rate': 0.19963138991116713, 'reg_lambda': 41.05265423218033, 'random_strength': 33.4850484271053, 'depth': 6, 'min_data_in_leaf': 12}. Best is trial 2 with value: 3.252429009793645.\n",
            "<ipython-input-15-88818f8e1d71>:12: FutureWarning: suggest_uniform has been deprecated in v3.0.0. This feature will be removed in v6.0.0. See https://github.com/optuna/optuna/releases/tag/v3.0.0. Use suggest_float instead.\n",
            "  'learning_rate' : trial.suggest_uniform('learning_rate',0.01, 1),\n",
            "<ipython-input-15-88818f8e1d71>:13: FutureWarning: suggest_uniform has been deprecated in v3.0.0. This feature will be removed in v6.0.0. See https://github.com/optuna/optuna/releases/tag/v3.0.0. Use suggest_float instead.\n",
            "  'reg_lambda': trial.suggest_uniform('reg_lambda',1e-5,100),\n",
            "<ipython-input-15-88818f8e1d71>:14: FutureWarning: suggest_uniform has been deprecated in v3.0.0. This feature will be removed in v6.0.0. See https://github.com/optuna/optuna/releases/tag/v3.0.0. Use suggest_float instead.\n",
            "  'random_strength': trial.suggest_uniform('random_strength',10,50),\n"
          ]
        },
        {
          "output_type": "stream",
          "name": "stdout",
          "text": [
            "0:\tlearn: 3.5770122\ttest: 3.5579716\tbest: 3.5579716 (0)\ttotal: 313ms\tremaining: 2m 44s\n",
            "525:\tlearn: 2.6334973\ttest: 3.3598371\tbest: 3.2763838 (50)\ttotal: 2m 18s\tremaining: 0us\n",
            "bestTest = 3.276383766\n",
            "bestIteration = 50\n",
            "Shrink model to first 51 iterations.\n"
          ]
        },
        {
          "output_type": "stream",
          "name": "stderr",
          "text": [
            "[I 2024-02-08 04:31:13,448] Trial 3 finished with value: 3.276383872488861 and parameters: {'n_estimators': 526, 'od_wait': 977, 'learning_rate': 0.5502377799625005, 'reg_lambda': 90.64211754026942, 'random_strength': 34.909387144849596, 'depth': 13, 'min_data_in_leaf': 24}. Best is trial 2 with value: 3.252429009793645.\n",
            "<ipython-input-15-88818f8e1d71>:12: FutureWarning: suggest_uniform has been deprecated in v3.0.0. This feature will be removed in v6.0.0. See https://github.com/optuna/optuna/releases/tag/v3.0.0. Use suggest_float instead.\n",
            "  'learning_rate' : trial.suggest_uniform('learning_rate',0.01, 1),\n",
            "<ipython-input-15-88818f8e1d71>:13: FutureWarning: suggest_uniform has been deprecated in v3.0.0. This feature will be removed in v6.0.0. See https://github.com/optuna/optuna/releases/tag/v3.0.0. Use suggest_float instead.\n",
            "  'reg_lambda': trial.suggest_uniform('reg_lambda',1e-5,100),\n",
            "<ipython-input-15-88818f8e1d71>:14: FutureWarning: suggest_uniform has been deprecated in v3.0.0. This feature will be removed in v6.0.0. See https://github.com/optuna/optuna/releases/tag/v3.0.0. Use suggest_float instead.\n",
            "  'random_strength': trial.suggest_uniform('random_strength',10,50),\n"
          ]
        },
        {
          "output_type": "stream",
          "name": "stdout",
          "text": [
            "0:\tlearn: 3.6081633\ttest: 3.5893280\tbest: 3.5893280 (0)\ttotal: 82.9ms\tremaining: 11m 27s\n",
            "bestTest = 3.260197231\n",
            "bestIteration = 450\n",
            "Shrink model to first 451 iterations.\n"
          ]
        },
        {
          "output_type": "stream",
          "name": "stderr",
          "text": [
            "[I 2024-02-08 04:32:45,108] Trial 4 finished with value: 3.2601971448146627 and parameters: {'n_estimators': 8287, 'od_wait': 1320, 'learning_rate': 0.5083742885503584, 'reg_lambda': 40.61760397783566, 'random_strength': 27.29488626639462, 'depth': 5, 'min_data_in_leaf': 15}. Best is trial 2 with value: 3.252429009793645.\n",
            "<ipython-input-15-88818f8e1d71>:12: FutureWarning: suggest_uniform has been deprecated in v3.0.0. This feature will be removed in v6.0.0. See https://github.com/optuna/optuna/releases/tag/v3.0.0. Use suggest_float instead.\n",
            "  'learning_rate' : trial.suggest_uniform('learning_rate',0.01, 1),\n",
            "<ipython-input-15-88818f8e1d71>:13: FutureWarning: suggest_uniform has been deprecated in v3.0.0. This feature will be removed in v6.0.0. See https://github.com/optuna/optuna/releases/tag/v3.0.0. Use suggest_float instead.\n",
            "  'reg_lambda': trial.suggest_uniform('reg_lambda',1e-5,100),\n",
            "<ipython-input-15-88818f8e1d71>:14: FutureWarning: suggest_uniform has been deprecated in v3.0.0. This feature will be removed in v6.0.0. See https://github.com/optuna/optuna/releases/tag/v3.0.0. Use suggest_float instead.\n",
            "  'random_strength': trial.suggest_uniform('random_strength',10,50),\n"
          ]
        },
        {
          "output_type": "stream",
          "name": "stdout",
          "text": [
            "0:\tlearn: 3.6441472\ttest: 3.6295970\tbest: 3.6295970 (0)\ttotal: 76.5ms\tremaining: 10m 43s\n",
            "2000:\tlearn: 3.2859649\ttest: 3.2575441\tbest: 3.2572579 (1881)\ttotal: 2m 21s\tremaining: 7m 33s\n",
            "bestTest = 3.257257944\n",
            "bestIteration = 1881\n",
            "Shrink model to first 1882 iterations.\n"
          ]
        },
        {
          "output_type": "stream",
          "name": "stderr",
          "text": [
            "[I 2024-02-08 04:35:50,126] Trial 5 finished with value: 3.257257776191725 and parameters: {'n_estimators': 8419, 'od_wait': 1887, 'learning_rate': 0.4088932174993177, 'reg_lambda': 98.56055160589437, 'random_strength': 21.758432036946502, 'depth': 4, 'min_data_in_leaf': 15}. Best is trial 2 with value: 3.252429009793645.\n",
            "<ipython-input-15-88818f8e1d71>:12: FutureWarning: suggest_uniform has been deprecated in v3.0.0. This feature will be removed in v6.0.0. See https://github.com/optuna/optuna/releases/tag/v3.0.0. Use suggest_float instead.\n",
            "  'learning_rate' : trial.suggest_uniform('learning_rate',0.01, 1),\n",
            "<ipython-input-15-88818f8e1d71>:13: FutureWarning: suggest_uniform has been deprecated in v3.0.0. This feature will be removed in v6.0.0. See https://github.com/optuna/optuna/releases/tag/v3.0.0. Use suggest_float instead.\n",
            "  'reg_lambda': trial.suggest_uniform('reg_lambda',1e-5,100),\n",
            "<ipython-input-15-88818f8e1d71>:14: FutureWarning: suggest_uniform has been deprecated in v3.0.0. This feature will be removed in v6.0.0. See https://github.com/optuna/optuna/releases/tag/v3.0.0. Use suggest_float instead.\n",
            "  'random_strength': trial.suggest_uniform('random_strength',10,50),\n"
          ]
        },
        {
          "output_type": "stream",
          "name": "stdout",
          "text": [
            "0:\tlearn: 3.5871425\ttest: 3.5639833\tbest: 3.5639833 (0)\ttotal: 39.2ms\tremaining: 1m 59s\n",
            "2000:\tlearn: 3.3128342\ttest: 3.2641408\tbest: 3.2637621 (1592)\ttotal: 1m 1s\tremaining: 32.3s\n",
            "bestTest = 3.263762109\n",
            "bestIteration = 1592\n",
            "Shrink model to first 1593 iterations.\n"
          ]
        },
        {
          "output_type": "stream",
          "name": "stderr",
          "text": [
            "[I 2024-02-08 04:37:05,980] Trial 6 finished with value: 3.263762410823021 and parameters: {'n_estimators': 3059, 'od_wait': 737, 'learning_rate': 0.6502645850869276, 'reg_lambda': 77.71978201001555, 'random_strength': 10.060855489060497, 'depth': 2, 'min_data_in_leaf': 8}. Best is trial 2 with value: 3.252429009793645.\n",
            "<ipython-input-15-88818f8e1d71>:12: FutureWarning: suggest_uniform has been deprecated in v3.0.0. This feature will be removed in v6.0.0. See https://github.com/optuna/optuna/releases/tag/v3.0.0. Use suggest_float instead.\n",
            "  'learning_rate' : trial.suggest_uniform('learning_rate',0.01, 1),\n",
            "<ipython-input-15-88818f8e1d71>:13: FutureWarning: suggest_uniform has been deprecated in v3.0.0. This feature will be removed in v6.0.0. See https://github.com/optuna/optuna/releases/tag/v3.0.0. Use suggest_float instead.\n",
            "  'reg_lambda': trial.suggest_uniform('reg_lambda',1e-5,100),\n",
            "<ipython-input-15-88818f8e1d71>:14: FutureWarning: suggest_uniform has been deprecated in v3.0.0. This feature will be removed in v6.0.0. See https://github.com/optuna/optuna/releases/tag/v3.0.0. Use suggest_float instead.\n",
            "  'random_strength': trial.suggest_uniform('random_strength',10,50),\n"
          ]
        },
        {
          "output_type": "stream",
          "name": "stdout",
          "text": [
            "0:\tlearn: 3.6507567\ttest: 3.6352357\tbest: 3.6352357 (0)\ttotal: 592ms\tremaining: 38m 49s\n",
            "bestTest = 3.280531694\n",
            "bestIteration = 27\n",
            "Shrink model to first 28 iterations.\n"
          ]
        },
        {
          "output_type": "stream",
          "name": "stderr",
          "text": [
            "[I 2024-02-08 04:42:39,883] Trial 7 finished with value: 3.2805317662313964 and parameters: {'n_estimators': 3934, 'od_wait': 897, 'learning_rate': 0.3021114288301562, 'reg_lambda': 1.108309939341069, 'random_strength': 12.44840802888191, 'depth': 15, 'min_data_in_leaf': 11}. Best is trial 2 with value: 3.252429009793645.\n",
            "<ipython-input-15-88818f8e1d71>:12: FutureWarning: suggest_uniform has been deprecated in v3.0.0. This feature will be removed in v6.0.0. See https://github.com/optuna/optuna/releases/tag/v3.0.0. Use suggest_float instead.\n",
            "  'learning_rate' : trial.suggest_uniform('learning_rate',0.01, 1),\n",
            "<ipython-input-15-88818f8e1d71>:13: FutureWarning: suggest_uniform has been deprecated in v3.0.0. This feature will be removed in v6.0.0. See https://github.com/optuna/optuna/releases/tag/v3.0.0. Use suggest_float instead.\n",
            "  'reg_lambda': trial.suggest_uniform('reg_lambda',1e-5,100),\n",
            "<ipython-input-15-88818f8e1d71>:14: FutureWarning: suggest_uniform has been deprecated in v3.0.0. This feature will be removed in v6.0.0. See https://github.com/optuna/optuna/releases/tag/v3.0.0. Use suggest_float instead.\n",
            "  'random_strength': trial.suggest_uniform('random_strength',10,50),\n"
          ]
        },
        {
          "output_type": "stream",
          "name": "stdout",
          "text": [
            "0:\tlearn: 3.5059358\ttest: 3.4749982\tbest: 3.4749982 (0)\ttotal: 233ms\tremaining: 26m 50s\n",
            "bestTest = 3.292761272\n",
            "bestIteration = 22\n",
            "Shrink model to first 23 iterations.\n"
          ]
        },
        {
          "output_type": "stream",
          "name": "stderr",
          "text": [
            "[I 2024-02-08 04:44:34,934] Trial 8 finished with value: 3.2927611273052912 and parameters: {'n_estimators': 6927, 'od_wait': 2282, 'learning_rate': 0.8337333675326404, 'reg_lambda': 28.359423221445446, 'random_strength': 35.5415452680095, 'depth': 12, 'min_data_in_leaf': 10}. Best is trial 2 with value: 3.252429009793645.\n",
            "<ipython-input-15-88818f8e1d71>:12: FutureWarning: suggest_uniform has been deprecated in v3.0.0. This feature will be removed in v6.0.0. See https://github.com/optuna/optuna/releases/tag/v3.0.0. Use suggest_float instead.\n",
            "  'learning_rate' : trial.suggest_uniform('learning_rate',0.01, 1),\n",
            "<ipython-input-15-88818f8e1d71>:13: FutureWarning: suggest_uniform has been deprecated in v3.0.0. This feature will be removed in v6.0.0. See https://github.com/optuna/optuna/releases/tag/v3.0.0. Use suggest_float instead.\n",
            "  'reg_lambda': trial.suggest_uniform('reg_lambda',1e-5,100),\n",
            "<ipython-input-15-88818f8e1d71>:14: FutureWarning: suggest_uniform has been deprecated in v3.0.0. This feature will be removed in v6.0.0. See https://github.com/optuna/optuna/releases/tag/v3.0.0. Use suggest_float instead.\n",
            "  'random_strength': trial.suggest_uniform('random_strength',10,50),\n"
          ]
        },
        {
          "output_type": "stream",
          "name": "stdout",
          "text": [
            "0:\tlearn: 3.5673084\ttest: 3.5429224\tbest: 3.5429224 (0)\ttotal: 56.2ms\tremaining: 3m 32s\n",
            "2000:\tlearn: 3.2973728\ttest: 3.2595903\tbest: 3.2592907 (1781)\ttotal: 1m 42s\tremaining: 1m 31s\n",
            "bestTest = 3.259164618\n",
            "bestIteration = 2502\n",
            "Shrink model to first 2503 iterations.\n"
          ]
        },
        {
          "output_type": "stream",
          "name": "stderr",
          "text": [
            "[I 2024-02-08 04:47:24,706] Trial 9 finished with value: 3.2591646640410357 and parameters: {'n_estimators': 3786, 'od_wait': 1158, 'learning_rate': 0.6699988159060445, 'reg_lambda': 63.286206389278114, 'random_strength': 44.22922035957264, 'depth': 3, 'min_data_in_leaf': 9}. Best is trial 2 with value: 3.252429009793645.\n"
          ]
        }
      ]
    },
    {
      "cell_type": "code",
      "execution_count": 17,
      "id": "97e5daf9-254d-4110-95d4-e71e2ec697df",
      "metadata": {
        "id": "97e5daf9-254d-4110-95d4-e71e2ec697df"
      },
      "outputs": [],
      "source": [
        "params=study.best_params\n",
        "params['objective'] = 'RMSE'\n",
        "params['random_state'] = 42\n",
        "params['verbose'] = False\n",
        "params['task_type'] = \"GPU\"\n",
        "params['cat_features'] = [\"User-ID\",  \"Age_group\",\"Pub_gb\",\"Publisher\",\"country\",\"Book-Author\",\"state\",\"city\",\"Main_Title\",\"Sub_Title\"]"
      ]
    },
    {
      "cell_type": "code",
      "execution_count": 18,
      "id": "6ceebced-59c1-407e-a524-9cffa7c40d20",
      "metadata": {
        "id": "6ceebced-59c1-407e-a524-9cffa7c40d20",
        "colab": {
          "base_uri": "https://localhost:8080/"
        },
        "outputId": "d7141272-f41d-4e57-be2b-7171c22e32bd"
      },
      "outputs": [
        {
          "output_type": "stream",
          "name": "stdout",
          "text": [
            "Best Score: 3.252429009793645\n",
            "Best trial: {'n_estimators': 4822, 'od_wait': 1223, 'learning_rate': 0.19963138991116713, 'reg_lambda': 41.05265423218033, 'random_strength': 33.4850484271053, 'depth': 6, 'min_data_in_leaf': 12}\n"
          ]
        }
      ],
      "source": [
        "print(\"Best Score:\", study.best_value)\n",
        "print(\"Best trial:\", study.best_trial.params)"
      ]
    },
    {
      "cell_type": "code",
      "source": [
        "# 시각화\n",
        "optuna.visualization.plot_optimization_history(study)"
      ],
      "metadata": {
        "id": "1_Ep9geRpN9e",
        "colab": {
          "base_uri": "https://localhost:8080/",
          "height": 542
        },
        "outputId": "21854889-ff1f-4f29-de88-14495eb796f5"
      },
      "id": "1_Ep9geRpN9e",
      "execution_count": 19,
      "outputs": [
        {
          "output_type": "display_data",
          "data": {
            "text/html": [
              "<html>\n",
              "<head><meta charset=\"utf-8\" /></head>\n",
              "<body>\n",
              "    <div>            <script src=\"https://cdnjs.cloudflare.com/ajax/libs/mathjax/2.7.5/MathJax.js?config=TeX-AMS-MML_SVG\"></script><script type=\"text/javascript\">if (window.MathJax && window.MathJax.Hub && window.MathJax.Hub.Config) {window.MathJax.Hub.Config({SVG: {font: \"STIX-Web\"}});}</script>                <script type=\"text/javascript\">window.PlotlyConfig = {MathJaxConfig: 'local'};</script>\n",
              "        <script charset=\"utf-8\" src=\"https://cdn.plot.ly/plotly-2.24.1.min.js\"></script>                <div id=\"63140900-9200-4d7f-ae6e-5768006f52c3\" class=\"plotly-graph-div\" style=\"height:525px; width:100%;\"></div>            <script type=\"text/javascript\">                                    window.PLOTLYENV=window.PLOTLYENV || {};                                    if (document.getElementById(\"63140900-9200-4d7f-ae6e-5768006f52c3\")) {                    Plotly.newPlot(                        \"63140900-9200-4d7f-ae6e-5768006f52c3\",                        [{\"mode\":\"markers\",\"name\":\"Objective Value\",\"x\":[0,1,2,3,4,5,6,7,8,9],\"y\":[3.2639743968932007,3.2613502353226975,3.252429009793645,3.276383872488861,3.2601971448146627,3.257257776191725,3.263762410823021,3.2805317662313964,3.2927611273052912,3.2591646640410357],\"type\":\"scatter\"},{\"mode\":\"lines\",\"name\":\"Best Value\",\"x\":[0,1,2,3,4,5,6,7,8,9],\"y\":[3.2639743968932007,3.2613502353226975,3.252429009793645,3.252429009793645,3.252429009793645,3.252429009793645,3.252429009793645,3.252429009793645,3.252429009793645,3.252429009793645],\"type\":\"scatter\"},{\"marker\":{\"color\":\"#cccccc\"},\"mode\":\"markers\",\"name\":\"Infeasible Trial\",\"showlegend\":false,\"x\":[],\"y\":[],\"type\":\"scatter\"}],                        {\"title\":{\"text\":\"Optimization History Plot\"},\"xaxis\":{\"title\":{\"text\":\"Trial\"}},\"yaxis\":{\"title\":{\"text\":\"Objective Value\"}},\"template\":{\"data\":{\"histogram2dcontour\":[{\"type\":\"histogram2dcontour\",\"colorbar\":{\"outlinewidth\":0,\"ticks\":\"\"},\"colorscale\":[[0.0,\"#0d0887\"],[0.1111111111111111,\"#46039f\"],[0.2222222222222222,\"#7201a8\"],[0.3333333333333333,\"#9c179e\"],[0.4444444444444444,\"#bd3786\"],[0.5555555555555556,\"#d8576b\"],[0.6666666666666666,\"#ed7953\"],[0.7777777777777778,\"#fb9f3a\"],[0.8888888888888888,\"#fdca26\"],[1.0,\"#f0f921\"]]}],\"choropleth\":[{\"type\":\"choropleth\",\"colorbar\":{\"outlinewidth\":0,\"ticks\":\"\"}}],\"histogram2d\":[{\"type\":\"histogram2d\",\"colorbar\":{\"outlinewidth\":0,\"ticks\":\"\"},\"colorscale\":[[0.0,\"#0d0887\"],[0.1111111111111111,\"#46039f\"],[0.2222222222222222,\"#7201a8\"],[0.3333333333333333,\"#9c179e\"],[0.4444444444444444,\"#bd3786\"],[0.5555555555555556,\"#d8576b\"],[0.6666666666666666,\"#ed7953\"],[0.7777777777777778,\"#fb9f3a\"],[0.8888888888888888,\"#fdca26\"],[1.0,\"#f0f921\"]]}],\"heatmap\":[{\"type\":\"heatmap\",\"colorbar\":{\"outlinewidth\":0,\"ticks\":\"\"},\"colorscale\":[[0.0,\"#0d0887\"],[0.1111111111111111,\"#46039f\"],[0.2222222222222222,\"#7201a8\"],[0.3333333333333333,\"#9c179e\"],[0.4444444444444444,\"#bd3786\"],[0.5555555555555556,\"#d8576b\"],[0.6666666666666666,\"#ed7953\"],[0.7777777777777778,\"#fb9f3a\"],[0.8888888888888888,\"#fdca26\"],[1.0,\"#f0f921\"]]}],\"heatmapgl\":[{\"type\":\"heatmapgl\",\"colorbar\":{\"outlinewidth\":0,\"ticks\":\"\"},\"colorscale\":[[0.0,\"#0d0887\"],[0.1111111111111111,\"#46039f\"],[0.2222222222222222,\"#7201a8\"],[0.3333333333333333,\"#9c179e\"],[0.4444444444444444,\"#bd3786\"],[0.5555555555555556,\"#d8576b\"],[0.6666666666666666,\"#ed7953\"],[0.7777777777777778,\"#fb9f3a\"],[0.8888888888888888,\"#fdca26\"],[1.0,\"#f0f921\"]]}],\"contourcarpet\":[{\"type\":\"contourcarpet\",\"colorbar\":{\"outlinewidth\":0,\"ticks\":\"\"}}],\"contour\":[{\"type\":\"contour\",\"colorbar\":{\"outlinewidth\":0,\"ticks\":\"\"},\"colorscale\":[[0.0,\"#0d0887\"],[0.1111111111111111,\"#46039f\"],[0.2222222222222222,\"#7201a8\"],[0.3333333333333333,\"#9c179e\"],[0.4444444444444444,\"#bd3786\"],[0.5555555555555556,\"#d8576b\"],[0.6666666666666666,\"#ed7953\"],[0.7777777777777778,\"#fb9f3a\"],[0.8888888888888888,\"#fdca26\"],[1.0,\"#f0f921\"]]}],\"surface\":[{\"type\":\"surface\",\"colorbar\":{\"outlinewidth\":0,\"ticks\":\"\"},\"colorscale\":[[0.0,\"#0d0887\"],[0.1111111111111111,\"#46039f\"],[0.2222222222222222,\"#7201a8\"],[0.3333333333333333,\"#9c179e\"],[0.4444444444444444,\"#bd3786\"],[0.5555555555555556,\"#d8576b\"],[0.6666666666666666,\"#ed7953\"],[0.7777777777777778,\"#fb9f3a\"],[0.8888888888888888,\"#fdca26\"],[1.0,\"#f0f921\"]]}],\"mesh3d\":[{\"type\":\"mesh3d\",\"colorbar\":{\"outlinewidth\":0,\"ticks\":\"\"}}],\"scatter\":[{\"fillpattern\":{\"fillmode\":\"overlay\",\"size\":10,\"solidity\":0.2},\"type\":\"scatter\"}],\"parcoords\":[{\"type\":\"parcoords\",\"line\":{\"colorbar\":{\"outlinewidth\":0,\"ticks\":\"\"}}}],\"scatterpolargl\":[{\"type\":\"scatterpolargl\",\"marker\":{\"colorbar\":{\"outlinewidth\":0,\"ticks\":\"\"}}}],\"bar\":[{\"error_x\":{\"color\":\"#2a3f5f\"},\"error_y\":{\"color\":\"#2a3f5f\"},\"marker\":{\"line\":{\"color\":\"#E5ECF6\",\"width\":0.5},\"pattern\":{\"fillmode\":\"overlay\",\"size\":10,\"solidity\":0.2}},\"type\":\"bar\"}],\"scattergeo\":[{\"type\":\"scattergeo\",\"marker\":{\"colorbar\":{\"outlinewidth\":0,\"ticks\":\"\"}}}],\"scatterpolar\":[{\"type\":\"scatterpolar\",\"marker\":{\"colorbar\":{\"outlinewidth\":0,\"ticks\":\"\"}}}],\"histogram\":[{\"marker\":{\"pattern\":{\"fillmode\":\"overlay\",\"size\":10,\"solidity\":0.2}},\"type\":\"histogram\"}],\"scattergl\":[{\"type\":\"scattergl\",\"marker\":{\"colorbar\":{\"outlinewidth\":0,\"ticks\":\"\"}}}],\"scatter3d\":[{\"type\":\"scatter3d\",\"line\":{\"colorbar\":{\"outlinewidth\":0,\"ticks\":\"\"}},\"marker\":{\"colorbar\":{\"outlinewidth\":0,\"ticks\":\"\"}}}],\"scattermapbox\":[{\"type\":\"scattermapbox\",\"marker\":{\"colorbar\":{\"outlinewidth\":0,\"ticks\":\"\"}}}],\"scatterternary\":[{\"type\":\"scatterternary\",\"marker\":{\"colorbar\":{\"outlinewidth\":0,\"ticks\":\"\"}}}],\"scattercarpet\":[{\"type\":\"scattercarpet\",\"marker\":{\"colorbar\":{\"outlinewidth\":0,\"ticks\":\"\"}}}],\"carpet\":[{\"aaxis\":{\"endlinecolor\":\"#2a3f5f\",\"gridcolor\":\"white\",\"linecolor\":\"white\",\"minorgridcolor\":\"white\",\"startlinecolor\":\"#2a3f5f\"},\"baxis\":{\"endlinecolor\":\"#2a3f5f\",\"gridcolor\":\"white\",\"linecolor\":\"white\",\"minorgridcolor\":\"white\",\"startlinecolor\":\"#2a3f5f\"},\"type\":\"carpet\"}],\"table\":[{\"cells\":{\"fill\":{\"color\":\"#EBF0F8\"},\"line\":{\"color\":\"white\"}},\"header\":{\"fill\":{\"color\":\"#C8D4E3\"},\"line\":{\"color\":\"white\"}},\"type\":\"table\"}],\"barpolar\":[{\"marker\":{\"line\":{\"color\":\"#E5ECF6\",\"width\":0.5},\"pattern\":{\"fillmode\":\"overlay\",\"size\":10,\"solidity\":0.2}},\"type\":\"barpolar\"}],\"pie\":[{\"automargin\":true,\"type\":\"pie\"}]},\"layout\":{\"autotypenumbers\":\"strict\",\"colorway\":[\"#636efa\",\"#EF553B\",\"#00cc96\",\"#ab63fa\",\"#FFA15A\",\"#19d3f3\",\"#FF6692\",\"#B6E880\",\"#FF97FF\",\"#FECB52\"],\"font\":{\"color\":\"#2a3f5f\"},\"hovermode\":\"closest\",\"hoverlabel\":{\"align\":\"left\"},\"paper_bgcolor\":\"white\",\"plot_bgcolor\":\"#E5ECF6\",\"polar\":{\"bgcolor\":\"#E5ECF6\",\"angularaxis\":{\"gridcolor\":\"white\",\"linecolor\":\"white\",\"ticks\":\"\"},\"radialaxis\":{\"gridcolor\":\"white\",\"linecolor\":\"white\",\"ticks\":\"\"}},\"ternary\":{\"bgcolor\":\"#E5ECF6\",\"aaxis\":{\"gridcolor\":\"white\",\"linecolor\":\"white\",\"ticks\":\"\"},\"baxis\":{\"gridcolor\":\"white\",\"linecolor\":\"white\",\"ticks\":\"\"},\"caxis\":{\"gridcolor\":\"white\",\"linecolor\":\"white\",\"ticks\":\"\"}},\"coloraxis\":{\"colorbar\":{\"outlinewidth\":0,\"ticks\":\"\"}},\"colorscale\":{\"sequential\":[[0.0,\"#0d0887\"],[0.1111111111111111,\"#46039f\"],[0.2222222222222222,\"#7201a8\"],[0.3333333333333333,\"#9c179e\"],[0.4444444444444444,\"#bd3786\"],[0.5555555555555556,\"#d8576b\"],[0.6666666666666666,\"#ed7953\"],[0.7777777777777778,\"#fb9f3a\"],[0.8888888888888888,\"#fdca26\"],[1.0,\"#f0f921\"]],\"sequentialminus\":[[0.0,\"#0d0887\"],[0.1111111111111111,\"#46039f\"],[0.2222222222222222,\"#7201a8\"],[0.3333333333333333,\"#9c179e\"],[0.4444444444444444,\"#bd3786\"],[0.5555555555555556,\"#d8576b\"],[0.6666666666666666,\"#ed7953\"],[0.7777777777777778,\"#fb9f3a\"],[0.8888888888888888,\"#fdca26\"],[1.0,\"#f0f921\"]],\"diverging\":[[0,\"#8e0152\"],[0.1,\"#c51b7d\"],[0.2,\"#de77ae\"],[0.3,\"#f1b6da\"],[0.4,\"#fde0ef\"],[0.5,\"#f7f7f7\"],[0.6,\"#e6f5d0\"],[0.7,\"#b8e186\"],[0.8,\"#7fbc41\"],[0.9,\"#4d9221\"],[1,\"#276419\"]]},\"xaxis\":{\"gridcolor\":\"white\",\"linecolor\":\"white\",\"ticks\":\"\",\"title\":{\"standoff\":15},\"zerolinecolor\":\"white\",\"automargin\":true,\"zerolinewidth\":2},\"yaxis\":{\"gridcolor\":\"white\",\"linecolor\":\"white\",\"ticks\":\"\",\"title\":{\"standoff\":15},\"zerolinecolor\":\"white\",\"automargin\":true,\"zerolinewidth\":2},\"scene\":{\"xaxis\":{\"backgroundcolor\":\"#E5ECF6\",\"gridcolor\":\"white\",\"linecolor\":\"white\",\"showbackground\":true,\"ticks\":\"\",\"zerolinecolor\":\"white\",\"gridwidth\":2},\"yaxis\":{\"backgroundcolor\":\"#E5ECF6\",\"gridcolor\":\"white\",\"linecolor\":\"white\",\"showbackground\":true,\"ticks\":\"\",\"zerolinecolor\":\"white\",\"gridwidth\":2},\"zaxis\":{\"backgroundcolor\":\"#E5ECF6\",\"gridcolor\":\"white\",\"linecolor\":\"white\",\"showbackground\":true,\"ticks\":\"\",\"zerolinecolor\":\"white\",\"gridwidth\":2}},\"shapedefaults\":{\"line\":{\"color\":\"#2a3f5f\"}},\"annotationdefaults\":{\"arrowcolor\":\"#2a3f5f\",\"arrowhead\":0,\"arrowwidth\":1},\"geo\":{\"bgcolor\":\"white\",\"landcolor\":\"#E5ECF6\",\"subunitcolor\":\"white\",\"showland\":true,\"showlakes\":true,\"lakecolor\":\"white\"},\"title\":{\"x\":0.05},\"mapbox\":{\"style\":\"light\"}}}},                        {\"responsive\": true}                    ).then(function(){\n",
              "                            \n",
              "var gd = document.getElementById('63140900-9200-4d7f-ae6e-5768006f52c3');\n",
              "var x = new MutationObserver(function (mutations, observer) {{\n",
              "        var display = window.getComputedStyle(gd).display;\n",
              "        if (!display || display === 'none') {{\n",
              "            console.log([gd, 'removed!']);\n",
              "            Plotly.purge(gd);\n",
              "            observer.disconnect();\n",
              "        }}\n",
              "}});\n",
              "\n",
              "// Listen for the removal of the full notebook cells\n",
              "var notebookContainer = gd.closest('#notebook-container');\n",
              "if (notebookContainer) {{\n",
              "    x.observe(notebookContainer, {childList: true});\n",
              "}}\n",
              "\n",
              "// Listen for the clearing of the current output cell\n",
              "var outputEl = gd.closest('.output');\n",
              "if (outputEl) {{\n",
              "    x.observe(outputEl, {childList: true});\n",
              "}}\n",
              "\n",
              "                        })                };                            </script>        </div>\n",
              "</body>\n",
              "</html>"
            ]
          },
          "metadata": {}
        }
      ]
    },
    {
      "cell_type": "code",
      "execution_count": 20,
      "id": "e9165bd1-b96e-44b3-8c20-a3bb2ca5df9a",
      "metadata": {
        "id": "e9165bd1-b96e-44b3-8c20-a3bb2ca5df9a",
        "colab": {
          "base_uri": "https://localhost:8080/",
          "height": 542
        },
        "outputId": "d2b2c4c4-186f-4609-e6c8-6b88774c38f4"
      },
      "outputs": [
        {
          "output_type": "display_data",
          "data": {
            "text/html": [
              "<html>\n",
              "<head><meta charset=\"utf-8\" /></head>\n",
              "<body>\n",
              "    <div>            <script src=\"https://cdnjs.cloudflare.com/ajax/libs/mathjax/2.7.5/MathJax.js?config=TeX-AMS-MML_SVG\"></script><script type=\"text/javascript\">if (window.MathJax && window.MathJax.Hub && window.MathJax.Hub.Config) {window.MathJax.Hub.Config({SVG: {font: \"STIX-Web\"}});}</script>                <script type=\"text/javascript\">window.PlotlyConfig = {MathJaxConfig: 'local'};</script>\n",
              "        <script charset=\"utf-8\" src=\"https://cdn.plot.ly/plotly-2.24.1.min.js\"></script>                <div id=\"d7ad68ef-36f3-4f43-8bab-38f9e803b640\" class=\"plotly-graph-div\" style=\"height:525px; width:100%;\"></div>            <script type=\"text/javascript\">                                    window.PLOTLYENV=window.PLOTLYENV || {};                                    if (document.getElementById(\"d7ad68ef-36f3-4f43-8bab-38f9e803b640\")) {                    Plotly.newPlot(                        \"d7ad68ef-36f3-4f43-8bab-38f9e803b640\",                        [{\"cliponaxis\":false,\"hovertemplate\":[\"random_strength (FloatDistribution): 0.07285605665646512\\u003cextra\\u003e\\u003c\\u002fextra\\u003e\",\"min_data_in_leaf (IntDistribution): 0.08507248467712027\\u003cextra\\u003e\\u003c\\u002fextra\\u003e\",\"od_wait (IntDistribution): 0.1198335537100304\\u003cextra\\u003e\\u003c\\u002fextra\\u003e\",\"n_estimators (IntDistribution): 0.12896115454704252\\u003cextra\\u003e\\u003c\\u002fextra\\u003e\",\"learning_rate (FloatDistribution): 0.1662368098372901\\u003cextra\\u003e\\u003c\\u002fextra\\u003e\",\"reg_lambda (FloatDistribution): 0.1877783855245053\\u003cextra\\u003e\\u003c\\u002fextra\\u003e\",\"depth (IntDistribution): 0.23926155504754612\\u003cextra\\u003e\\u003c\\u002fextra\\u003e\"],\"name\":\"Objective Value\",\"orientation\":\"h\",\"text\":[\"0.07\",\"0.09\",\"0.12\",\"0.13\",\"0.17\",\"0.19\",\"0.24\"],\"textposition\":\"outside\",\"x\":[0.07285605665646512,0.08507248467712027,0.1198335537100304,0.12896115454704252,0.1662368098372901,0.1877783855245053,0.23926155504754612],\"y\":[\"random_strength\",\"min_data_in_leaf\",\"od_wait\",\"n_estimators\",\"learning_rate\",\"reg_lambda\",\"depth\"],\"type\":\"bar\"}],                        {\"title\":{\"text\":\"Hyperparameter Importances\"},\"xaxis\":{\"title\":{\"text\":\"Hyperparameter Importance\"}},\"yaxis\":{\"title\":{\"text\":\"Hyperparameter\"}},\"template\":{\"data\":{\"histogram2dcontour\":[{\"type\":\"histogram2dcontour\",\"colorbar\":{\"outlinewidth\":0,\"ticks\":\"\"},\"colorscale\":[[0.0,\"#0d0887\"],[0.1111111111111111,\"#46039f\"],[0.2222222222222222,\"#7201a8\"],[0.3333333333333333,\"#9c179e\"],[0.4444444444444444,\"#bd3786\"],[0.5555555555555556,\"#d8576b\"],[0.6666666666666666,\"#ed7953\"],[0.7777777777777778,\"#fb9f3a\"],[0.8888888888888888,\"#fdca26\"],[1.0,\"#f0f921\"]]}],\"choropleth\":[{\"type\":\"choropleth\",\"colorbar\":{\"outlinewidth\":0,\"ticks\":\"\"}}],\"histogram2d\":[{\"type\":\"histogram2d\",\"colorbar\":{\"outlinewidth\":0,\"ticks\":\"\"},\"colorscale\":[[0.0,\"#0d0887\"],[0.1111111111111111,\"#46039f\"],[0.2222222222222222,\"#7201a8\"],[0.3333333333333333,\"#9c179e\"],[0.4444444444444444,\"#bd3786\"],[0.5555555555555556,\"#d8576b\"],[0.6666666666666666,\"#ed7953\"],[0.7777777777777778,\"#fb9f3a\"],[0.8888888888888888,\"#fdca26\"],[1.0,\"#f0f921\"]]}],\"heatmap\":[{\"type\":\"heatmap\",\"colorbar\":{\"outlinewidth\":0,\"ticks\":\"\"},\"colorscale\":[[0.0,\"#0d0887\"],[0.1111111111111111,\"#46039f\"],[0.2222222222222222,\"#7201a8\"],[0.3333333333333333,\"#9c179e\"],[0.4444444444444444,\"#bd3786\"],[0.5555555555555556,\"#d8576b\"],[0.6666666666666666,\"#ed7953\"],[0.7777777777777778,\"#fb9f3a\"],[0.8888888888888888,\"#fdca26\"],[1.0,\"#f0f921\"]]}],\"heatmapgl\":[{\"type\":\"heatmapgl\",\"colorbar\":{\"outlinewidth\":0,\"ticks\":\"\"},\"colorscale\":[[0.0,\"#0d0887\"],[0.1111111111111111,\"#46039f\"],[0.2222222222222222,\"#7201a8\"],[0.3333333333333333,\"#9c179e\"],[0.4444444444444444,\"#bd3786\"],[0.5555555555555556,\"#d8576b\"],[0.6666666666666666,\"#ed7953\"],[0.7777777777777778,\"#fb9f3a\"],[0.8888888888888888,\"#fdca26\"],[1.0,\"#f0f921\"]]}],\"contourcarpet\":[{\"type\":\"contourcarpet\",\"colorbar\":{\"outlinewidth\":0,\"ticks\":\"\"}}],\"contour\":[{\"type\":\"contour\",\"colorbar\":{\"outlinewidth\":0,\"ticks\":\"\"},\"colorscale\":[[0.0,\"#0d0887\"],[0.1111111111111111,\"#46039f\"],[0.2222222222222222,\"#7201a8\"],[0.3333333333333333,\"#9c179e\"],[0.4444444444444444,\"#bd3786\"],[0.5555555555555556,\"#d8576b\"],[0.6666666666666666,\"#ed7953\"],[0.7777777777777778,\"#fb9f3a\"],[0.8888888888888888,\"#fdca26\"],[1.0,\"#f0f921\"]]}],\"surface\":[{\"type\":\"surface\",\"colorbar\":{\"outlinewidth\":0,\"ticks\":\"\"},\"colorscale\":[[0.0,\"#0d0887\"],[0.1111111111111111,\"#46039f\"],[0.2222222222222222,\"#7201a8\"],[0.3333333333333333,\"#9c179e\"],[0.4444444444444444,\"#bd3786\"],[0.5555555555555556,\"#d8576b\"],[0.6666666666666666,\"#ed7953\"],[0.7777777777777778,\"#fb9f3a\"],[0.8888888888888888,\"#fdca26\"],[1.0,\"#f0f921\"]]}],\"mesh3d\":[{\"type\":\"mesh3d\",\"colorbar\":{\"outlinewidth\":0,\"ticks\":\"\"}}],\"scatter\":[{\"fillpattern\":{\"fillmode\":\"overlay\",\"size\":10,\"solidity\":0.2},\"type\":\"scatter\"}],\"parcoords\":[{\"type\":\"parcoords\",\"line\":{\"colorbar\":{\"outlinewidth\":0,\"ticks\":\"\"}}}],\"scatterpolargl\":[{\"type\":\"scatterpolargl\",\"marker\":{\"colorbar\":{\"outlinewidth\":0,\"ticks\":\"\"}}}],\"bar\":[{\"error_x\":{\"color\":\"#2a3f5f\"},\"error_y\":{\"color\":\"#2a3f5f\"},\"marker\":{\"line\":{\"color\":\"#E5ECF6\",\"width\":0.5},\"pattern\":{\"fillmode\":\"overlay\",\"size\":10,\"solidity\":0.2}},\"type\":\"bar\"}],\"scattergeo\":[{\"type\":\"scattergeo\",\"marker\":{\"colorbar\":{\"outlinewidth\":0,\"ticks\":\"\"}}}],\"scatterpolar\":[{\"type\":\"scatterpolar\",\"marker\":{\"colorbar\":{\"outlinewidth\":0,\"ticks\":\"\"}}}],\"histogram\":[{\"marker\":{\"pattern\":{\"fillmode\":\"overlay\",\"size\":10,\"solidity\":0.2}},\"type\":\"histogram\"}],\"scattergl\":[{\"type\":\"scattergl\",\"marker\":{\"colorbar\":{\"outlinewidth\":0,\"ticks\":\"\"}}}],\"scatter3d\":[{\"type\":\"scatter3d\",\"line\":{\"colorbar\":{\"outlinewidth\":0,\"ticks\":\"\"}},\"marker\":{\"colorbar\":{\"outlinewidth\":0,\"ticks\":\"\"}}}],\"scattermapbox\":[{\"type\":\"scattermapbox\",\"marker\":{\"colorbar\":{\"outlinewidth\":0,\"ticks\":\"\"}}}],\"scatterternary\":[{\"type\":\"scatterternary\",\"marker\":{\"colorbar\":{\"outlinewidth\":0,\"ticks\":\"\"}}}],\"scattercarpet\":[{\"type\":\"scattercarpet\",\"marker\":{\"colorbar\":{\"outlinewidth\":0,\"ticks\":\"\"}}}],\"carpet\":[{\"aaxis\":{\"endlinecolor\":\"#2a3f5f\",\"gridcolor\":\"white\",\"linecolor\":\"white\",\"minorgridcolor\":\"white\",\"startlinecolor\":\"#2a3f5f\"},\"baxis\":{\"endlinecolor\":\"#2a3f5f\",\"gridcolor\":\"white\",\"linecolor\":\"white\",\"minorgridcolor\":\"white\",\"startlinecolor\":\"#2a3f5f\"},\"type\":\"carpet\"}],\"table\":[{\"cells\":{\"fill\":{\"color\":\"#EBF0F8\"},\"line\":{\"color\":\"white\"}},\"header\":{\"fill\":{\"color\":\"#C8D4E3\"},\"line\":{\"color\":\"white\"}},\"type\":\"table\"}],\"barpolar\":[{\"marker\":{\"line\":{\"color\":\"#E5ECF6\",\"width\":0.5},\"pattern\":{\"fillmode\":\"overlay\",\"size\":10,\"solidity\":0.2}},\"type\":\"barpolar\"}],\"pie\":[{\"automargin\":true,\"type\":\"pie\"}]},\"layout\":{\"autotypenumbers\":\"strict\",\"colorway\":[\"#636efa\",\"#EF553B\",\"#00cc96\",\"#ab63fa\",\"#FFA15A\",\"#19d3f3\",\"#FF6692\",\"#B6E880\",\"#FF97FF\",\"#FECB52\"],\"font\":{\"color\":\"#2a3f5f\"},\"hovermode\":\"closest\",\"hoverlabel\":{\"align\":\"left\"},\"paper_bgcolor\":\"white\",\"plot_bgcolor\":\"#E5ECF6\",\"polar\":{\"bgcolor\":\"#E5ECF6\",\"angularaxis\":{\"gridcolor\":\"white\",\"linecolor\":\"white\",\"ticks\":\"\"},\"radialaxis\":{\"gridcolor\":\"white\",\"linecolor\":\"white\",\"ticks\":\"\"}},\"ternary\":{\"bgcolor\":\"#E5ECF6\",\"aaxis\":{\"gridcolor\":\"white\",\"linecolor\":\"white\",\"ticks\":\"\"},\"baxis\":{\"gridcolor\":\"white\",\"linecolor\":\"white\",\"ticks\":\"\"},\"caxis\":{\"gridcolor\":\"white\",\"linecolor\":\"white\",\"ticks\":\"\"}},\"coloraxis\":{\"colorbar\":{\"outlinewidth\":0,\"ticks\":\"\"}},\"colorscale\":{\"sequential\":[[0.0,\"#0d0887\"],[0.1111111111111111,\"#46039f\"],[0.2222222222222222,\"#7201a8\"],[0.3333333333333333,\"#9c179e\"],[0.4444444444444444,\"#bd3786\"],[0.5555555555555556,\"#d8576b\"],[0.6666666666666666,\"#ed7953\"],[0.7777777777777778,\"#fb9f3a\"],[0.8888888888888888,\"#fdca26\"],[1.0,\"#f0f921\"]],\"sequentialminus\":[[0.0,\"#0d0887\"],[0.1111111111111111,\"#46039f\"],[0.2222222222222222,\"#7201a8\"],[0.3333333333333333,\"#9c179e\"],[0.4444444444444444,\"#bd3786\"],[0.5555555555555556,\"#d8576b\"],[0.6666666666666666,\"#ed7953\"],[0.7777777777777778,\"#fb9f3a\"],[0.8888888888888888,\"#fdca26\"],[1.0,\"#f0f921\"]],\"diverging\":[[0,\"#8e0152\"],[0.1,\"#c51b7d\"],[0.2,\"#de77ae\"],[0.3,\"#f1b6da\"],[0.4,\"#fde0ef\"],[0.5,\"#f7f7f7\"],[0.6,\"#e6f5d0\"],[0.7,\"#b8e186\"],[0.8,\"#7fbc41\"],[0.9,\"#4d9221\"],[1,\"#276419\"]]},\"xaxis\":{\"gridcolor\":\"white\",\"linecolor\":\"white\",\"ticks\":\"\",\"title\":{\"standoff\":15},\"zerolinecolor\":\"white\",\"automargin\":true,\"zerolinewidth\":2},\"yaxis\":{\"gridcolor\":\"white\",\"linecolor\":\"white\",\"ticks\":\"\",\"title\":{\"standoff\":15},\"zerolinecolor\":\"white\",\"automargin\":true,\"zerolinewidth\":2},\"scene\":{\"xaxis\":{\"backgroundcolor\":\"#E5ECF6\",\"gridcolor\":\"white\",\"linecolor\":\"white\",\"showbackground\":true,\"ticks\":\"\",\"zerolinecolor\":\"white\",\"gridwidth\":2},\"yaxis\":{\"backgroundcolor\":\"#E5ECF6\",\"gridcolor\":\"white\",\"linecolor\":\"white\",\"showbackground\":true,\"ticks\":\"\",\"zerolinecolor\":\"white\",\"gridwidth\":2},\"zaxis\":{\"backgroundcolor\":\"#E5ECF6\",\"gridcolor\":\"white\",\"linecolor\":\"white\",\"showbackground\":true,\"ticks\":\"\",\"zerolinecolor\":\"white\",\"gridwidth\":2}},\"shapedefaults\":{\"line\":{\"color\":\"#2a3f5f\"}},\"annotationdefaults\":{\"arrowcolor\":\"#2a3f5f\",\"arrowhead\":0,\"arrowwidth\":1},\"geo\":{\"bgcolor\":\"white\",\"landcolor\":\"#E5ECF6\",\"subunitcolor\":\"white\",\"showland\":true,\"showlakes\":true,\"lakecolor\":\"white\"},\"title\":{\"x\":0.05},\"mapbox\":{\"style\":\"light\"}}}},                        {\"responsive\": true}                    ).then(function(){\n",
              "                            \n",
              "var gd = document.getElementById('d7ad68ef-36f3-4f43-8bab-38f9e803b640');\n",
              "var x = new MutationObserver(function (mutations, observer) {{\n",
              "        var display = window.getComputedStyle(gd).display;\n",
              "        if (!display || display === 'none') {{\n",
              "            console.log([gd, 'removed!']);\n",
              "            Plotly.purge(gd);\n",
              "            observer.disconnect();\n",
              "        }}\n",
              "}});\n",
              "\n",
              "// Listen for the removal of the full notebook cells\n",
              "var notebookContainer = gd.closest('#notebook-container');\n",
              "if (notebookContainer) {{\n",
              "    x.observe(notebookContainer, {childList: true});\n",
              "}}\n",
              "\n",
              "// Listen for the clearing of the current output cell\n",
              "var outputEl = gd.closest('.output');\n",
              "if (outputEl) {{\n",
              "    x.observe(outputEl, {childList: true});\n",
              "}}\n",
              "\n",
              "                        })                };                            </script>        </div>\n",
              "</body>\n",
              "</html>"
            ]
          },
          "metadata": {}
        }
      ],
      "source": [
        "# 하이퍼파라미터 중요도\n",
        "optuna.visualization.plot_param_importances(study)"
      ]
    },
    {
      "cell_type": "markdown",
      "source": [
        "----test----"
      ],
      "metadata": {
        "id": "5rKLgFcG7RxK"
      },
      "id": "5rKLgFcG7RxK"
    },
    {
      "cell_type": "code",
      "source": [
        "# Title 데이터 정리\n",
        "import re # 정규표현 모듈\n",
        "\n",
        "# 소문자로 통일, 특수문자 제거\n",
        "test['Book-Title'] = test['Book-Title']\\\n",
        "                        .str.lower().replace('[^0-9a-zA-Z]', '', regex=True)\n",
        "test['Main_Title'] = [i.split('  ')[0] for i in test['Book-Title']]\n",
        "# SUB_title로 나누기\n",
        "test['Sub_Title'] = [''.join(i.split('  ')[1:]) for i in test['Book-Title']]\n",
        "# SUB_title이 없으면 No_SUB\n",
        "test['Sub_Title'] = np.where(test['Sub_Title'] == '', 'No_SUB', test['Sub_Title'])"
      ],
      "metadata": {
        "id": "n45tplZu7Ub-"
      },
      "id": "n45tplZu7Ub-",
      "execution_count": 21,
      "outputs": []
    },
    {
      "cell_type": "code",
      "source": [
        "# 만약 출판연도가 null이 있다면 정보없음(-1)로 채움\n",
        "test['Year-Of-Publication'] = test['Year-Of-Publication'].fillna(-1)\n",
        "labels = ['Unknown', '-1800', '1800-1850', '1850-1900', '1900-1910', '1910-1920', '1920-1930', '1930-1940', '1940-1950','1950-1960', '1960-1970', '1970-1980', '1980-1990', '1990-2000', '2000-2010', '2010-2020', '2020-']\n",
        "bins = [-1, 0, 1800, 1850, 1900, 1910, 1920, 1930, 1940, 1950, 1960, 1970, 1980, 1990, 2000, 2010, 2020, 3000]\n",
        "test['Pub_gb'] = pd.cut(test['Year-Of-Publication'], bins, labels = labels,include_lowest = True)\n",
        "test = test.drop(columns =['Year-Of-Publication'])\n",
        "#train['Year-Of-Publication'] = pd.cut(train['Year-Of-Publication'], bins=bins, labels=labels)\n",
        "\n",
        "\n",
        "encoder2 = LabelEncoder() #labelencoder함수를 가져온다.\n",
        "encoder2.fit(test['Pub_gb']) #내가 가지고 있는 데이터에 학습시킨다\n",
        "digit_label = encoder2.transform(test['Pub_gb'])\n",
        "test['Pub_gb'] = digit_label"
      ],
      "metadata": {
        "id": "n_NCvrpa7Xw8"
      },
      "id": "n_NCvrpa7Xw8",
      "execution_count": 22,
      "outputs": []
    },
    {
      "cell_type": "code",
      "source": [
        "## Age 이상치 처리\n",
        "# 이상치: 5세 이하 90세 초과\n",
        "test.loc[(test['Age'] <= 5)|(test['Age'] > 90), 'Age'] = np.nan\n",
        "test['Age'].isnull().sum() # 5세 이하 또는 90세 초과인 데이터 4497개\n",
        "# 평균값으로 대체\n",
        "test['Age'].mean() # Age (이상치 제거 후) 평균: 36.541634752034845\n",
        "test['Age'] = test['Age'].fillna(test['Age'].mean())\n",
        "\n",
        "## Age 범주화\n",
        "# Age_group: 이상치 처리 & 5세 단위로 범주화\n",
        "test['Age_group'] = pd.cut(test['Age'], bins = list(range(5, 91, 5)))\n",
        "# 시각화로 분포 살펴보기\n",
        "#train['Age_group'].value_counts().sort_index().plot.bar()\n",
        "#plt.title('Age-group Distribution (Train)')\n",
        "#plt.show()\n",
        "\n",
        "# Age_group2: 이상치 처리 & 미국 노동통계국 자료를 참고한 범주화\n",
        "# test['Age_group2'] = pd.cut(test['Age'], bins = [5, 6, 8, 12, 18, 25, 34, 44, 54, 64, 74, 91])\n",
        "# 시각화로 분포 살펴보기\n",
        "#train['Age_group2'].value_counts().sort_index().plot.bar()\n",
        "#plt.title('Age-group2 Distribution (Train)')\n",
        "#plt.show()\n",
        "\n",
        "encoder = LabelEncoder() #labelencoder함수를 가져온다.\n",
        "encoder.fit(test['Age_group']) #내가 가지고 있는 데이터에 학습시킨다\n",
        "digit_label = encoder.transform(test['Age_group'])\n",
        "test['Age_group'] = digit_label"
      ],
      "metadata": {
        "id": "LCxVAtWM7XzS"
      },
      "id": "LCxVAtWM7XzS",
      "execution_count": 24,
      "outputs": []
    },
    {
      "cell_type": "code",
      "source": [
        "# 소문자 통일, 특수문자 제거 (종류: 15505 -> 15021)\n",
        "test['Publisher'] = test['Publisher'].str.lower().replace('[^0-9a-zA-Z\\s]', '', regex=True)\n",
        "\n",
        "# 소문자 통일, 특수문자 제거, 띄어쓰기 제거 (종류: 15505 -> 14840)\n",
        "test['Publisher'] = test['Publisher'].str.lower().replace('[^0-9a-zA-Z\\s]', '', regex=True)"
      ],
      "metadata": {
        "id": "78e29_hd7X3U"
      },
      "id": "78e29_hd7X3U",
      "execution_count": 25,
      "outputs": []
    },
    {
      "cell_type": "code",
      "source": [
        "# Location 분리\n",
        "test['Location'] = test['Location'].str.replace(r'[^0-9a-zA-Z:,]', '')\n",
        "test['city'] = test['Location'].apply(lambda x: x.split(',')[0].strip())\n",
        "test['state'] = test['Location'].apply(lambda x: x.split(',')[1].strip())\n",
        "test['country'] = test['Location'].apply(lambda x: x.split(',')[2].strip())\n",
        "\n",
        "test.drop('Location', axis=1, inplace=True)\n",
        "test = test.replace('na', np.nan)\n",
        "test = test.replace('', np.nan)\n",
        "\n",
        "# Location 최빈값으로 대체\n",
        "mode_city = test['city'].mode()[0]\n",
        "mode_state = test['state'].mode()[0]\n",
        "mode_country = test['country'].mode()[0]\n",
        "\n",
        "# 결측값 대체\n",
        "test['city'].fillna(mode_city, inplace=True)\n",
        "test['state'].fillna(mode_state, inplace=True)\n",
        "test['country'].fillna(mode_country, inplace=True)\n",
        "\n",
        "print('각 칼럼별 최빈값')\n",
        "print('국가:', mode_country, '\\n주:', mode_state, '\\n도시:', mode_city)\n",
        "# train.isnull().sum()"
      ],
      "metadata": {
        "colab": {
          "base_uri": "https://localhost:8080/"
        },
        "id": "uFjj2vHr7X5c",
        "outputId": "d5281327-04ad-419f-d7a7-9ba8233e40db"
      },
      "id": "uFjj2vHr7X5c",
      "execution_count": 26,
      "outputs": [
        {
          "output_type": "stream",
          "name": "stderr",
          "text": [
            "<ipython-input-26-8141752042b3>:2: FutureWarning:\n",
            "\n",
            "The default value of regex will change from True to False in a future version.\n",
            "\n"
          ]
        },
        {
          "output_type": "stream",
          "name": "stdout",
          "text": [
            "각 칼럼별 최빈값\n",
            "국가: usa \n",
            "주: california \n",
            "도시: toronto\n"
          ]
        }
      ]
    },
    {
      "cell_type": "code",
      "source": [
        "test['Book-Author'] = test['Book-Author'].str.lower().replace('[^0-9a-zA-Z]', '', regex=True)"
      ],
      "metadata": {
        "id": "wq-I5DqY76ga"
      },
      "id": "wq-I5DqY76ga",
      "execution_count": 27,
      "outputs": []
    },
    {
      "cell_type": "code",
      "source": [
        "from sklearn.model_selection import StratifiedKFold\n",
        "fold = StratifiedKFold(n_splits=10, shuffle=True, random_state=42)\n",
        "folds=[]\n",
        "for train_idx, valid_idx in fold.split(X, y):\n",
        "        folds.append((train_idx, valid_idx))\n",
        "\n",
        "test=test.drop(['Book-ID','Book-Title','ID'], axis=1)"
      ],
      "metadata": {
        "id": "c6x8xxYx8Fa5"
      },
      "id": "c6x8xxYx8Fa5",
      "execution_count": 31,
      "outputs": []
    },
    {
      "cell_type": "code",
      "execution_count": 32,
      "id": "f53a98cb-4cd4-4354-9b46-3f6b6e52834e",
      "metadata": {
        "id": "f53a98cb-4cd4-4354-9b46-3f6b6e52834e",
        "colab": {
          "base_uri": "https://localhost:8080/"
        },
        "outputId": "d789833a-1cf8-47db-8415-783842e03251"
      },
      "outputs": [
        {
          "output_type": "stream",
          "name": "stdout",
          "text": [
            "/n----------------- Fold 0 -----------------/n\n",
            "0:\tlearn: 3.7198401\ttest: 3.7117518\tbest: 3.7117518 (0)\ttotal: 155ms\tremaining: 12m 28s\n",
            "100:\tlearn: 3.3278132\ttest: 3.2705813\tbest: 3.2705813 (100)\ttotal: 8.86s\tremaining: 6m 54s\n",
            "200:\tlearn: 3.3151508\ttest: 3.2622388\tbest: 3.2622388 (200)\ttotal: 18.2s\tremaining: 6m 57s\n",
            "300:\tlearn: 3.3093383\ttest: 3.2596517\tbest: 3.2596455 (299)\ttotal: 27.7s\tremaining: 6m 55s\n",
            "400:\tlearn: 3.3046672\ttest: 3.2575512\tbest: 3.2575512 (400)\ttotal: 36.2s\tremaining: 6m 39s\n",
            "500:\tlearn: 3.3004379\ttest: 3.2563551\tbest: 3.2563551 (500)\ttotal: 45.6s\tremaining: 6m 33s\n",
            "600:\tlearn: 3.2966312\ttest: 3.2556519\tbest: 3.2556384 (598)\ttotal: 55.1s\tremaining: 6m 27s\n",
            "700:\tlearn: 3.2931839\ttest: 3.2548550\tbest: 3.2548500 (699)\ttotal: 1m 4s\tremaining: 6m 19s\n",
            "800:\tlearn: 3.2901074\ttest: 3.2544351\tbest: 3.2543957 (793)\ttotal: 1m 12s\tremaining: 6m 5s\n",
            "900:\tlearn: 3.2869304\ttest: 3.2539587\tbest: 3.2539587 (900)\ttotal: 1m 21s\tremaining: 5m 56s\n",
            "bestTest = 3.253958721\n",
            "bestIteration = 900\n",
            "Shrink model to first 901 iterations.\n",
            "/n----------------- Fold 1 -----------------/n\n",
            "0:\tlearn: 3.7333007\ttest: 3.7286103\tbest: 3.7286103 (0)\ttotal: 84.7ms\tremaining: 6m 48s\n",
            "100:\tlearn: 3.3283653\ttest: 3.2677024\tbest: 3.2677024 (100)\ttotal: 11.1s\tremaining: 8m 37s\n",
            "200:\tlearn: 3.3148431\ttest: 3.2581166\tbest: 3.2581166 (200)\ttotal: 21.2s\tremaining: 8m 8s\n",
            "300:\tlearn: 3.3086961\ttest: 3.2549692\tbest: 3.2549692 (300)\ttotal: 29.6s\tremaining: 7m 24s\n",
            "400:\tlearn: 3.3044162\ttest: 3.2536456\tbest: 3.2536187 (397)\ttotal: 38.6s\tremaining: 7m 5s\n",
            "500:\tlearn: 3.3007470\ttest: 3.2522157\tbest: 3.2522000 (499)\ttotal: 48.3s\tremaining: 6m 56s\n",
            "600:\tlearn: 3.2970449\ttest: 3.2513101\tbest: 3.2512971 (590)\ttotal: 56.7s\tremaining: 6m 38s\n",
            "700:\tlearn: 3.2935070\ttest: 3.2504814\tbest: 3.2504678 (694)\ttotal: 1m 5s\tremaining: 6m 25s\n",
            "800:\tlearn: 3.2906772\ttest: 3.2499847\tbest: 3.2499847 (800)\ttotal: 1m 14s\tremaining: 6m 16s\n",
            "900:\tlearn: 3.2876635\ttest: 3.2496635\tbest: 3.2496634 (899)\ttotal: 1m 24s\tremaining: 6m 6s\n",
            "1000:\tlearn: 3.2850500\ttest: 3.2492116\tbest: 3.2492031 (999)\ttotal: 1m 32s\tremaining: 5m 51s\n",
            "1100:\tlearn: 3.2820348\ttest: 3.2488598\tbest: 3.2488598 (1100)\ttotal: 1m 41s\tremaining: 5m 42s\n",
            "1200:\tlearn: 3.2791702\ttest: 3.2486823\tbest: 3.2485515 (1177)\ttotal: 1m 50s\tremaining: 5m 34s\n",
            "1300:\tlearn: 3.2765892\ttest: 3.2483811\tbest: 3.2483112 (1267)\ttotal: 1m 59s\tremaining: 5m 22s\n",
            "bestTest = 3.248311186\n",
            "bestIteration = 1267\n",
            "Shrink model to first 1268 iterations.\n",
            "/n----------------- Fold 2 -----------------/n\n",
            "0:\tlearn: 3.7325214\ttest: 3.7281524\tbest: 3.7281524 (0)\ttotal: 231ms\tremaining: 18m 35s\n",
            "100:\tlearn: 3.3275322\ttest: 3.2722750\tbest: 3.2722750 (100)\ttotal: 9.52s\tremaining: 7m 25s\n",
            "200:\tlearn: 3.3136947\ttest: 3.2613770\tbest: 3.2613770 (200)\ttotal: 19.9s\tremaining: 7m 36s\n",
            "300:\tlearn: 3.3079730\ttest: 3.2586963\tbest: 3.2586963 (300)\ttotal: 30.2s\tremaining: 7m 33s\n",
            "400:\tlearn: 3.3033209\ttest: 3.2572593\tbest: 3.2572528 (399)\ttotal: 39.6s\tremaining: 7m 16s\n",
            "500:\tlearn: 3.2988686\ttest: 3.2562133\tbest: 3.2562133 (500)\ttotal: 47.8s\tremaining: 6m 52s\n",
            "600:\tlearn: 3.2955534\ttest: 3.2548675\tbest: 3.2548675 (600)\ttotal: 57.2s\tremaining: 6m 41s\n",
            "700:\tlearn: 3.2921772\ttest: 3.2536777\tbest: 3.2536280 (690)\ttotal: 1m 6s\tremaining: 6m 31s\n",
            "800:\tlearn: 3.2890848\ttest: 3.2529447\tbest: 3.2529447 (800)\ttotal: 1m 14s\tremaining: 6m 14s\n",
            "900:\tlearn: 3.2860801\ttest: 3.2522816\tbest: 3.2522578 (884)\ttotal: 1m 23s\tremaining: 6m 5s\n",
            "1000:\tlearn: 3.2832195\ttest: 3.2520293\tbest: 3.2519945 (998)\ttotal: 1m 33s\tremaining: 5m 56s\n",
            "1100:\tlearn: 3.2803976\ttest: 3.2515248\tbest: 3.2515180 (1086)\ttotal: 1m 42s\tremaining: 5m 45s\n",
            "1200:\tlearn: 3.2776720\ttest: 3.2512264\tbest: 3.2512264 (1200)\ttotal: 1m 50s\tremaining: 5m 34s\n",
            "bestTest = 3.251196792\n",
            "bestIteration = 1216\n",
            "Shrink model to first 1217 iterations.\n",
            "/n----------------- Fold 3 -----------------/n\n",
            "0:\tlearn: 3.7341260\ttest: 3.7280536\tbest: 3.7280536 (0)\ttotal: 89.8ms\tremaining: 7m 12s\n",
            "100:\tlearn: 3.3278352\ttest: 3.2672257\tbest: 3.2672257 (100)\ttotal: 10.9s\tremaining: 8m 31s\n",
            "200:\tlearn: 3.3141430\ttest: 3.2563518\tbest: 3.2563518 (200)\ttotal: 21.4s\tremaining: 8m 11s\n",
            "300:\tlearn: 3.3079000\ttest: 3.2531358\tbest: 3.2531358 (300)\ttotal: 31.2s\tremaining: 7m 47s\n",
            "400:\tlearn: 3.3032717\ttest: 3.2509153\tbest: 3.2509153 (400)\ttotal: 39.3s\tremaining: 7m 12s\n",
            "500:\tlearn: 3.2993508\ttest: 3.2497208\tbest: 3.2496748 (470)\ttotal: 48.7s\tremaining: 7m\n",
            "600:\tlearn: 3.2958371\ttest: 3.2490248\tbest: 3.2490059 (586)\ttotal: 58.1s\tremaining: 6m 48s\n",
            "700:\tlearn: 3.2921002\ttest: 3.2480300\tbest: 3.2480039 (695)\ttotal: 1m 7s\tremaining: 6m 34s\n",
            "800:\tlearn: 3.2889191\ttest: 3.2475080\tbest: 3.2475080 (800)\ttotal: 1m 15s\tremaining: 6m 21s\n",
            "900:\tlearn: 3.2859746\ttest: 3.2467071\tbest: 3.2467047 (899)\ttotal: 1m 25s\tremaining: 6m 11s\n",
            "1000:\tlearn: 3.2832073\ttest: 3.2466708\tbest: 3.2465635 (973)\ttotal: 1m 34s\tremaining: 6m\n",
            "bestTest = 3.246563463\n",
            "bestIteration = 973\n",
            "Shrink model to first 974 iterations.\n",
            "/n----------------- Fold 4 -----------------/n\n",
            "0:\tlearn: 3.7328481\ttest: 3.7274460\tbest: 3.7274460 (0)\ttotal: 86.8ms\tremaining: 6m 58s\n",
            "100:\tlearn: 3.3275155\ttest: 3.2669503\tbest: 3.2669503 (100)\ttotal: 11s\tremaining: 8m 34s\n",
            "200:\tlearn: 3.3142493\ttest: 3.2563909\tbest: 3.2563385 (195)\ttotal: 21.1s\tremaining: 8m 4s\n",
            "300:\tlearn: 3.3081939\ttest: 3.2529548\tbest: 3.2529548 (300)\ttotal: 29.7s\tremaining: 7m 26s\n",
            "400:\tlearn: 3.3035473\ttest: 3.2512473\tbest: 3.2512148 (386)\ttotal: 38.8s\tremaining: 7m 7s\n",
            "500:\tlearn: 3.2998499\ttest: 3.2500749\tbest: 3.2500501 (495)\ttotal: 48s\tremaining: 6m 54s\n",
            "600:\tlearn: 3.2963531\ttest: 3.2494254\tbest: 3.2492949 (588)\ttotal: 56.1s\tremaining: 6m 34s\n",
            "700:\tlearn: 3.2929499\ttest: 3.2487041\tbest: 3.2486981 (698)\ttotal: 1m 5s\tremaining: 6m 23s\n",
            "800:\tlearn: 3.2897429\ttest: 3.2481949\tbest: 3.2481861 (796)\ttotal: 1m 14s\tremaining: 6m 15s\n",
            "900:\tlearn: 3.2864240\ttest: 3.2472457\tbest: 3.2472251 (895)\ttotal: 1m 22s\tremaining: 6m 1s\n",
            "1000:\tlearn: 3.2831465\ttest: 3.2468804\tbest: 3.2468677 (989)\ttotal: 1m 32s\tremaining: 5m 52s\n",
            "1100:\tlearn: 3.2802052\ttest: 3.2465450\tbest: 3.2465204 (1092)\ttotal: 1m 41s\tremaining: 5m 42s\n",
            "1200:\tlearn: 3.2774184\ttest: 3.2463761\tbest: 3.2462891 (1160)\ttotal: 1m 50s\tremaining: 5m 33s\n",
            "bestTest = 3.246289063\n",
            "bestIteration = 1160\n",
            "Shrink model to first 1161 iterations.\n",
            "/n----------------- Fold 5 -----------------/n\n",
            "0:\tlearn: 3.7342815\ttest: 3.7295561\tbest: 3.7295561 (0)\ttotal: 84.3ms\tremaining: 6m 46s\n",
            "100:\tlearn: 3.3287815\ttest: 3.2717361\tbest: 3.2717361 (100)\ttotal: 9.94s\tremaining: 7m 44s\n",
            "200:\tlearn: 3.3141736\ttest: 3.2599787\tbest: 3.2599787 (200)\ttotal: 21.4s\tremaining: 8m 12s\n",
            "300:\tlearn: 3.3082720\ttest: 3.2569530\tbest: 3.2569530 (300)\ttotal: 33s\tremaining: 8m 16s\n",
            "400:\tlearn: 3.3030812\ttest: 3.2553677\tbest: 3.2553677 (400)\ttotal: 41.8s\tremaining: 7m 41s\n",
            "500:\tlearn: 3.2987849\ttest: 3.2542664\tbest: 3.2542520 (499)\ttotal: 51.5s\tremaining: 7m 24s\n",
            "600:\tlearn: 3.2952105\ttest: 3.2536647\tbest: 3.2536615 (599)\ttotal: 1m 1s\tremaining: 7m 9s\n",
            "700:\tlearn: 3.2918267\ttest: 3.2528723\tbest: 3.2527816 (670)\ttotal: 1m 10s\tremaining: 6m 52s\n",
            "bestTest = 3.252781609\n",
            "bestIteration = 670\n",
            "Shrink model to first 671 iterations.\n",
            "/n----------------- Fold 6 -----------------/n\n",
            "0:\tlearn: 3.7325361\ttest: 3.7272287\tbest: 3.7272287 (0)\ttotal: 85.6ms\tremaining: 6m 52s\n",
            "100:\tlearn: 3.3266902\ttest: 3.2713805\tbest: 3.2713805 (100)\ttotal: 10.2s\tremaining: 7m 55s\n",
            "200:\tlearn: 3.3141549\ttest: 3.2625208\tbest: 3.2625208 (200)\ttotal: 18s\tremaining: 6m 54s\n",
            "300:\tlearn: 3.3083045\ttest: 3.2600873\tbest: 3.2600552 (294)\ttotal: 27.5s\tremaining: 6m 53s\n",
            "400:\tlearn: 3.3037171\ttest: 3.2581194\tbest: 3.2581194 (400)\ttotal: 37.1s\tremaining: 6m 48s\n",
            "500:\tlearn: 3.2993736\ttest: 3.2572372\tbest: 3.2570913 (479)\ttotal: 45.3s\tremaining: 6m 30s\n",
            "600:\tlearn: 3.2961688\ttest: 3.2564860\tbest: 3.2564860 (600)\ttotal: 54.7s\tremaining: 6m 23s\n",
            "700:\tlearn: 3.2928039\ttest: 3.2561818\tbest: 3.2561806 (656)\ttotal: 1m 5s\tremaining: 6m 23s\n",
            "800:\tlearn: 3.2897148\ttest: 3.2556796\tbest: 3.2556624 (791)\ttotal: 1m 16s\tremaining: 6m 23s\n",
            "900:\tlearn: 3.2869248\ttest: 3.2550363\tbest: 3.2550261 (894)\ttotal: 1m 26s\tremaining: 6m 14s\n",
            "1000:\tlearn: 3.2839828\ttest: 3.2548731\tbest: 3.2548577 (997)\ttotal: 1m 36s\tremaining: 6m 7s\n",
            "1100:\tlearn: 3.2813766\ttest: 3.2548315\tbest: 3.2547547 (1075)\ttotal: 1m 45s\tremaining: 5m 56s\n",
            "bestTest = 3.254754724\n",
            "bestIteration = 1075\n",
            "Shrink model to first 1076 iterations.\n",
            "/n----------------- Fold 7 -----------------/n\n",
            "0:\tlearn: 3.7344761\ttest: 3.7291289\tbest: 3.7291289 (0)\ttotal: 83.1ms\tremaining: 6m 40s\n",
            "100:\tlearn: 3.3285375\ttest: 3.2684589\tbest: 3.2684589 (100)\ttotal: 9.83s\tremaining: 7m 39s\n",
            "200:\tlearn: 3.3149303\ttest: 3.2587298\tbest: 3.2587298 (200)\ttotal: 18.8s\tremaining: 7m 13s\n",
            "300:\tlearn: 3.3083303\ttest: 3.2552676\tbest: 3.2552676 (300)\ttotal: 27.5s\tremaining: 6m 53s\n",
            "400:\tlearn: 3.3027459\ttest: 3.2531593\tbest: 3.2531593 (400)\ttotal: 37s\tremaining: 6m 47s\n",
            "500:\tlearn: 3.2991235\ttest: 3.2522481\tbest: 3.2522450 (499)\ttotal: 46.7s\tremaining: 6m 42s\n",
            "600:\tlearn: 3.2953904\ttest: 3.2518649\tbest: 3.2518624 (597)\ttotal: 54.8s\tremaining: 6m 25s\n",
            "700:\tlearn: 3.2926081\ttest: 3.2513151\tbest: 3.2513142 (698)\ttotal: 1m 4s\tremaining: 6m 18s\n",
            "800:\tlearn: 3.2896037\ttest: 3.2508309\tbest: 3.2507724 (775)\ttotal: 1m 13s\tremaining: 6m 9s\n",
            "900:\tlearn: 3.2862777\ttest: 3.2502558\tbest: 3.2502448 (898)\ttotal: 1m 24s\tremaining: 6m 7s\n",
            "1000:\tlearn: 3.2832753\ttest: 3.2499693\tbest: 3.2499578 (999)\ttotal: 1m 33s\tremaining: 5m 56s\n",
            "1100:\tlearn: 3.2804730\ttest: 3.2497131\tbest: 3.2496957 (1096)\ttotal: 1m 44s\tremaining: 5m 54s\n",
            "1200:\tlearn: 3.2776894\ttest: 3.2495850\tbest: 3.2495483 (1199)\ttotal: 1m 55s\tremaining: 5m 47s\n",
            "1300:\tlearn: 3.2749996\ttest: 3.2494677\tbest: 3.2494565 (1268)\ttotal: 2m 4s\tremaining: 5m 37s\n",
            "1400:\tlearn: 3.2724306\ttest: 3.2492177\tbest: 3.2491976 (1391)\ttotal: 2m 12s\tremaining: 5m 24s\n",
            "1500:\tlearn: 3.2699888\ttest: 3.2490081\tbest: 3.2490081 (1500)\ttotal: 2m 21s\tremaining: 5m 14s\n",
            "bestTest = 3.24889658\n",
            "bestIteration = 1528\n",
            "Shrink model to first 1529 iterations.\n",
            "/n----------------- Fold 8 -----------------/n\n",
            "0:\tlearn: 3.7339937\ttest: 3.7283683\tbest: 3.7283683 (0)\ttotal: 84.9ms\tremaining: 6m 49s\n",
            "100:\tlearn: 3.3272578\ttest: 3.2740059\tbest: 3.2740059 (100)\ttotal: 10.1s\tremaining: 7m 50s\n",
            "200:\tlearn: 3.3137243\ttest: 3.2643586\tbest: 3.2643583 (199)\ttotal: 18s\tremaining: 6m 54s\n",
            "300:\tlearn: 3.3070035\ttest: 3.2612622\tbest: 3.2612622 (300)\ttotal: 27.5s\tremaining: 6m 53s\n",
            "400:\tlearn: 3.3021812\ttest: 3.2593834\tbest: 3.2593535 (394)\ttotal: 37.3s\tremaining: 6m 51s\n",
            "500:\tlearn: 3.2982374\ttest: 3.2579404\tbest: 3.2579404 (500)\ttotal: 48.6s\tremaining: 6m 59s\n",
            "600:\tlearn: 3.2943134\ttest: 3.2569502\tbest: 3.2569475 (597)\ttotal: 57.5s\tremaining: 6m 43s\n",
            "700:\tlearn: 3.2908508\ttest: 3.2562888\tbest: 3.2562672 (690)\ttotal: 1m 8s\tremaining: 6m 43s\n",
            "800:\tlearn: 3.2877704\ttest: 3.2555406\tbest: 3.2555406 (800)\ttotal: 1m 18s\tremaining: 6m 36s\n",
            "900:\tlearn: 3.2848532\ttest: 3.2549349\tbest: 3.2548986 (895)\ttotal: 1m 28s\tremaining: 6m 24s\n",
            "1000:\tlearn: 3.2820051\ttest: 3.2544415\tbest: 3.2544415 (1000)\ttotal: 1m 36s\tremaining: 6m 9s\n",
            "bestTest = 3.254284865\n",
            "bestIteration = 1037\n",
            "Shrink model to first 1038 iterations.\n",
            "/n----------------- Fold 9 -----------------/n\n",
            "0:\tlearn: 3.7341157\ttest: 3.7289789\tbest: 3.7289789 (0)\ttotal: 84.2ms\tremaining: 6m 46s\n",
            "100:\tlearn: 3.3288102\ttest: 3.2694739\tbest: 3.2694739 (100)\ttotal: 9.97s\tremaining: 7m 45s\n",
            "200:\tlearn: 3.3153158\ttest: 3.2588814\tbest: 3.2588744 (198)\ttotal: 18.3s\tremaining: 6m 59s\n",
            "300:\tlearn: 3.3087252\ttest: 3.2548561\tbest: 3.2548561 (300)\ttotal: 27.3s\tremaining: 6m 50s\n",
            "400:\tlearn: 3.3040315\ttest: 3.2527018\tbest: 3.2527018 (400)\ttotal: 36.9s\tremaining: 6m 47s\n",
            "500:\tlearn: 3.2998819\ttest: 3.2520473\tbest: 3.2520319 (498)\ttotal: 46.4s\tremaining: 6m 40s\n",
            "600:\tlearn: 3.2961489\ttest: 3.2512396\tbest: 3.2512396 (600)\ttotal: 54.5s\tremaining: 6m 22s\n",
            "700:\tlearn: 3.2929735\ttest: 3.2508388\tbest: 3.2507707 (696)\ttotal: 1m 5s\tremaining: 6m 26s\n",
            "800:\tlearn: 3.2900469\ttest: 3.2504642\tbest: 3.2504370 (792)\ttotal: 1m 17s\tremaining: 6m 27s\n",
            "900:\tlearn: 3.2869281\ttest: 3.2497919\tbest: 3.2497778 (894)\ttotal: 1m 28s\tremaining: 6m 23s\n",
            "1000:\tlearn: 3.2842022\ttest: 3.2492411\tbest: 3.2492411 (1000)\ttotal: 1m 36s\tremaining: 6m 7s\n",
            "1100:\tlearn: 3.2813405\ttest: 3.2487480\tbest: 3.2487480 (1100)\ttotal: 1m 45s\tremaining: 5m 57s\n",
            "1200:\tlearn: 3.2787219\ttest: 3.2483571\tbest: 3.2483314 (1196)\ttotal: 1m 55s\tremaining: 5m 47s\n",
            "1300:\tlearn: 3.2759305\ttest: 3.2480369\tbest: 3.2480369 (1300)\ttotal: 2m 4s\tremaining: 5m 38s\n",
            "1400:\tlearn: 3.2734040\ttest: 3.2479300\tbest: 3.2479118 (1394)\ttotal: 2m 13s\tremaining: 5m 25s\n",
            "bestTest = 3.247822377\n",
            "bestIteration = 1409\n",
            "Shrink model to first 1410 iterations.\n"
          ]
        }
      ],
      "source": [
        "from catboost import Pool\n",
        "\n",
        "cat_pred_test = np.zeros((test.shape[0], 1))\n",
        "for fold in range(10):\n",
        "  print(f'/n----------------- Fold {fold} -----------------/n')\n",
        "  train_idx, valid_idx = folds[fold]\n",
        "  X_train, X_valid, y_train, y_valid = X.iloc[train_idx], X.iloc[valid_idx], y.iloc[train_idx], y.iloc[valid_idx]\n",
        "  train_data = Pool(data=X_train, label=y_train, cat_features=cat_feature) # catboost에서 사용하는 데이터 형식인 Pool로 변환해주는것임.\n",
        "  valid_data = Pool(data=X_valid, label=y_valid, cat_features=cat_feature)\n",
        "\n",
        "  model_cat = CatBoostRegressor(**params)\n",
        "  model_cat.fit(train_data, eval_set=valid_data, use_best_model=True, early_stopping_rounds=50, verbose=100)\n",
        "\n",
        "  cat_pred_test += model_cat.predict(test).reshape(-1, 1) / 10\n",
        "  model_cat.save_model(f'CatBoostRegressor_{fold}.cbm')"
      ]
    },
    {
      "cell_type": "code",
      "source": [
        "submission['Book-Rating'] = cat_pred_test\n",
        "# 평점은 0~10까지 존재하므로 그에 맞춰서 후처리\n",
        "submission.loc[submission['Book-Rating'] > 10, 'Book-Rating'] = 10\n",
        "submission.loc[submission['Book-Rating'] < 0, 'Book-Rating'] = 0\n",
        "submission.describe()"
      ],
      "metadata": {
        "colab": {
          "base_uri": "https://localhost:8080/",
          "height": 300
        },
        "id": "HSR-fphc7FY2",
        "outputId": "de31982d-3f22-4be5-e59c-603c70b67f35"
      },
      "id": "HSR-fphc7FY2",
      "execution_count": 36,
      "outputs": [
        {
          "output_type": "execute_result",
          "data": {
            "text/plain": [
              "         Book-Rating\n",
              "count  159621.000000\n",
              "mean        3.089393\n",
              "std         1.999647\n",
              "min         0.000000\n",
              "25%         1.474573\n",
              "50%         2.948548\n",
              "75%         4.442420\n",
              "max        10.000000"
            ],
            "text/html": [
              "\n",
              "  <div id=\"df-9bf84469-51a9-43ae-8b87-b77b5ead278e\" class=\"colab-df-container\">\n",
              "    <div>\n",
              "<style scoped>\n",
              "    .dataframe tbody tr th:only-of-type {\n",
              "        vertical-align: middle;\n",
              "    }\n",
              "\n",
              "    .dataframe tbody tr th {\n",
              "        vertical-align: top;\n",
              "    }\n",
              "\n",
              "    .dataframe thead th {\n",
              "        text-align: right;\n",
              "    }\n",
              "</style>\n",
              "<table border=\"1\" class=\"dataframe\">\n",
              "  <thead>\n",
              "    <tr style=\"text-align: right;\">\n",
              "      <th></th>\n",
              "      <th>Book-Rating</th>\n",
              "    </tr>\n",
              "  </thead>\n",
              "  <tbody>\n",
              "    <tr>\n",
              "      <th>count</th>\n",
              "      <td>159621.000000</td>\n",
              "    </tr>\n",
              "    <tr>\n",
              "      <th>mean</th>\n",
              "      <td>3.089393</td>\n",
              "    </tr>\n",
              "    <tr>\n",
              "      <th>std</th>\n",
              "      <td>1.999647</td>\n",
              "    </tr>\n",
              "    <tr>\n",
              "      <th>min</th>\n",
              "      <td>0.000000</td>\n",
              "    </tr>\n",
              "    <tr>\n",
              "      <th>25%</th>\n",
              "      <td>1.474573</td>\n",
              "    </tr>\n",
              "    <tr>\n",
              "      <th>50%</th>\n",
              "      <td>2.948548</td>\n",
              "    </tr>\n",
              "    <tr>\n",
              "      <th>75%</th>\n",
              "      <td>4.442420</td>\n",
              "    </tr>\n",
              "    <tr>\n",
              "      <th>max</th>\n",
              "      <td>10.000000</td>\n",
              "    </tr>\n",
              "  </tbody>\n",
              "</table>\n",
              "</div>\n",
              "    <div class=\"colab-df-buttons\">\n",
              "\n",
              "  <div class=\"colab-df-container\">\n",
              "    <button class=\"colab-df-convert\" onclick=\"convertToInteractive('df-9bf84469-51a9-43ae-8b87-b77b5ead278e')\"\n",
              "            title=\"Convert this dataframe to an interactive table.\"\n",
              "            style=\"display:none;\">\n",
              "\n",
              "  <svg xmlns=\"http://www.w3.org/2000/svg\" height=\"24px\" viewBox=\"0 -960 960 960\">\n",
              "    <path d=\"M120-120v-720h720v720H120Zm60-500h600v-160H180v160Zm220 220h160v-160H400v160Zm0 220h160v-160H400v160ZM180-400h160v-160H180v160Zm440 0h160v-160H620v160ZM180-180h160v-160H180v160Zm440 0h160v-160H620v160Z\"/>\n",
              "  </svg>\n",
              "    </button>\n",
              "\n",
              "  <style>\n",
              "    .colab-df-container {\n",
              "      display:flex;\n",
              "      gap: 12px;\n",
              "    }\n",
              "\n",
              "    .colab-df-convert {\n",
              "      background-color: #E8F0FE;\n",
              "      border: none;\n",
              "      border-radius: 50%;\n",
              "      cursor: pointer;\n",
              "      display: none;\n",
              "      fill: #1967D2;\n",
              "      height: 32px;\n",
              "      padding: 0 0 0 0;\n",
              "      width: 32px;\n",
              "    }\n",
              "\n",
              "    .colab-df-convert:hover {\n",
              "      background-color: #E2EBFA;\n",
              "      box-shadow: 0px 1px 2px rgba(60, 64, 67, 0.3), 0px 1px 3px 1px rgba(60, 64, 67, 0.15);\n",
              "      fill: #174EA6;\n",
              "    }\n",
              "\n",
              "    .colab-df-buttons div {\n",
              "      margin-bottom: 4px;\n",
              "    }\n",
              "\n",
              "    [theme=dark] .colab-df-convert {\n",
              "      background-color: #3B4455;\n",
              "      fill: #D2E3FC;\n",
              "    }\n",
              "\n",
              "    [theme=dark] .colab-df-convert:hover {\n",
              "      background-color: #434B5C;\n",
              "      box-shadow: 0px 1px 3px 1px rgba(0, 0, 0, 0.15);\n",
              "      filter: drop-shadow(0px 1px 2px rgba(0, 0, 0, 0.3));\n",
              "      fill: #FFFFFF;\n",
              "    }\n",
              "  </style>\n",
              "\n",
              "    <script>\n",
              "      const buttonEl =\n",
              "        document.querySelector('#df-9bf84469-51a9-43ae-8b87-b77b5ead278e button.colab-df-convert');\n",
              "      buttonEl.style.display =\n",
              "        google.colab.kernel.accessAllowed ? 'block' : 'none';\n",
              "\n",
              "      async function convertToInteractive(key) {\n",
              "        const element = document.querySelector('#df-9bf84469-51a9-43ae-8b87-b77b5ead278e');\n",
              "        const dataTable =\n",
              "          await google.colab.kernel.invokeFunction('convertToInteractive',\n",
              "                                                    [key], {});\n",
              "        if (!dataTable) return;\n",
              "\n",
              "        const docLinkHtml = 'Like what you see? Visit the ' +\n",
              "          '<a target=\"_blank\" href=https://colab.research.google.com/notebooks/data_table.ipynb>data table notebook</a>'\n",
              "          + ' to learn more about interactive tables.';\n",
              "        element.innerHTML = '';\n",
              "        dataTable['output_type'] = 'display_data';\n",
              "        await google.colab.output.renderOutput(dataTable, element);\n",
              "        const docLink = document.createElement('div');\n",
              "        docLink.innerHTML = docLinkHtml;\n",
              "        element.appendChild(docLink);\n",
              "      }\n",
              "    </script>\n",
              "  </div>\n",
              "\n",
              "\n",
              "<div id=\"df-756ab1ab-d95c-414a-b8bc-c448838a5546\">\n",
              "  <button class=\"colab-df-quickchart\" onclick=\"quickchart('df-756ab1ab-d95c-414a-b8bc-c448838a5546')\"\n",
              "            title=\"Suggest charts\"\n",
              "            style=\"display:none;\">\n",
              "\n",
              "<svg xmlns=\"http://www.w3.org/2000/svg\" height=\"24px\"viewBox=\"0 0 24 24\"\n",
              "     width=\"24px\">\n",
              "    <g>\n",
              "        <path d=\"M19 3H5c-1.1 0-2 .9-2 2v14c0 1.1.9 2 2 2h14c1.1 0 2-.9 2-2V5c0-1.1-.9-2-2-2zM9 17H7v-7h2v7zm4 0h-2V7h2v10zm4 0h-2v-4h2v4z\"/>\n",
              "    </g>\n",
              "</svg>\n",
              "  </button>\n",
              "\n",
              "<style>\n",
              "  .colab-df-quickchart {\n",
              "      --bg-color: #E8F0FE;\n",
              "      --fill-color: #1967D2;\n",
              "      --hover-bg-color: #E2EBFA;\n",
              "      --hover-fill-color: #174EA6;\n",
              "      --disabled-fill-color: #AAA;\n",
              "      --disabled-bg-color: #DDD;\n",
              "  }\n",
              "\n",
              "  [theme=dark] .colab-df-quickchart {\n",
              "      --bg-color: #3B4455;\n",
              "      --fill-color: #D2E3FC;\n",
              "      --hover-bg-color: #434B5C;\n",
              "      --hover-fill-color: #FFFFFF;\n",
              "      --disabled-bg-color: #3B4455;\n",
              "      --disabled-fill-color: #666;\n",
              "  }\n",
              "\n",
              "  .colab-df-quickchart {\n",
              "    background-color: var(--bg-color);\n",
              "    border: none;\n",
              "    border-radius: 50%;\n",
              "    cursor: pointer;\n",
              "    display: none;\n",
              "    fill: var(--fill-color);\n",
              "    height: 32px;\n",
              "    padding: 0;\n",
              "    width: 32px;\n",
              "  }\n",
              "\n",
              "  .colab-df-quickchart:hover {\n",
              "    background-color: var(--hover-bg-color);\n",
              "    box-shadow: 0 1px 2px rgba(60, 64, 67, 0.3), 0 1px 3px 1px rgba(60, 64, 67, 0.15);\n",
              "    fill: var(--button-hover-fill-color);\n",
              "  }\n",
              "\n",
              "  .colab-df-quickchart-complete:disabled,\n",
              "  .colab-df-quickchart-complete:disabled:hover {\n",
              "    background-color: var(--disabled-bg-color);\n",
              "    fill: var(--disabled-fill-color);\n",
              "    box-shadow: none;\n",
              "  }\n",
              "\n",
              "  .colab-df-spinner {\n",
              "    border: 2px solid var(--fill-color);\n",
              "    border-color: transparent;\n",
              "    border-bottom-color: var(--fill-color);\n",
              "    animation:\n",
              "      spin 1s steps(1) infinite;\n",
              "  }\n",
              "\n",
              "  @keyframes spin {\n",
              "    0% {\n",
              "      border-color: transparent;\n",
              "      border-bottom-color: var(--fill-color);\n",
              "      border-left-color: var(--fill-color);\n",
              "    }\n",
              "    20% {\n",
              "      border-color: transparent;\n",
              "      border-left-color: var(--fill-color);\n",
              "      border-top-color: var(--fill-color);\n",
              "    }\n",
              "    30% {\n",
              "      border-color: transparent;\n",
              "      border-left-color: var(--fill-color);\n",
              "      border-top-color: var(--fill-color);\n",
              "      border-right-color: var(--fill-color);\n",
              "    }\n",
              "    40% {\n",
              "      border-color: transparent;\n",
              "      border-right-color: var(--fill-color);\n",
              "      border-top-color: var(--fill-color);\n",
              "    }\n",
              "    60% {\n",
              "      border-color: transparent;\n",
              "      border-right-color: var(--fill-color);\n",
              "    }\n",
              "    80% {\n",
              "      border-color: transparent;\n",
              "      border-right-color: var(--fill-color);\n",
              "      border-bottom-color: var(--fill-color);\n",
              "    }\n",
              "    90% {\n",
              "      border-color: transparent;\n",
              "      border-bottom-color: var(--fill-color);\n",
              "    }\n",
              "  }\n",
              "</style>\n",
              "\n",
              "  <script>\n",
              "    async function quickchart(key) {\n",
              "      const quickchartButtonEl =\n",
              "        document.querySelector('#' + key + ' button');\n",
              "      quickchartButtonEl.disabled = true;  // To prevent multiple clicks.\n",
              "      quickchartButtonEl.classList.add('colab-df-spinner');\n",
              "      try {\n",
              "        const charts = await google.colab.kernel.invokeFunction(\n",
              "            'suggestCharts', [key], {});\n",
              "      } catch (error) {\n",
              "        console.error('Error during call to suggestCharts:', error);\n",
              "      }\n",
              "      quickchartButtonEl.classList.remove('colab-df-spinner');\n",
              "      quickchartButtonEl.classList.add('colab-df-quickchart-complete');\n",
              "    }\n",
              "    (() => {\n",
              "      let quickchartButtonEl =\n",
              "        document.querySelector('#df-756ab1ab-d95c-414a-b8bc-c448838a5546 button');\n",
              "      quickchartButtonEl.style.display =\n",
              "        google.colab.kernel.accessAllowed ? 'block' : 'none';\n",
              "    })();\n",
              "  </script>\n",
              "</div>\n",
              "\n",
              "    </div>\n",
              "  </div>\n"
            ]
          },
          "metadata": {},
          "execution_count": 36
        }
      ]
    },
    {
      "cell_type": "code",
      "source": [
        "submission"
      ],
      "metadata": {
        "colab": {
          "base_uri": "https://localhost:8080/",
          "height": 424
        },
        "id": "h7WbDK66OSx-",
        "outputId": "ab884801-0b73-4059-e873-04a4f2e03342"
      },
      "id": "h7WbDK66OSx-",
      "execution_count": 37,
      "outputs": [
        {
          "output_type": "execute_result",
          "data": {
            "text/plain": [
              "                 ID  Book-Rating\n",
              "0       TEST_000000     5.341354\n",
              "1       TEST_000001     6.146867\n",
              "2       TEST_000002     6.535733\n",
              "3       TEST_000003     6.110005\n",
              "4       TEST_000004     6.495524\n",
              "...             ...          ...\n",
              "159616  TEST_159616     3.582729\n",
              "159617  TEST_159617     3.652217\n",
              "159618  TEST_159618     3.391038\n",
              "159619  TEST_159619     3.497261\n",
              "159620  TEST_159620     3.457690\n",
              "\n",
              "[159621 rows x 2 columns]"
            ],
            "text/html": [
              "\n",
              "  <div id=\"df-26704650-76ff-4ba4-a9f0-2779711edd70\" class=\"colab-df-container\">\n",
              "    <div>\n",
              "<style scoped>\n",
              "    .dataframe tbody tr th:only-of-type {\n",
              "        vertical-align: middle;\n",
              "    }\n",
              "\n",
              "    .dataframe tbody tr th {\n",
              "        vertical-align: top;\n",
              "    }\n",
              "\n",
              "    .dataframe thead th {\n",
              "        text-align: right;\n",
              "    }\n",
              "</style>\n",
              "<table border=\"1\" class=\"dataframe\">\n",
              "  <thead>\n",
              "    <tr style=\"text-align: right;\">\n",
              "      <th></th>\n",
              "      <th>ID</th>\n",
              "      <th>Book-Rating</th>\n",
              "    </tr>\n",
              "  </thead>\n",
              "  <tbody>\n",
              "    <tr>\n",
              "      <th>0</th>\n",
              "      <td>TEST_000000</td>\n",
              "      <td>5.341354</td>\n",
              "    </tr>\n",
              "    <tr>\n",
              "      <th>1</th>\n",
              "      <td>TEST_000001</td>\n",
              "      <td>6.146867</td>\n",
              "    </tr>\n",
              "    <tr>\n",
              "      <th>2</th>\n",
              "      <td>TEST_000002</td>\n",
              "      <td>6.535733</td>\n",
              "    </tr>\n",
              "    <tr>\n",
              "      <th>3</th>\n",
              "      <td>TEST_000003</td>\n",
              "      <td>6.110005</td>\n",
              "    </tr>\n",
              "    <tr>\n",
              "      <th>4</th>\n",
              "      <td>TEST_000004</td>\n",
              "      <td>6.495524</td>\n",
              "    </tr>\n",
              "    <tr>\n",
              "      <th>...</th>\n",
              "      <td>...</td>\n",
              "      <td>...</td>\n",
              "    </tr>\n",
              "    <tr>\n",
              "      <th>159616</th>\n",
              "      <td>TEST_159616</td>\n",
              "      <td>3.582729</td>\n",
              "    </tr>\n",
              "    <tr>\n",
              "      <th>159617</th>\n",
              "      <td>TEST_159617</td>\n",
              "      <td>3.652217</td>\n",
              "    </tr>\n",
              "    <tr>\n",
              "      <th>159618</th>\n",
              "      <td>TEST_159618</td>\n",
              "      <td>3.391038</td>\n",
              "    </tr>\n",
              "    <tr>\n",
              "      <th>159619</th>\n",
              "      <td>TEST_159619</td>\n",
              "      <td>3.497261</td>\n",
              "    </tr>\n",
              "    <tr>\n",
              "      <th>159620</th>\n",
              "      <td>TEST_159620</td>\n",
              "      <td>3.457690</td>\n",
              "    </tr>\n",
              "  </tbody>\n",
              "</table>\n",
              "<p>159621 rows × 2 columns</p>\n",
              "</div>\n",
              "    <div class=\"colab-df-buttons\">\n",
              "\n",
              "  <div class=\"colab-df-container\">\n",
              "    <button class=\"colab-df-convert\" onclick=\"convertToInteractive('df-26704650-76ff-4ba4-a9f0-2779711edd70')\"\n",
              "            title=\"Convert this dataframe to an interactive table.\"\n",
              "            style=\"display:none;\">\n",
              "\n",
              "  <svg xmlns=\"http://www.w3.org/2000/svg\" height=\"24px\" viewBox=\"0 -960 960 960\">\n",
              "    <path d=\"M120-120v-720h720v720H120Zm60-500h600v-160H180v160Zm220 220h160v-160H400v160Zm0 220h160v-160H400v160ZM180-400h160v-160H180v160Zm440 0h160v-160H620v160ZM180-180h160v-160H180v160Zm440 0h160v-160H620v160Z\"/>\n",
              "  </svg>\n",
              "    </button>\n",
              "\n",
              "  <style>\n",
              "    .colab-df-container {\n",
              "      display:flex;\n",
              "      gap: 12px;\n",
              "    }\n",
              "\n",
              "    .colab-df-convert {\n",
              "      background-color: #E8F0FE;\n",
              "      border: none;\n",
              "      border-radius: 50%;\n",
              "      cursor: pointer;\n",
              "      display: none;\n",
              "      fill: #1967D2;\n",
              "      height: 32px;\n",
              "      padding: 0 0 0 0;\n",
              "      width: 32px;\n",
              "    }\n",
              "\n",
              "    .colab-df-convert:hover {\n",
              "      background-color: #E2EBFA;\n",
              "      box-shadow: 0px 1px 2px rgba(60, 64, 67, 0.3), 0px 1px 3px 1px rgba(60, 64, 67, 0.15);\n",
              "      fill: #174EA6;\n",
              "    }\n",
              "\n",
              "    .colab-df-buttons div {\n",
              "      margin-bottom: 4px;\n",
              "    }\n",
              "\n",
              "    [theme=dark] .colab-df-convert {\n",
              "      background-color: #3B4455;\n",
              "      fill: #D2E3FC;\n",
              "    }\n",
              "\n",
              "    [theme=dark] .colab-df-convert:hover {\n",
              "      background-color: #434B5C;\n",
              "      box-shadow: 0px 1px 3px 1px rgba(0, 0, 0, 0.15);\n",
              "      filter: drop-shadow(0px 1px 2px rgba(0, 0, 0, 0.3));\n",
              "      fill: #FFFFFF;\n",
              "    }\n",
              "  </style>\n",
              "\n",
              "    <script>\n",
              "      const buttonEl =\n",
              "        document.querySelector('#df-26704650-76ff-4ba4-a9f0-2779711edd70 button.colab-df-convert');\n",
              "      buttonEl.style.display =\n",
              "        google.colab.kernel.accessAllowed ? 'block' : 'none';\n",
              "\n",
              "      async function convertToInteractive(key) {\n",
              "        const element = document.querySelector('#df-26704650-76ff-4ba4-a9f0-2779711edd70');\n",
              "        const dataTable =\n",
              "          await google.colab.kernel.invokeFunction('convertToInteractive',\n",
              "                                                    [key], {});\n",
              "        if (!dataTable) return;\n",
              "\n",
              "        const docLinkHtml = 'Like what you see? Visit the ' +\n",
              "          '<a target=\"_blank\" href=https://colab.research.google.com/notebooks/data_table.ipynb>data table notebook</a>'\n",
              "          + ' to learn more about interactive tables.';\n",
              "        element.innerHTML = '';\n",
              "        dataTable['output_type'] = 'display_data';\n",
              "        await google.colab.output.renderOutput(dataTable, element);\n",
              "        const docLink = document.createElement('div');\n",
              "        docLink.innerHTML = docLinkHtml;\n",
              "        element.appendChild(docLink);\n",
              "      }\n",
              "    </script>\n",
              "  </div>\n",
              "\n",
              "\n",
              "<div id=\"df-cd376337-52cd-4ab6-90af-48b2e608eede\">\n",
              "  <button class=\"colab-df-quickchart\" onclick=\"quickchart('df-cd376337-52cd-4ab6-90af-48b2e608eede')\"\n",
              "            title=\"Suggest charts\"\n",
              "            style=\"display:none;\">\n",
              "\n",
              "<svg xmlns=\"http://www.w3.org/2000/svg\" height=\"24px\"viewBox=\"0 0 24 24\"\n",
              "     width=\"24px\">\n",
              "    <g>\n",
              "        <path d=\"M19 3H5c-1.1 0-2 .9-2 2v14c0 1.1.9 2 2 2h14c1.1 0 2-.9 2-2V5c0-1.1-.9-2-2-2zM9 17H7v-7h2v7zm4 0h-2V7h2v10zm4 0h-2v-4h2v4z\"/>\n",
              "    </g>\n",
              "</svg>\n",
              "  </button>\n",
              "\n",
              "<style>\n",
              "  .colab-df-quickchart {\n",
              "      --bg-color: #E8F0FE;\n",
              "      --fill-color: #1967D2;\n",
              "      --hover-bg-color: #E2EBFA;\n",
              "      --hover-fill-color: #174EA6;\n",
              "      --disabled-fill-color: #AAA;\n",
              "      --disabled-bg-color: #DDD;\n",
              "  }\n",
              "\n",
              "  [theme=dark] .colab-df-quickchart {\n",
              "      --bg-color: #3B4455;\n",
              "      --fill-color: #D2E3FC;\n",
              "      --hover-bg-color: #434B5C;\n",
              "      --hover-fill-color: #FFFFFF;\n",
              "      --disabled-bg-color: #3B4455;\n",
              "      --disabled-fill-color: #666;\n",
              "  }\n",
              "\n",
              "  .colab-df-quickchart {\n",
              "    background-color: var(--bg-color);\n",
              "    border: none;\n",
              "    border-radius: 50%;\n",
              "    cursor: pointer;\n",
              "    display: none;\n",
              "    fill: var(--fill-color);\n",
              "    height: 32px;\n",
              "    padding: 0;\n",
              "    width: 32px;\n",
              "  }\n",
              "\n",
              "  .colab-df-quickchart:hover {\n",
              "    background-color: var(--hover-bg-color);\n",
              "    box-shadow: 0 1px 2px rgba(60, 64, 67, 0.3), 0 1px 3px 1px rgba(60, 64, 67, 0.15);\n",
              "    fill: var(--button-hover-fill-color);\n",
              "  }\n",
              "\n",
              "  .colab-df-quickchart-complete:disabled,\n",
              "  .colab-df-quickchart-complete:disabled:hover {\n",
              "    background-color: var(--disabled-bg-color);\n",
              "    fill: var(--disabled-fill-color);\n",
              "    box-shadow: none;\n",
              "  }\n",
              "\n",
              "  .colab-df-spinner {\n",
              "    border: 2px solid var(--fill-color);\n",
              "    border-color: transparent;\n",
              "    border-bottom-color: var(--fill-color);\n",
              "    animation:\n",
              "      spin 1s steps(1) infinite;\n",
              "  }\n",
              "\n",
              "  @keyframes spin {\n",
              "    0% {\n",
              "      border-color: transparent;\n",
              "      border-bottom-color: var(--fill-color);\n",
              "      border-left-color: var(--fill-color);\n",
              "    }\n",
              "    20% {\n",
              "      border-color: transparent;\n",
              "      border-left-color: var(--fill-color);\n",
              "      border-top-color: var(--fill-color);\n",
              "    }\n",
              "    30% {\n",
              "      border-color: transparent;\n",
              "      border-left-color: var(--fill-color);\n",
              "      border-top-color: var(--fill-color);\n",
              "      border-right-color: var(--fill-color);\n",
              "    }\n",
              "    40% {\n",
              "      border-color: transparent;\n",
              "      border-right-color: var(--fill-color);\n",
              "      border-top-color: var(--fill-color);\n",
              "    }\n",
              "    60% {\n",
              "      border-color: transparent;\n",
              "      border-right-color: var(--fill-color);\n",
              "    }\n",
              "    80% {\n",
              "      border-color: transparent;\n",
              "      border-right-color: var(--fill-color);\n",
              "      border-bottom-color: var(--fill-color);\n",
              "    }\n",
              "    90% {\n",
              "      border-color: transparent;\n",
              "      border-bottom-color: var(--fill-color);\n",
              "    }\n",
              "  }\n",
              "</style>\n",
              "\n",
              "  <script>\n",
              "    async function quickchart(key) {\n",
              "      const quickchartButtonEl =\n",
              "        document.querySelector('#' + key + ' button');\n",
              "      quickchartButtonEl.disabled = true;  // To prevent multiple clicks.\n",
              "      quickchartButtonEl.classList.add('colab-df-spinner');\n",
              "      try {\n",
              "        const charts = await google.colab.kernel.invokeFunction(\n",
              "            'suggestCharts', [key], {});\n",
              "      } catch (error) {\n",
              "        console.error('Error during call to suggestCharts:', error);\n",
              "      }\n",
              "      quickchartButtonEl.classList.remove('colab-df-spinner');\n",
              "      quickchartButtonEl.classList.add('colab-df-quickchart-complete');\n",
              "    }\n",
              "    (() => {\n",
              "      let quickchartButtonEl =\n",
              "        document.querySelector('#df-cd376337-52cd-4ab6-90af-48b2e608eede button');\n",
              "      quickchartButtonEl.style.display =\n",
              "        google.colab.kernel.accessAllowed ? 'block' : 'none';\n",
              "    })();\n",
              "  </script>\n",
              "</div>\n",
              "\n",
              "  <div id=\"id_084cb409-568d-4732-9bc7-2bb7370b26fd\">\n",
              "    <style>\n",
              "      .colab-df-generate {\n",
              "        background-color: #E8F0FE;\n",
              "        border: none;\n",
              "        border-radius: 50%;\n",
              "        cursor: pointer;\n",
              "        display: none;\n",
              "        fill: #1967D2;\n",
              "        height: 32px;\n",
              "        padding: 0 0 0 0;\n",
              "        width: 32px;\n",
              "      }\n",
              "\n",
              "      .colab-df-generate:hover {\n",
              "        background-color: #E2EBFA;\n",
              "        box-shadow: 0px 1px 2px rgba(60, 64, 67, 0.3), 0px 1px 3px 1px rgba(60, 64, 67, 0.15);\n",
              "        fill: #174EA6;\n",
              "      }\n",
              "\n",
              "      [theme=dark] .colab-df-generate {\n",
              "        background-color: #3B4455;\n",
              "        fill: #D2E3FC;\n",
              "      }\n",
              "\n",
              "      [theme=dark] .colab-df-generate:hover {\n",
              "        background-color: #434B5C;\n",
              "        box-shadow: 0px 1px 3px 1px rgba(0, 0, 0, 0.15);\n",
              "        filter: drop-shadow(0px 1px 2px rgba(0, 0, 0, 0.3));\n",
              "        fill: #FFFFFF;\n",
              "      }\n",
              "    </style>\n",
              "    <button class=\"colab-df-generate\" onclick=\"generateWithVariable('submission')\"\n",
              "            title=\"Generate code using this dataframe.\"\n",
              "            style=\"display:none;\">\n",
              "\n",
              "  <svg xmlns=\"http://www.w3.org/2000/svg\" height=\"24px\"viewBox=\"0 0 24 24\"\n",
              "       width=\"24px\">\n",
              "    <path d=\"M7,19H8.4L18.45,9,17,7.55,7,17.6ZM5,21V16.75L18.45,3.32a2,2,0,0,1,2.83,0l1.4,1.43a1.91,1.91,0,0,1,.58,1.4,1.91,1.91,0,0,1-.58,1.4L9.25,21ZM18.45,9,17,7.55Zm-12,3A5.31,5.31,0,0,0,4.9,8.1,5.31,5.31,0,0,0,1,6.5,5.31,5.31,0,0,0,4.9,4.9,5.31,5.31,0,0,0,6.5,1,5.31,5.31,0,0,0,8.1,4.9,5.31,5.31,0,0,0,12,6.5,5.46,5.46,0,0,0,6.5,12Z\"/>\n",
              "  </svg>\n",
              "    </button>\n",
              "    <script>\n",
              "      (() => {\n",
              "      const buttonEl =\n",
              "        document.querySelector('#id_084cb409-568d-4732-9bc7-2bb7370b26fd button.colab-df-generate');\n",
              "      buttonEl.style.display =\n",
              "        google.colab.kernel.accessAllowed ? 'block' : 'none';\n",
              "\n",
              "      buttonEl.onclick = () => {\n",
              "        google.colab.notebook.generateWithVariable('submission');\n",
              "      }\n",
              "      })();\n",
              "    </script>\n",
              "  </div>\n",
              "\n",
              "    </div>\n",
              "  </div>\n"
            ]
          },
          "metadata": {},
          "execution_count": 37
        }
      ]
    }
  ],
  "metadata": {
    "kernelspec": {
      "display_name": "Python 3",
      "name": "python3"
    },
    "language_info": {
      "codemirror_mode": {
        "name": "ipython",
        "version": 3
      },
      "file_extension": ".py",
      "mimetype": "text/x-python",
      "name": "python",
      "nbconvert_exporter": "python",
      "pygments_lexer": "ipython3",
      "version": "3.9.13"
    },
    "colab": {
      "provenance": [],
      "gpuType": "T4"
    },
    "accelerator": "GPU"
  },
  "nbformat": 4,
  "nbformat_minor": 5
}