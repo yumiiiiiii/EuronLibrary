{
 "cells": [
  {
   "cell_type": "code",
   "execution_count": 202,
   "id": "0e1c6b37-b69c-4458-a3b0-2504439f778f",
   "metadata": {},
   "outputs": [],
   "source": [
    "import pandas as pd\n",
    "import numpy as np\n",
    "import random\n",
    "import os"
   ]
  },
  {
   "cell_type": "code",
   "execution_count": 203,
   "id": "d01178bf-9d7b-4ea3-b457-e4272f5a0b5c",
   "metadata": {},
   "outputs": [],
   "source": [
    "def seed_everything(seed):\n",
    "    random.seed(seed)\n",
    "    os.environ['PYTHONHASHSEED'] = str(seed)\n",
    "    np.random.seed(seed)\n",
    "\n",
    "seed_everything(42) # Seed 고정"
   ]
  },
  {
   "cell_type": "code",
   "execution_count": 204,
   "id": "8d32bb5b-af1a-4baa-8517-aed10bd0a733",
   "metadata": {},
   "outputs": [],
   "source": [
    "train = pd.read_csv(\"C:/Users/jain5/Desktop/open/train.csv\")\n",
    "test = pd.read_csv(\"C:/Users/jain5/Desktop/open/test.csv\")"
   ]
  },
  {
   "cell_type": "code",
   "execution_count": 205,
   "id": "4402b23c-31d7-4b00-b6e9-276c109c0713",
   "metadata": {},
   "outputs": [
    {
     "data": {
      "text/html": [
       "<div>\n",
       "<style scoped>\n",
       "    .dataframe tbody tr th:only-of-type {\n",
       "        vertical-align: middle;\n",
       "    }\n",
       "\n",
       "    .dataframe tbody tr th {\n",
       "        vertical-align: top;\n",
       "    }\n",
       "\n",
       "    .dataframe thead th {\n",
       "        text-align: right;\n",
       "    }\n",
       "</style>\n",
       "<table border=\"1\" class=\"dataframe\">\n",
       "  <thead>\n",
       "    <tr style=\"text-align: right;\">\n",
       "      <th></th>\n",
       "      <th>ID</th>\n",
       "      <th>User-ID</th>\n",
       "      <th>Book-ID</th>\n",
       "      <th>Book-Rating</th>\n",
       "      <th>Age</th>\n",
       "      <th>Location</th>\n",
       "      <th>Book-Title</th>\n",
       "      <th>Book-Author</th>\n",
       "      <th>Year-Of-Publication</th>\n",
       "      <th>Publisher</th>\n",
       "    </tr>\n",
       "  </thead>\n",
       "  <tbody>\n",
       "    <tr>\n",
       "      <th>0</th>\n",
       "      <td>TRAIN_000000</td>\n",
       "      <td>USER_00000</td>\n",
       "      <td>BOOK_044368</td>\n",
       "      <td>8</td>\n",
       "      <td>23.0</td>\n",
       "      <td>sackville, new brunswick, canada</td>\n",
       "      <td>Road Taken</td>\n",
       "      <td>Rona Jaffe</td>\n",
       "      <td>2001.0</td>\n",
       "      <td>Mira</td>\n",
       "    </tr>\n",
       "    <tr>\n",
       "      <th>1</th>\n",
       "      <td>TRAIN_000001</td>\n",
       "      <td>USER_00000</td>\n",
       "      <td>BOOK_081205</td>\n",
       "      <td>8</td>\n",
       "      <td>23.0</td>\n",
       "      <td>sackville, new brunswick, canada</td>\n",
       "      <td>Macbeth (New Penguin Shakespeare)</td>\n",
       "      <td>William Shakespeare</td>\n",
       "      <td>1981.0</td>\n",
       "      <td>Penguin Books</td>\n",
       "    </tr>\n",
       "    <tr>\n",
       "      <th>2</th>\n",
       "      <td>TRAIN_000002</td>\n",
       "      <td>USER_00000</td>\n",
       "      <td>BOOK_086781</td>\n",
       "      <td>0</td>\n",
       "      <td>23.0</td>\n",
       "      <td>sackville, new brunswick, canada</td>\n",
       "      <td>Waverley (Penguin English Library)</td>\n",
       "      <td>Walter Scott</td>\n",
       "      <td>1981.0</td>\n",
       "      <td>Penguin Books</td>\n",
       "    </tr>\n",
       "    <tr>\n",
       "      <th>3</th>\n",
       "      <td>TRAIN_000003</td>\n",
       "      <td>USER_00000</td>\n",
       "      <td>BOOK_098622</td>\n",
       "      <td>0</td>\n",
       "      <td>23.0</td>\n",
       "      <td>sackville, new brunswick, canada</td>\n",
       "      <td>Mother Earth Father Sky</td>\n",
       "      <td>Sue Harrison</td>\n",
       "      <td>1991.0</td>\n",
       "      <td>Avon</td>\n",
       "    </tr>\n",
       "    <tr>\n",
       "      <th>4</th>\n",
       "      <td>TRAIN_000004</td>\n",
       "      <td>USER_00000</td>\n",
       "      <td>BOOK_180810</td>\n",
       "      <td>8</td>\n",
       "      <td>23.0</td>\n",
       "      <td>sackville, new brunswick, canada</td>\n",
       "      <td>She Who Remembers</td>\n",
       "      <td>Linda Lay Shuler</td>\n",
       "      <td>1989.0</td>\n",
       "      <td>Signet Book</td>\n",
       "    </tr>\n",
       "  </tbody>\n",
       "</table>\n",
       "</div>"
      ],
      "text/plain": [
       "             ID     User-ID      Book-ID  Book-Rating   Age  \\\n",
       "0  TRAIN_000000  USER_00000  BOOK_044368            8  23.0   \n",
       "1  TRAIN_000001  USER_00000  BOOK_081205            8  23.0   \n",
       "2  TRAIN_000002  USER_00000  BOOK_086781            0  23.0   \n",
       "3  TRAIN_000003  USER_00000  BOOK_098622            0  23.0   \n",
       "4  TRAIN_000004  USER_00000  BOOK_180810            8  23.0   \n",
       "\n",
       "                           Location                          Book-Title  \\\n",
       "0  sackville, new brunswick, canada                          Road Taken   \n",
       "1  sackville, new brunswick, canada   Macbeth (New Penguin Shakespeare)   \n",
       "2  sackville, new brunswick, canada  Waverley (Penguin English Library)   \n",
       "3  sackville, new brunswick, canada             Mother Earth Father Sky   \n",
       "4  sackville, new brunswick, canada                   She Who Remembers   \n",
       "\n",
       "           Book-Author  Year-Of-Publication      Publisher  \n",
       "0           Rona Jaffe               2001.0           Mira  \n",
       "1  William Shakespeare               1981.0  Penguin Books  \n",
       "2         Walter Scott               1981.0  Penguin Books  \n",
       "3         Sue Harrison               1991.0           Avon  \n",
       "4     Linda Lay Shuler               1989.0    Signet Book  "
      ]
     },
     "execution_count": 205,
     "metadata": {},
     "output_type": "execute_result"
    }
   ],
   "source": [
    "train.head()"
   ]
  },
  {
   "cell_type": "code",
   "execution_count": 206,
   "id": "a02956eb-8b5f-4abd-9141-b18aafaacb8d",
   "metadata": {},
   "outputs": [
    {
     "name": "stdout",
     "output_type": "stream",
     "text": [
      "<class 'pandas.core.frame.DataFrame'>\n",
      "RangeIndex: 871393 entries, 0 to 871392\n",
      "Data columns (total 10 columns):\n",
      " #   Column               Non-Null Count   Dtype  \n",
      "---  ------               --------------   -----  \n",
      " 0   ID                   871393 non-null  object \n",
      " 1   User-ID              871393 non-null  object \n",
      " 2   Book-ID              871393 non-null  object \n",
      " 3   Book-Rating          871393 non-null  int64  \n",
      " 4   Age                  871393 non-null  float64\n",
      " 5   Location             871393 non-null  object \n",
      " 6   Book-Title           871393 non-null  object \n",
      " 7   Book-Author          871393 non-null  object \n",
      " 8   Year-Of-Publication  871393 non-null  float64\n",
      " 9   Publisher            871393 non-null  object \n",
      "dtypes: float64(2), int64(1), object(7)\n",
      "memory usage: 66.5+ MB\n"
     ]
    }
   ],
   "source": [
    "train.info()"
   ]
  },
  {
   "cell_type": "code",
   "execution_count": 207,
   "id": "82a299a6-f03a-453d-96a5-569f8128ef2e",
   "metadata": {},
   "outputs": [],
   "source": [
    "train['Book-Author'] = train['Book-Author'].str.lower().replace('[^0-9a-zA-Z]', '', regex=True)"
   ]
  },
  {
   "cell_type": "code",
   "execution_count": 208,
   "id": "afd267ba-6d64-4ea0-b66f-55b5af467294",
   "metadata": {},
   "outputs": [
    {
     "name": "stdout",
     "output_type": "stream",
     "text": [
      "<class 'pandas.core.frame.DataFrame'>\n",
      "RangeIndex: 871393 entries, 0 to 871392\n",
      "Data columns (total 10 columns):\n",
      " #   Column               Non-Null Count   Dtype  \n",
      "---  ------               --------------   -----  \n",
      " 0   ID                   871393 non-null  object \n",
      " 1   User-ID              871393 non-null  object \n",
      " 2   Book-ID              871393 non-null  object \n",
      " 3   Book-Rating          871393 non-null  int64  \n",
      " 4   Age                  871393 non-null  float64\n",
      " 5   Location             871393 non-null  object \n",
      " 6   Book-Title           871393 non-null  object \n",
      " 7   Book-Author          871393 non-null  object \n",
      " 8   Year-Of-Publication  871393 non-null  float64\n",
      " 9   Publisher            871393 non-null  object \n",
      "dtypes: float64(2), int64(1), object(7)\n",
      "memory usage: 66.5+ MB\n"
     ]
    }
   ],
   "source": [
    "train.info()"
   ]
  },
  {
   "cell_type": "code",
   "execution_count": 209,
   "id": "1a2213b1-d692-4376-99e7-d10a8b023ccc",
   "metadata": {},
   "outputs": [
    {
     "data": {
      "text/html": [
       "<div>\n",
       "<style scoped>\n",
       "    .dataframe tbody tr th:only-of-type {\n",
       "        vertical-align: middle;\n",
       "    }\n",
       "\n",
       "    .dataframe tbody tr th {\n",
       "        vertical-align: top;\n",
       "    }\n",
       "\n",
       "    .dataframe thead th {\n",
       "        text-align: right;\n",
       "    }\n",
       "</style>\n",
       "<table border=\"1\" class=\"dataframe\">\n",
       "  <thead>\n",
       "    <tr style=\"text-align: right;\">\n",
       "      <th></th>\n",
       "      <th>ID</th>\n",
       "      <th>User-ID</th>\n",
       "      <th>Book-ID</th>\n",
       "      <th>Book-Rating</th>\n",
       "      <th>Age</th>\n",
       "      <th>Location</th>\n",
       "      <th>Book-Title</th>\n",
       "      <th>Book-Author</th>\n",
       "      <th>Year-Of-Publication</th>\n",
       "      <th>Publisher</th>\n",
       "    </tr>\n",
       "  </thead>\n",
       "  <tbody>\n",
       "    <tr>\n",
       "      <th>0</th>\n",
       "      <td>TRAIN_000000</td>\n",
       "      <td>USER_00000</td>\n",
       "      <td>BOOK_044368</td>\n",
       "      <td>8</td>\n",
       "      <td>23.0</td>\n",
       "      <td>sackville, new brunswick, canada</td>\n",
       "      <td>Road Taken</td>\n",
       "      <td>ronajaffe</td>\n",
       "      <td>2001.0</td>\n",
       "      <td>Mira</td>\n",
       "    </tr>\n",
       "    <tr>\n",
       "      <th>1</th>\n",
       "      <td>TRAIN_000001</td>\n",
       "      <td>USER_00000</td>\n",
       "      <td>BOOK_081205</td>\n",
       "      <td>8</td>\n",
       "      <td>23.0</td>\n",
       "      <td>sackville, new brunswick, canada</td>\n",
       "      <td>Macbeth (New Penguin Shakespeare)</td>\n",
       "      <td>williamshakespeare</td>\n",
       "      <td>1981.0</td>\n",
       "      <td>Penguin Books</td>\n",
       "    </tr>\n",
       "    <tr>\n",
       "      <th>2</th>\n",
       "      <td>TRAIN_000002</td>\n",
       "      <td>USER_00000</td>\n",
       "      <td>BOOK_086781</td>\n",
       "      <td>0</td>\n",
       "      <td>23.0</td>\n",
       "      <td>sackville, new brunswick, canada</td>\n",
       "      <td>Waverley (Penguin English Library)</td>\n",
       "      <td>walterscott</td>\n",
       "      <td>1981.0</td>\n",
       "      <td>Penguin Books</td>\n",
       "    </tr>\n",
       "    <tr>\n",
       "      <th>3</th>\n",
       "      <td>TRAIN_000003</td>\n",
       "      <td>USER_00000</td>\n",
       "      <td>BOOK_098622</td>\n",
       "      <td>0</td>\n",
       "      <td>23.0</td>\n",
       "      <td>sackville, new brunswick, canada</td>\n",
       "      <td>Mother Earth Father Sky</td>\n",
       "      <td>sueharrison</td>\n",
       "      <td>1991.0</td>\n",
       "      <td>Avon</td>\n",
       "    </tr>\n",
       "    <tr>\n",
       "      <th>4</th>\n",
       "      <td>TRAIN_000004</td>\n",
       "      <td>USER_00000</td>\n",
       "      <td>BOOK_180810</td>\n",
       "      <td>8</td>\n",
       "      <td>23.0</td>\n",
       "      <td>sackville, new brunswick, canada</td>\n",
       "      <td>She Who Remembers</td>\n",
       "      <td>lindalayshuler</td>\n",
       "      <td>1989.0</td>\n",
       "      <td>Signet Book</td>\n",
       "    </tr>\n",
       "  </tbody>\n",
       "</table>\n",
       "</div>"
      ],
      "text/plain": [
       "             ID     User-ID      Book-ID  Book-Rating   Age  \\\n",
       "0  TRAIN_000000  USER_00000  BOOK_044368            8  23.0   \n",
       "1  TRAIN_000001  USER_00000  BOOK_081205            8  23.0   \n",
       "2  TRAIN_000002  USER_00000  BOOK_086781            0  23.0   \n",
       "3  TRAIN_000003  USER_00000  BOOK_098622            0  23.0   \n",
       "4  TRAIN_000004  USER_00000  BOOK_180810            8  23.0   \n",
       "\n",
       "                           Location                          Book-Title  \\\n",
       "0  sackville, new brunswick, canada                          Road Taken   \n",
       "1  sackville, new brunswick, canada   Macbeth (New Penguin Shakespeare)   \n",
       "2  sackville, new brunswick, canada  Waverley (Penguin English Library)   \n",
       "3  sackville, new brunswick, canada             Mother Earth Father Sky   \n",
       "4  sackville, new brunswick, canada                   She Who Remembers   \n",
       "\n",
       "          Book-Author  Year-Of-Publication      Publisher  \n",
       "0           ronajaffe               2001.0           Mira  \n",
       "1  williamshakespeare               1981.0  Penguin Books  \n",
       "2         walterscott               1981.0  Penguin Books  \n",
       "3         sueharrison               1991.0           Avon  \n",
       "4      lindalayshuler               1989.0    Signet Book  "
      ]
     },
     "execution_count": 209,
     "metadata": {},
     "output_type": "execute_result"
    }
   ],
   "source": [
    "train.head()"
   ]
  },
  {
   "cell_type": "code",
   "execution_count": 210,
   "id": "f396b38e-1b1a-436a-af9e-e833d86add38",
   "metadata": {},
   "outputs": [
    {
     "name": "stdout",
     "output_type": "stream",
     "text": [
      "각 칼럼별 최빈값\n",
      "국가: usa \n",
      "주: california \n",
      "도시: n/a\n"
     ]
    }
   ],
   "source": [
    "# Location 분리\n",
    "train['Location'] = train['Location'].str.replace(r'[^0-9a-zA-Z:,]', '')\n",
    "train['city'] = train['Location'].apply(lambda x: x.split(',')[0].strip())\n",
    "train['state'] = train['Location'].apply(lambda x: x.split(',')[1].strip())\n",
    "train['country'] = train['Location'].apply(lambda x: x.split(',')[2].strip())\n",
    "\n",
    "train.drop('Location', axis=1, inplace=True)\n",
    "train = train.replace('na', np.nan)\n",
    "train = train.replace('', np.nan)\n",
    "\n",
    "# Location 최빈값으로 대체\n",
    "mode_city = train['city'].mode()[0]\n",
    "mode_state = train['state'].mode()[0]\n",
    "mode_country = train['country'].mode()[0]\n",
    "\n",
    "# 결측값 대체\n",
    "train['city'].fillna(mode_city, inplace=True)\n",
    "train['state'].fillna(mode_state, inplace=True)\n",
    "train['country'].fillna(mode_country, inplace=True)\n",
    "\n",
    "print('각 칼럼별 최빈값')\n",
    "print('국가:', mode_country, '\\n주:', mode_state, '\\n도시:', mode_city)\n",
    "# train.isnull().sum()"
   ]
  },
  {
   "cell_type": "code",
   "execution_count": 211,
   "id": "9723d77f-0f84-4599-b241-2aea29c2a795",
   "metadata": {},
   "outputs": [],
   "source": [
    "## Age 이상치 처리\n",
    "# 이상치: 5세 이하 90세 초과\n",
    "train.loc[(train['Age'] <= 5)|(train['Age'] > 90), 'Age'] = np.nan\n",
    "train['Age'].isnull().sum() # 5세 이하 또는 90세 초과인 데이터 4497개\n",
    "# 평균값으로 대체\n",
    "train['Age'].mean() # Age (이상치 제거 후) 평균: 36.541634752034845\n",
    "train['Age'] = train['Age'].fillna(train['Age'].mean())\n",
    "\n",
    "## Age 범주화\n",
    "# Age_group: 이상치 처리 & 5세 단위로 범주화\n",
    "train['Age_group'] = pd.cut(train['Age'], bins = list(range(5, 91, 5)))\n",
    "# 시각화로 분포 살펴보기\n",
    "#train['Age_group'].value_counts().sort_index().plot.bar()\n",
    "#plt.title('Age-group Distribution (Train)')\n",
    "#plt.show()\n",
    "\n",
    "# Age_group2: 이상치 처리 & 미국 노동통계국 자료를 참고한 범주화\n",
    "train['Age_group2'] = pd.cut(train['Age'], bins = [5, 6, 8, 12, 18, 25, 34, 44, 54, 64, 74, 91])\n",
    "# 시각화로 분포 살펴보기\n",
    "#train['Age_group2'].value_counts().sort_index().plot.bar()\n",
    "#plt.title('Age-group2 Distribution (Train)')\n",
    "#plt.show()"
   ]
  },
  {
   "cell_type": "code",
   "execution_count": 212,
   "id": "2351ae54-fe8d-44fc-9f4f-6945e3f900c0",
   "metadata": {},
   "outputs": [],
   "source": [
    "# 소문자 통일, 특수문자 제거 (종류: 15505 -> 15021)\n",
    "train['Publisher'] = train['Publisher'].str.lower().replace('[^0-9a-zA-Z\\s]', '', regex=True)\n",
    "\n",
    "# 소문자 통일, 특수문자 제거, 띄어쓰기 제거 (종류: 15505 -> 14840)\n",
    "train['Publisher'] = train['Publisher'].str.lower().replace('[^0-9a-zA-Z]', '', regex=True)"
   ]
  },
  {
   "cell_type": "code",
   "execution_count": 213,
   "id": "0f8ae4dd-3faf-4e1f-9ecd-737fdaf3e425",
   "metadata": {},
   "outputs": [],
   "source": [
    "train['Book-Author'] = train['Book-Author'].str.lower().replace('[^0-9a-zA-Z]', '', regex=True)"
   ]
  },
  {
   "cell_type": "code",
   "execution_count": 214,
   "id": "e116c154-c382-4bb7-9bb5-dc4aacd2165e",
   "metadata": {},
   "outputs": [],
   "source": [
    "# Title 데이터 정리\n",
    "import re # 정규표현 모듈\n",
    "\n",
    "# 정규표현식으로 대소문자 통일, 특수문자 제거\n",
    "train['Book-Title'] = [re.sub(r'[^0-9a-zA-Z:,]',  ' ',str(i)) for i in train['Book-Title']]\n",
    "train['Main_Title'] = [i.split('  ')[0] for i in train['Book-Title']]\n",
    "train['Sub_Title'] = [''.join(i.split('  ')[1:]) for i in train['Book-Title']]\n",
    "train['Sub_Title'] = np.where(train['Sub_Title'] == '', 'No_SUB', train['Sub_Title'])"
   ]
  },
  {
   "cell_type": "code",
   "execution_count": 215,
   "id": "60b136d6-ad09-423d-ba9d-c1e2941eb666",
   "metadata": {},
   "outputs": [],
   "source": [
    "# 출판년도 그룹화\n",
    "# 만약 출판연도가 null이 있다면 정보없음(-1)로 채움\n",
    "# train['Year-Of-Publication'] = train['Year-Of-Publication'].fillna(-1)\n",
    "\n",
    "labels = ['Unknown', '-1800', '1800-1850', '1850-1900', '1900-1910', '1910-1920', '1920-1930', '1930-1940', '1940-1950','1950-1960', '1960-1970', '1970-1980', '1980-1990', '1990-2000', '2000-2010', '2010-2020', '2020-']\n",
    "bins = [-1, 0, 1800, 1850, 1900, 1910, 1920, 1930, 1940, 1950, 1960, 1970, 1980, 1990, 2000, 2010, 2020, 3000]\n",
    "train['Pub_gb'] = pd.cut(train['Year-Of-Publication'], bins, labels = labels,include_lowest = True)    \n",
    "train = train.drop(columns =['Year-Of-Publication'])\n",
    "#train['Year-Of-Publication'] = pd.cut(train['Year-Of-Publication'], bins=bins, labels=labels)"
   ]
  },
  {
   "cell_type": "code",
   "execution_count": 216,
   "id": "eb407b8f-a38b-47c1-9fbd-f96c4b5f0ee3",
   "metadata": {},
   "outputs": [],
   "source": [
    "# dataset 바탕화면에 저장\n",
    "import pandas as pd\n",
    "import os\n",
    "\n",
    "os.chdir(\"C:/Users/jain5/Desktop\") # dataset을 저장할 경로를 작성하기\n",
    "train.to_csv(\"train_dataset.csv\")"
   ]
  },
  {
   "cell_type": "markdown",
   "id": "a145edec-0d74-437c-afb9-e7bb171cf38a",
   "metadata": {},
   "source": [
    "-------test data 추가-------"
   ]
  },
  {
   "cell_type": "code",
   "execution_count": 217,
   "id": "888cba4d-8793-426a-9c91-a760c48e5036",
   "metadata": {},
   "outputs": [],
   "source": [
    "# Title 데이터 정리\n",
    "import re # 정규표현 모듈\n",
    "\n",
    "# 소문자로 통일, 특수문자 제거\n",
    "test['Book-Title'] = test['Book-Title']\\\n",
    "                        .str.lower().replace('[^0-9a-zA-Z]', '', regex=True)\n",
    "test['Main_Title'] = [i.split('  ')[0] for i in test['Book-Title']]\n",
    "# SUB_title로 나누기\n",
    "test['Sub_Title'] = [''.join(i.split('  ')[1:]) for i in test['Book-Title']]\n",
    "# SUB_title이 없으면 No_SUB\n",
    "test['Sub_Title'] = np.where(test['Sub_Title'] == '', 'No_SUB', test['Sub_Title'])"
   ]
  },
  {
   "cell_type": "code",
   "execution_count": 218,
   "id": "0ca67c6e-15b1-43e3-8f8c-3c5bd456bcf8",
   "metadata": {},
   "outputs": [],
   "source": [
    "# 출판년도 그룹화\n",
    "# 만약 출판연도가 null이 있다면 정보없음(-1)로 채움\n",
    "test['Year-Of-Publication'] = test['Year-Of-Publication'].fillna(-1)\n",
    "labels = ['Unknown', '-1800', '1800-1850', '1850-1900', '1900-1910', '1910-1920', '1920-1930', '1930-1940', '1940-1950','1950-1960', '1960-1970', '1970-1980', '1980-1990', '1990-2000', '2000-2010', '2010-2020', '2020-']\n",
    "bins = [-1, 0, 1800, 1850, 1900, 1910, 1920, 1930, 1940, 1950, 1960, 1970, 1980, 1990, 2000, 2010, 2020, 3000]\n",
    "test['Pub_gb'] = pd.cut(test['Year-Of-Publication'], bins, labels = labels,include_lowest = True)    \n",
    "test = test.drop(columns =['Year-Of-Publication'])\n",
    "#train['Year-Of-Publication'] = pd.cut(train['Year-Of-Publication'], bins=bins, labels=labels)\n"
   ]
  },
  {
   "cell_type": "code",
   "execution_count": 219,
   "id": "8c8a9a85-9f24-40c6-8200-18a4ae10581f",
   "metadata": {},
   "outputs": [],
   "source": [
    "## Age 이상치 처리\n",
    "# 이상치: 5세 이하 90세 초과\n",
    "test.loc[(test['Age'] <= 5)|(test['Age'] > 90), 'Age'] = np.nan\n",
    "test['Age'].isnull().sum() # 5세 이하 또는 90세 초과인 데이터 4497개\n",
    "# 평균값으로 대체\n",
    "test['Age'].mean() # Age (이상치 제거 후) 평균: 36.541634752034845\n",
    "test['Age'] = test['Age'].fillna(test['Age'].mean())\n",
    "\n",
    "## Age 범주화\n",
    "# Age_group: 이상치 처리 & 5세 단위로 범주화\n",
    "test['Age_group'] = pd.cut(test['Age'], bins = list(range(5, 91, 5)))\n",
    "# 시각화로 분포 살펴보기\n",
    "#train['Age_group'].value_counts().sort_index().plot.bar()\n",
    "#plt.title('Age-group Distribution (Train)')\n",
    "#plt.show()\n",
    "\n",
    "# Age_group2: 이상치 처리 & 미국 노동통계국 자료를 참고한 범주화\n",
    "test['Age_group2'] = pd.cut(test['Age'], bins = [5, 6, 8, 12, 18, 25, 34, 44, 54, 64, 74, 91])\n",
    "# 시각화로 분포 살펴보기\n",
    "#train['Age_group2'].value_counts().sort_index().plot.bar()\n",
    "#plt.title('Age-group2 Distribution (Train)')\n",
    "#plt.show()"
   ]
  },
  {
   "cell_type": "code",
   "execution_count": 220,
   "id": "ed0b2755-3d1f-4438-b738-34533ab024d5",
   "metadata": {},
   "outputs": [],
   "source": [
    "# 소문자 통일, 특수문자 제거 (종류: 15505 -> 15021)\n",
    "test['Publisher'] = test['Publisher'].str.lower().replace('[^0-9a-zA-Z\\s]', '', regex=True)\n",
    "\n",
    "# 소문자 통일, 특수문자 제거, 띄어쓰기 제거 (종류: 15505 -> 14840)\n",
    "test['Publisher'] = test['Publisher'].str.lower().replace('[^0-9a-zA-Z\\s]', '', regex=True)"
   ]
  },
  {
   "cell_type": "code",
   "execution_count": 221,
   "id": "a5bf1626-e44d-4b32-8dd5-4bd3bc698bc3",
   "metadata": {},
   "outputs": [
    {
     "name": "stdout",
     "output_type": "stream",
     "text": [
      "각 칼럼별 최빈값\n",
      "국가: usa \n",
      "주: california \n",
      "도시: toronto\n"
     ]
    }
   ],
   "source": [
    "# Location 분리\n",
    "test['Location'] = test['Location'].str.replace(r'[^0-9a-zA-Z:,]', '')\n",
    "test['city'] = test['Location'].apply(lambda x: x.split(',')[0].strip())\n",
    "test['state'] = test['Location'].apply(lambda x: x.split(',')[1].strip())\n",
    "test['country'] = test['Location'].apply(lambda x: x.split(',')[2].strip())\n",
    "\n",
    "test.drop('Location', axis=1, inplace=True)\n",
    "test = test.replace('na', np.nan)\n",
    "test = test.replace('', np.nan)\n",
    "\n",
    "# Location 최빈값으로 대체\n",
    "mode_city = test['city'].mode()[0]\n",
    "mode_state = test['state'].mode()[0]\n",
    "mode_country = test['country'].mode()[0]\n",
    "\n",
    "# 결측값 대체\n",
    "test['city'].fillna(mode_city, inplace=True)\n",
    "test['state'].fillna(mode_state, inplace=True)\n",
    "test['country'].fillna(mode_country, inplace=True)\n",
    "\n",
    "print('각 칼럼별 최빈값')\n",
    "print('국가:', mode_country, '\\n주:', mode_state, '\\n도시:', mode_city)\n",
    "# train.isnull().sum()"
   ]
  },
  {
   "cell_type": "code",
   "execution_count": 222,
   "id": "0514b48f-a73c-426f-8acd-e0b4164eb585",
   "metadata": {},
   "outputs": [],
   "source": [
    "test['Book-Author'] = test['Book-Author'].str.lower().replace('[^0-9a-zA-Z]', '', regex=True)"
   ]
  },
  {
   "cell_type": "code",
   "execution_count": 226,
   "id": "a6c59b51-0938-4df9-b4f0-5bcb23e8e24a",
   "metadata": {},
   "outputs": [],
   "source": [
    "# dataset 바탕화면에 저장\n",
    "import pandas as pd\n",
    "import os\n",
    "\n",
    "os.chdir(\"C:/Users/jain5/Desktop\") # dataset을 저장할 경로를 작성하기\n",
    "test.to_csv(\"test_dataset.csv\")"
   ]
  },
  {
   "cell_type": "code",
   "execution_count": null,
   "id": "8c44a68a-1dbb-43b8-96dc-551d2a092644",
   "metadata": {},
   "outputs": [],
   "source": []
  }
 ],
 "metadata": {
  "kernelspec": {
   "display_name": "Python 3 (ipykernel)",
   "language": "python",
   "name": "python3"
  },
  "language_info": {
   "codemirror_mode": {
    "name": "ipython",
    "version": 3
   },
   "file_extension": ".py",
   "mimetype": "text/x-python",
   "name": "python",
   "nbconvert_exporter": "python",
   "pygments_lexer": "ipython3",
   "version": "3.9.13"
  }
 },
 "nbformat": 4,
 "nbformat_minor": 5
}
