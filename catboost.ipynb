{
  "cells": [
    {
      "cell_type": "code",
      "source": [
        "!pip install optuna catboost"
      ],
      "metadata": {
        "colab": {
          "base_uri": "https://localhost:8080/"
        },
        "id": "GdQo17C-5XNt",
        "outputId": "9911c38e-2325-4333-8f47-49fc9c108e4c"
      },
      "id": "GdQo17C-5XNt",
      "execution_count": 1,
      "outputs": [
        {
          "output_type": "stream",
          "name": "stdout",
          "text": [
            "Requirement already satisfied: optuna in /usr/local/lib/python3.10/dist-packages (3.5.0)\n",
            "Requirement already satisfied: catboost in /usr/local/lib/python3.10/dist-packages (1.2.2)\n",
            "Requirement already satisfied: alembic>=1.5.0 in /usr/local/lib/python3.10/dist-packages (from optuna) (1.13.1)\n",
            "Requirement already satisfied: colorlog in /usr/local/lib/python3.10/dist-packages (from optuna) (6.8.2)\n",
            "Requirement already satisfied: numpy in /usr/local/lib/python3.10/dist-packages (from optuna) (1.23.5)\n",
            "Requirement already satisfied: packaging>=20.0 in /usr/local/lib/python3.10/dist-packages (from optuna) (23.2)\n",
            "Requirement already satisfied: sqlalchemy>=1.3.0 in /usr/local/lib/python3.10/dist-packages (from optuna) (2.0.24)\n",
            "Requirement already satisfied: tqdm in /usr/local/lib/python3.10/dist-packages (from optuna) (4.66.1)\n",
            "Requirement already satisfied: PyYAML in /usr/local/lib/python3.10/dist-packages (from optuna) (6.0.1)\n",
            "Requirement already satisfied: graphviz in /usr/local/lib/python3.10/dist-packages (from catboost) (0.20.1)\n",
            "Requirement already satisfied: matplotlib in /usr/local/lib/python3.10/dist-packages (from catboost) (3.7.1)\n",
            "Requirement already satisfied: pandas>=0.24 in /usr/local/lib/python3.10/dist-packages (from catboost) (1.5.3)\n",
            "Requirement already satisfied: scipy in /usr/local/lib/python3.10/dist-packages (from catboost) (1.11.4)\n",
            "Requirement already satisfied: plotly in /usr/local/lib/python3.10/dist-packages (from catboost) (5.15.0)\n",
            "Requirement already satisfied: six in /usr/local/lib/python3.10/dist-packages (from catboost) (1.16.0)\n",
            "Requirement already satisfied: Mako in /usr/local/lib/python3.10/dist-packages (from alembic>=1.5.0->optuna) (1.3.2)\n",
            "Requirement already satisfied: typing-extensions>=4 in /usr/local/lib/python3.10/dist-packages (from alembic>=1.5.0->optuna) (4.5.0)\n",
            "Requirement already satisfied: python-dateutil>=2.8.1 in /usr/local/lib/python3.10/dist-packages (from pandas>=0.24->catboost) (2.8.2)\n",
            "Requirement already satisfied: pytz>=2020.1 in /usr/local/lib/python3.10/dist-packages (from pandas>=0.24->catboost) (2023.4)\n",
            "Requirement already satisfied: greenlet!=0.4.17 in /usr/local/lib/python3.10/dist-packages (from sqlalchemy>=1.3.0->optuna) (3.0.3)\n",
            "Requirement already satisfied: contourpy>=1.0.1 in /usr/local/lib/python3.10/dist-packages (from matplotlib->catboost) (1.2.0)\n",
            "Requirement already satisfied: cycler>=0.10 in /usr/local/lib/python3.10/dist-packages (from matplotlib->catboost) (0.12.1)\n",
            "Requirement already satisfied: fonttools>=4.22.0 in /usr/local/lib/python3.10/dist-packages (from matplotlib->catboost) (4.47.2)\n",
            "Requirement already satisfied: kiwisolver>=1.0.1 in /usr/local/lib/python3.10/dist-packages (from matplotlib->catboost) (1.4.5)\n",
            "Requirement already satisfied: pillow>=6.2.0 in /usr/local/lib/python3.10/dist-packages (from matplotlib->catboost) (9.4.0)\n",
            "Requirement already satisfied: pyparsing>=2.3.1 in /usr/local/lib/python3.10/dist-packages (from matplotlib->catboost) (3.1.1)\n",
            "Requirement already satisfied: tenacity>=6.2.0 in /usr/local/lib/python3.10/dist-packages (from plotly->catboost) (8.2.3)\n",
            "Requirement already satisfied: MarkupSafe>=0.9.2 in /usr/local/lib/python3.10/dist-packages (from Mako->alembic>=1.5.0->optuna) (2.1.4)\n"
          ]
        }
      ]
    },
    {
      "cell_type": "code",
      "execution_count": 2,
      "id": "d58c9dbc-8a89-4147-a3a0-594a1b4b6fc6",
      "metadata": {
        "id": "d58c9dbc-8a89-4147-a3a0-594a1b4b6fc6"
      },
      "outputs": [],
      "source": [
        "import pandas as pd\n",
        "import numpy as np\n",
        "from sklearn.preprocessing import LabelEncoder\n",
        "import optuna\n",
        "from catboost import CatBoostRegressor\n",
        "from sklearn.model_selection import KFold, StratifiedKFold\n",
        "from sklearn.metrics import make_scorer, mean_squared_error, mean_absolute_error\n",
        "from sklearn.model_selection import train_test_split\n",
        "import matplotlib.pyplot as plt\n",
        "import seaborn as sns\n",
        "import warnings\n",
        "import gc"
      ]
    },
    {
      "cell_type": "code",
      "source": [
        "from google.colab import drive\n",
        "drive.mount('/content/drive')"
      ],
      "metadata": {
        "colab": {
          "base_uri": "https://localhost:8080/"
        },
        "id": "fWpIMdgb0LBd",
        "outputId": "7e510758-a221-40e4-f895-1791f06b8514"
      },
      "id": "fWpIMdgb0LBd",
      "execution_count": 4,
      "outputs": [
        {
          "output_type": "stream",
          "name": "stdout",
          "text": [
            "Drive already mounted at /content/drive; to attempt to forcibly remount, call drive.mount(\"/content/drive\", force_remount=True).\n"
          ]
        }
      ]
    },
    {
      "cell_type": "code",
      "source": [
        "import os\n",
        "os.chdir('/content/drive/MyDrive/Euron')"
      ],
      "metadata": {
        "id": "uO3D81WN0N1_"
      },
      "id": "uO3D81WN0N1_",
      "execution_count": 5,
      "outputs": []
    },
    {
      "cell_type": "code",
      "source": [
        "train = pd.read_csv('train.csv')\n",
        "test = pd.read_csv('test.csv')\n",
        "submission = pd.read_csv('sample_submission.csv')"
      ],
      "metadata": {
        "id": "EtPCBd365Kss"
      },
      "id": "EtPCBd365Kss",
      "execution_count": 6,
      "outputs": []
    },
    {
      "cell_type": "code",
      "execution_count": 7,
      "id": "48f4b273-4266-4abb-8caf-47c3a028ffaf",
      "metadata": {
        "id": "48f4b273-4266-4abb-8caf-47c3a028ffaf",
        "colab": {
          "base_uri": "https://localhost:8080/"
        },
        "outputId": "1de9759f-8741-4f8f-fe0a-9fd4a4f018aa"
      },
      "outputs": [
        {
          "output_type": "stream",
          "name": "stderr",
          "text": [
            "<ipython-input-7-4af6f511e24b>:5: FutureWarning: The default value of regex will change from True to False in a future version.\n",
            "  train['Location'] = train['Location'].str.replace(r'[^0-9a-zA-Z:,]', '')\n"
          ]
        }
      ],
      "source": [
        "#train.drop(columns=['ID', 'Book-ID', 'Year-Of-Publication'], inplace=True)\n",
        "#test.drop(columns=['ID', 'Book-ID', 'Year-Of-Publication'], inplace=True)\n",
        "# location 전처리\n",
        "# Location 분리\n",
        "train['Location'] = train['Location'].str.replace(r'[^0-9a-zA-Z:,]', '')\n",
        "train['city'] = train['Location'].apply(lambda x: x.split(',')[0].strip())\n",
        "train['state'] = train['Location'].apply(lambda x: x.split(',')[1].strip())\n",
        "train['country'] = train['Location'].apply(lambda x: x.split(',')[2].strip())\n",
        "\n",
        "train.drop('Location', axis=1, inplace=True)\n",
        "train = train.replace('na', np.nan)\n",
        "train = train.replace('', np.nan)\n",
        "\n",
        "# Location 최빈값으로 대체\n",
        "mode_city = train['city'].mode()[0]\n",
        "mode_state = train['state'].mode()[0]\n",
        "mode_country = train['country'].mode()[0]\n",
        "\n",
        "# 결측값 대체\n",
        "train['city'].fillna(mode_city, inplace=True)\n",
        "train['state'].fillna(mode_state, inplace=True)\n",
        "train['country'].fillna(mode_country, inplace=True)"
      ]
    },
    {
      "cell_type": "code",
      "source": [
        "## Age 이상치 처리\n",
        "# 이상치: 5세 이하 90세 초과\n",
        "train.loc[(train['Age'] <= 5)|(train['Age'] > 90), 'Age'] = np.nan\n",
        "train['Age'].isnull().sum() # 5세 이하 또는 90세 초과인 데이터 4497개\n",
        "# 평균값으로 대체\n",
        "train['Age'].mean() # Age (이상치 제거 후) 평균: 36.541634752034845\n",
        "train['Age'] = train['Age'].fillna(train['Age'].mean())\n",
        "\n",
        "## Age 범주화\n",
        "# Age_group: 이상치 처리 & 5세 단위로 범주화\n",
        "train['Age_group'] = pd.cut(train['Age'], bins = list(range(5, 91, 5)))\n",
        "\n",
        "from sklearn.preprocessing import LabelEncoder\n",
        "\n",
        "encoder = LabelEncoder() #labelencoder함수를 가져온다.\n",
        "encoder.fit(train['Age_group']) #내가 가지고 있는 데이터에 학습시킨다\n",
        "digit_label = encoder.transform(train['Age_group'])\n",
        "train['Age_group'] = digit_label # encoding 잘됐나?\n",
        "#train['Age_group']"
      ],
      "metadata": {
        "id": "olR13yoUrn5y"
      },
      "id": "olR13yoUrn5y",
      "execution_count": 8,
      "outputs": []
    },
    {
      "cell_type": "code",
      "source": [
        "# 소문자 통일, 특수문자 제거 (종류: 15505 -> 15021)\n",
        "train['Publisher'] = train['Publisher'].str.lower().replace('[^0-9a-zA-Z\\s]', '', regex=True)\n",
        "\n",
        "# 소문자 통일, 특수문자 제거, 띄어쓰기 제거 (종류: 15505 -> 14840)\n",
        "train['Publisher'] = train['Publisher'].str.lower().replace('[^0-9a-zA-Z]', '', regex=True)"
      ],
      "metadata": {
        "id": "JOdWDEhOtcXc"
      },
      "id": "JOdWDEhOtcXc",
      "execution_count": 9,
      "outputs": []
    },
    {
      "cell_type": "code",
      "source": [
        "train['Book-Author'] = train['Book-Author'].str.lower().replace('[^0-9a-zA-Z]', '', regex=True)"
      ],
      "metadata": {
        "id": "ydbpwyoktdJt"
      },
      "id": "ydbpwyoktdJt",
      "execution_count": 10,
      "outputs": []
    },
    {
      "cell_type": "code",
      "source": [
        "# 출판년도 그룹화\n",
        "# 만약 출판연도가 null이 있다면 정보없음(-1)로 채움\n",
        "# train['Year-Of-Publication'] = train['Year-Of-Publication'].fillna(-1)\n",
        "\n",
        "labels = ['Unknown', '-1800', '1800-1850', '1850-1900', '1900-1910', '1910-1920', '1920-1930', '1930-1940', '1940-1950','1950-1960', '1960-1970', '1970-1980', '1980-1990', '1990-2000', '2000-2010', '2010-2020', '2020-']\n",
        "bins = [-1, 0, 1800, 1850, 1900, 1910, 1920, 1930, 1940, 1950, 1960, 1970, 1980, 1990, 2000, 2010, 2020, 3000]\n",
        "train['Pub_gb'] = pd.cut(train['Year-Of-Publication'], bins, labels = labels,include_lowest = True)\n",
        "train = train.drop(columns =['Year-Of-Publication'])\n",
        "#train['Year-Of-Publication'] = pd.cut(train['Year-Of-Publication'], bins=bins, labels=labels)\n",
        "\n",
        "\n",
        "encoder2 = LabelEncoder() #labelencoder함수를 가져온다.\n",
        "encoder2.fit(train['Pub_gb']) #내가 가지고 있는 데이터에 학습시킨다\n",
        "digit_label = encoder2.transform(train['Pub_gb'])\n",
        "train['Pub_gb'] = digit_label # encoding 잘됐나?\n",
        "#train['Pub_gb']"
      ],
      "metadata": {
        "id": "HbC7XtbztqWa"
      },
      "id": "HbC7XtbztqWa",
      "execution_count": 11,
      "outputs": []
    },
    {
      "cell_type": "code",
      "source": [
        "# Title 데이터 정리\n",
        "import re # 정규표현 모듈\n",
        "\n",
        "# 정규표현식으로 대소문자 통일, 특수문자 제거\n",
        "train['Book-Title'] = [re.sub(r'[^0-9a-zA-Z:,]',  ' ',str(i)) for i in train['Book-Title']]\n",
        "train['Main_Title'] = [i.split('  ')[0] for i in train['Book-Title']]\n",
        "train['Sub_Title'] = [''.join(i.split('  ')[1:]) for i in train['Book-Title']]\n",
        "train['Sub_Title'] = np.where(train['Sub_Title'] == '', 'No_SUB', train['Sub_Title'])"
      ],
      "metadata": {
        "id": "q9RQKqBp8R0R"
      },
      "id": "q9RQKqBp8R0R",
      "execution_count": 13,
      "outputs": []
    },
    {
      "cell_type": "code",
      "source": [
        "train.info()"
      ],
      "metadata": {
        "colab": {
          "base_uri": "https://localhost:8080/"
        },
        "id": "5UmgGed775Zb",
        "outputId": "bb80c74c-dd74-4b29-b803-df622030ba0d"
      },
      "id": "5UmgGed775Zb",
      "execution_count": 7,
      "outputs": [
        {
          "output_type": "stream",
          "name": "stdout",
          "text": [
            "<class 'pandas.core.frame.DataFrame'>\n",
            "RangeIndex: 871393 entries, 0 to 871392\n",
            "Data columns (total 10 columns):\n",
            " #   Column               Non-Null Count   Dtype  \n",
            "---  ------               --------------   -----  \n",
            " 0   ID                   871393 non-null  object \n",
            " 1   User-ID              871393 non-null  object \n",
            " 2   Book-ID              871393 non-null  object \n",
            " 3   Book-Rating          871393 non-null  int64  \n",
            " 4   Age                  871393 non-null  float64\n",
            " 5   Location             871393 non-null  object \n",
            " 6   Book-Title           871393 non-null  object \n",
            " 7   Book-Author          871393 non-null  object \n",
            " 8   Year-Of-Publication  871393 non-null  float64\n",
            " 9   Publisher            871393 non-null  object \n",
            "dtypes: float64(2), int64(1), object(7)\n",
            "memory usage: 66.5+ MB\n"
          ]
        }
      ]
    },
    {
      "cell_type": "code",
      "execution_count": 17,
      "id": "c3f0d1c7-d713-4cfd-9d71-5c809cab7b46",
      "metadata": {
        "id": "c3f0d1c7-d713-4cfd-9d71-5c809cab7b46"
      },
      "outputs": [],
      "source": [
        "y = train['Book-Rating']\n",
        "\n",
        "X = train.drop(['Book-Rating','Book-ID','ID','Age','Year-Of-Publication'], axis=1)"
      ]
    },
    {
      "cell_type": "code",
      "execution_count": 18,
      "id": "218a6eeb-fdd2-483c-8073-98b1916d4771",
      "metadata": {
        "id": "218a6eeb-fdd2-483c-8073-98b1916d4771"
      },
      "outputs": [],
      "source": [
        "kf = StratifiedKFold(n_splits = 10, random_state = 42, shuffle = True)\n",
        "\n",
        "cat_feature = ['User-ID', 'Location', 'Book-Title', 'Book-Author', 'Publisher']"
      ]
    },
    {
      "cell_type": "code",
      "execution_count": 19,
      "id": "9622086f-6df0-4a4b-b45f-2360e764a5b1",
      "metadata": {
        "id": "9622086f-6df0-4a4b-b45f-2360e764a5b1"
      },
      "outputs": [],
      "source": [
        "def objective_cat(trial):\n",
        "    \"\"\"\n",
        "    Objective function to tune a `CatBoostRegressor` model.\n",
        "    \"\"\"\n",
        "\n",
        "    x_train, x_test, y_train, y_test = train_test_split(X, y, test_size=0.1, random_state=42, stratify=y)\n",
        "\n",
        "    params = {\n",
        "        'objective' :  'RMSE',\n",
        "        'n_estimators':trial.suggest_int(\"n_estimators\", 30, 10000),\n",
        "        'od_wait':trial.suggest_int('od_wait', 500, 2300),\n",
        "        'learning_rate' : trial.suggest_uniform('learning_rate',0.01, 1),\n",
        "        'reg_lambda': trial.suggest_uniform('reg_lambda',1e-5,100),\n",
        "        'random_strength': trial.suggest_uniform('random_strength',10,50),\n",
        "        'depth': trial.suggest_int('depth',1, 15),\n",
        "        'min_data_in_leaf': trial.suggest_int('min_data_in_leaf',1,30),\n",
        "        'random_state' : 42,\n",
        "        'task_type' : \"GPU\",\n",
        "        'verbose' : False\n",
        "    }\n",
        "\n",
        "\n",
        "    model = CatBoostRegressor(\n",
        "        **params,\n",
        "        cat_features=['User-ID', 'Location', 'Book-Title', 'Book-Author', 'Publisher']\n",
        "    )\n",
        "    model.fit(x_train, y_train, eval_set = [(x_test, y_test)], early_stopping_rounds = 500, verbose = 2000)\n",
        "\n",
        "    pred = model.predict(x_test)\n",
        "\n",
        "    mae = mean_squared_error(y_test, pred, squared=False)\n",
        "\n",
        "\n",
        "    return mae"
      ]
    },
    {
      "cell_type": "code",
      "source": [
        "study = optuna.create_study(direction=\"minimize\")\n",
        "study.optimize(objective_cat, n_trials=10)"
      ],
      "metadata": {
        "colab": {
          "base_uri": "https://localhost:8080/"
        },
        "id": "hRN-YZlunveL",
        "outputId": "b1bc5fae-dc71-47a8-b1d1-651ab72a3d16"
      },
      "id": "hRN-YZlunveL",
      "execution_count": 20,
      "outputs": [
        {
          "output_type": "stream",
          "name": "stderr",
          "text": [
            "[I 2024-02-06 10:57:14,035] A new study created in memory with name: no-name-c028a63e-844e-48f0-a3e0-0782ac539a19\n",
            "<ipython-input-19-d522cf9583d8>:12: FutureWarning: suggest_uniform has been deprecated in v3.0.0. This feature will be removed in v6.0.0. See https://github.com/optuna/optuna/releases/tag/v3.0.0. Use suggest_float instead.\n",
            "  'learning_rate' : trial.suggest_uniform('learning_rate',0.01, 1),\n",
            "<ipython-input-19-d522cf9583d8>:13: FutureWarning: suggest_uniform has been deprecated in v3.0.0. This feature will be removed in v6.0.0. See https://github.com/optuna/optuna/releases/tag/v3.0.0. Use suggest_float instead.\n",
            "  'reg_lambda': trial.suggest_uniform('reg_lambda',1e-5,100),\n",
            "<ipython-input-19-d522cf9583d8>:14: FutureWarning: suggest_uniform has been deprecated in v3.0.0. This feature will be removed in v6.0.0. See https://github.com/optuna/optuna/releases/tag/v3.0.0. Use suggest_float instead.\n",
            "  'random_strength': trial.suggest_uniform('random_strength',10,50),\n"
          ]
        },
        {
          "output_type": "stream",
          "name": "stdout",
          "text": [
            "0:\tlearn: 3.8023702\ttest: 3.7998162\tbest: 3.7998162 (0)\ttotal: 91.1ms\tremaining: 9m 56s\n",
            "bestTest = 3.262208492\n",
            "bestIteration = 1381\n",
            "Shrink model to first 1382 iterations.\n"
          ]
        },
        {
          "output_type": "stream",
          "name": "stderr",
          "text": [
            "[I 2024-02-06 10:59:15,045] Trial 0 finished with value: 3.2622083177068038 and parameters: {'n_estimators': 6543, 'od_wait': 1713, 'learning_rate': 0.06785102146166193, 'reg_lambda': 23.595066552160397, 'random_strength': 12.712364961420901, 'depth': 7, 'min_data_in_leaf': 23}. Best is trial 0 with value: 3.2622083177068038.\n",
            "<ipython-input-19-d522cf9583d8>:12: FutureWarning: suggest_uniform has been deprecated in v3.0.0. This feature will be removed in v6.0.0. See https://github.com/optuna/optuna/releases/tag/v3.0.0. Use suggest_float instead.\n",
            "  'learning_rate' : trial.suggest_uniform('learning_rate',0.01, 1),\n",
            "<ipython-input-19-d522cf9583d8>:13: FutureWarning: suggest_uniform has been deprecated in v3.0.0. This feature will be removed in v6.0.0. See https://github.com/optuna/optuna/releases/tag/v3.0.0. Use suggest_float instead.\n",
            "  'reg_lambda': trial.suggest_uniform('reg_lambda',1e-5,100),\n",
            "<ipython-input-19-d522cf9583d8>:14: FutureWarning: suggest_uniform has been deprecated in v3.0.0. This feature will be removed in v6.0.0. See https://github.com/optuna/optuna/releases/tag/v3.0.0. Use suggest_float instead.\n",
            "  'random_strength': trial.suggest_uniform('random_strength',10,50),\n"
          ]
        },
        {
          "output_type": "stream",
          "name": "stdout",
          "text": [
            "0:\tlearn: 3.6256075\ttest: 3.6101660\tbest: 3.6101660 (0)\ttotal: 80.2ms\tremaining: 3m 31s\n",
            "bestTest = 3.268983439\n",
            "bestIteration = 173\n",
            "Shrink model to first 174 iterations.\n"
          ]
        },
        {
          "output_type": "stream",
          "name": "stderr",
          "text": [
            "[I 2024-02-06 11:00:06,735] Trial 1 finished with value: 3.268983505262289 and parameters: {'n_estimators': 2640, 'od_wait': 1562, 'learning_rate': 0.3507451072925427, 'reg_lambda': 13.410291337947946, 'random_strength': 41.415371621899226, 'depth': 8, 'min_data_in_leaf': 7}. Best is trial 0 with value: 3.2622083177068038.\n",
            "<ipython-input-19-d522cf9583d8>:12: FutureWarning: suggest_uniform has been deprecated in v3.0.0. This feature will be removed in v6.0.0. See https://github.com/optuna/optuna/releases/tag/v3.0.0. Use suggest_float instead.\n",
            "  'learning_rate' : trial.suggest_uniform('learning_rate',0.01, 1),\n",
            "<ipython-input-19-d522cf9583d8>:13: FutureWarning: suggest_uniform has been deprecated in v3.0.0. This feature will be removed in v6.0.0. See https://github.com/optuna/optuna/releases/tag/v3.0.0. Use suggest_float instead.\n",
            "  'reg_lambda': trial.suggest_uniform('reg_lambda',1e-5,100),\n",
            "<ipython-input-19-d522cf9583d8>:14: FutureWarning: suggest_uniform has been deprecated in v3.0.0. This feature will be removed in v6.0.0. See https://github.com/optuna/optuna/releases/tag/v3.0.0. Use suggest_float instead.\n",
            "  'random_strength': trial.suggest_uniform('random_strength',10,50),\n"
          ]
        },
        {
          "output_type": "stream",
          "name": "stdout",
          "text": [
            "0:\tlearn: 3.6029825\ttest: 3.5874645\tbest: 3.5874645 (0)\ttotal: 34.4ms\tremaining: 1m 7s\n",
            "bestTest = 3.269043446\n",
            "bestIteration = 832\n",
            "Shrink model to first 833 iterations.\n"
          ]
        },
        {
          "output_type": "stream",
          "name": "stderr",
          "text": [
            "[I 2024-02-06 11:00:58,711] Trial 2 finished with value: 3.2690434088542455 and parameters: {'n_estimators': 1948, 'od_wait': 2275, 'learning_rate': 0.5195923626716817, 'reg_lambda': 63.42260656603066, 'random_strength': 28.93665767352681, 'depth': 3, 'min_data_in_leaf': 10}. Best is trial 0 with value: 3.2622083177068038.\n",
            "<ipython-input-19-d522cf9583d8>:12: FutureWarning: suggest_uniform has been deprecated in v3.0.0. This feature will be removed in v6.0.0. See https://github.com/optuna/optuna/releases/tag/v3.0.0. Use suggest_float instead.\n",
            "  'learning_rate' : trial.suggest_uniform('learning_rate',0.01, 1),\n",
            "<ipython-input-19-d522cf9583d8>:13: FutureWarning: suggest_uniform has been deprecated in v3.0.0. This feature will be removed in v6.0.0. See https://github.com/optuna/optuna/releases/tag/v3.0.0. Use suggest_float instead.\n",
            "  'reg_lambda': trial.suggest_uniform('reg_lambda',1e-5,100),\n",
            "<ipython-input-19-d522cf9583d8>:14: FutureWarning: suggest_uniform has been deprecated in v3.0.0. This feature will be removed in v6.0.0. See https://github.com/optuna/optuna/releases/tag/v3.0.0. Use suggest_float instead.\n",
            "  'random_strength': trial.suggest_uniform('random_strength',10,50),\n"
          ]
        },
        {
          "output_type": "stream",
          "name": "stdout",
          "text": [
            "0:\tlearn: 3.4814493\ttest: 3.4509054\tbest: 3.4509054 (0)\ttotal: 190ms\tremaining: 5m 12s\n",
            "bestTest = 3.27932822\n",
            "bestIteration = 52\n",
            "Shrink model to first 53 iterations.\n"
          ]
        },
        {
          "output_type": "stream",
          "name": "stderr",
          "text": [
            "[I 2024-02-06 11:01:46,695] Trial 3 finished with value: 3.279328666914363 and parameters: {'n_estimators': 1641, 'od_wait': 2115, 'learning_rate': 0.7513804419775878, 'reg_lambda': 74.15161138758636, 'random_strength': 39.82519736344516, 'depth': 9, 'min_data_in_leaf': 6}. Best is trial 0 with value: 3.2622083177068038.\n",
            "<ipython-input-19-d522cf9583d8>:12: FutureWarning: suggest_uniform has been deprecated in v3.0.0. This feature will be removed in v6.0.0. See https://github.com/optuna/optuna/releases/tag/v3.0.0. Use suggest_float instead.\n",
            "  'learning_rate' : trial.suggest_uniform('learning_rate',0.01, 1),\n",
            "<ipython-input-19-d522cf9583d8>:13: FutureWarning: suggest_uniform has been deprecated in v3.0.0. This feature will be removed in v6.0.0. See https://github.com/optuna/optuna/releases/tag/v3.0.0. Use suggest_float instead.\n",
            "  'reg_lambda': trial.suggest_uniform('reg_lambda',1e-5,100),\n",
            "<ipython-input-19-d522cf9583d8>:14: FutureWarning: suggest_uniform has been deprecated in v3.0.0. This feature will be removed in v6.0.0. See https://github.com/optuna/optuna/releases/tag/v3.0.0. Use suggest_float instead.\n",
            "  'random_strength': trial.suggest_uniform('random_strength',10,50),\n"
          ]
        },
        {
          "output_type": "stream",
          "name": "stdout",
          "text": [
            "0:\tlearn: 3.5196112\ttest: 3.4933584\tbest: 3.4933584 (0)\ttotal: 235ms\tremaining: 20m 28s\n",
            "bestTest = 3.275499137\n",
            "bestIteration = 28\n",
            "Shrink model to first 29 iterations.\n"
          ]
        },
        {
          "output_type": "stream",
          "name": "stderr",
          "text": [
            "[I 2024-02-06 11:03:29,849] Trial 4 finished with value: 3.27549919776945 and parameters: {'n_estimators': 5234, 'od_wait': 1721, 'learning_rate': 0.5627902170237759, 'reg_lambda': 56.12414189125957, 'random_strength': 43.46001610199805, 'depth': 13, 'min_data_in_leaf': 5}. Best is trial 0 with value: 3.2622083177068038.\n",
            "<ipython-input-19-d522cf9583d8>:12: FutureWarning: suggest_uniform has been deprecated in v3.0.0. This feature will be removed in v6.0.0. See https://github.com/optuna/optuna/releases/tag/v3.0.0. Use suggest_float instead.\n",
            "  'learning_rate' : trial.suggest_uniform('learning_rate',0.01, 1),\n",
            "<ipython-input-19-d522cf9583d8>:13: FutureWarning: suggest_uniform has been deprecated in v3.0.0. This feature will be removed in v6.0.0. See https://github.com/optuna/optuna/releases/tag/v3.0.0. Use suggest_float instead.\n",
            "  'reg_lambda': trial.suggest_uniform('reg_lambda',1e-5,100),\n",
            "<ipython-input-19-d522cf9583d8>:14: FutureWarning: suggest_uniform has been deprecated in v3.0.0. This feature will be removed in v6.0.0. See https://github.com/optuna/optuna/releases/tag/v3.0.0. Use suggest_float instead.\n",
            "  'random_strength': trial.suggest_uniform('random_strength',10,50),\n"
          ]
        },
        {
          "output_type": "stream",
          "name": "stdout",
          "text": [
            "0:\tlearn: 3.6317611\ttest: 3.6140745\tbest: 3.6140745 (0)\ttotal: 62.9ms\tremaining: 5m 14s\n",
            "bestTest = 3.265294119\n",
            "bestIteration = 502\n",
            "Shrink model to first 503 iterations.\n"
          ]
        },
        {
          "output_type": "stream",
          "name": "stderr",
          "text": [
            "[I 2024-02-06 11:04:29,949] Trial 5 finished with value: 3.2652941851059616 and parameters: {'n_estimators': 5010, 'od_wait': 1820, 'learning_rate': 0.32782287266456955, 'reg_lambda': 85.02195764622746, 'random_strength': 46.29250527663971, 'depth': 6, 'min_data_in_leaf': 26}. Best is trial 0 with value: 3.2622083177068038.\n",
            "<ipython-input-19-d522cf9583d8>:12: FutureWarning: suggest_uniform has been deprecated in v3.0.0. This feature will be removed in v6.0.0. See https://github.com/optuna/optuna/releases/tag/v3.0.0. Use suggest_float instead.\n",
            "  'learning_rate' : trial.suggest_uniform('learning_rate',0.01, 1),\n",
            "<ipython-input-19-d522cf9583d8>:13: FutureWarning: suggest_uniform has been deprecated in v3.0.0. This feature will be removed in v6.0.0. See https://github.com/optuna/optuna/releases/tag/v3.0.0. Use suggest_float instead.\n",
            "  'reg_lambda': trial.suggest_uniform('reg_lambda',1e-5,100),\n",
            "<ipython-input-19-d522cf9583d8>:14: FutureWarning: suggest_uniform has been deprecated in v3.0.0. This feature will be removed in v6.0.0. See https://github.com/optuna/optuna/releases/tag/v3.0.0. Use suggest_float instead.\n",
            "  'random_strength': trial.suggest_uniform('random_strength',10,50),\n"
          ]
        },
        {
          "output_type": "stream",
          "name": "stdout",
          "text": [
            "0:\tlearn: 3.5393426\ttest: 3.5131552\tbest: 3.5131552 (0)\ttotal: 81.8ms\tremaining: 7m 1s\n",
            "bestTest = 3.270950925\n",
            "bestIteration = 344\n",
            "Shrink model to first 345 iterations.\n"
          ]
        },
        {
          "output_type": "stream",
          "name": "stderr",
          "text": [
            "[I 2024-02-06 11:05:17,795] Trial 6 finished with value: 3.270950756746802 and parameters: {'n_estimators': 5161, 'od_wait': 1922, 'learning_rate': 0.6737581192042713, 'reg_lambda': 78.88445721290374, 'random_strength': 19.627587540237023, 'depth': 5, 'min_data_in_leaf': 22}. Best is trial 0 with value: 3.2622083177068038.\n",
            "<ipython-input-19-d522cf9583d8>:12: FutureWarning: suggest_uniform has been deprecated in v3.0.0. This feature will be removed in v6.0.0. See https://github.com/optuna/optuna/releases/tag/v3.0.0. Use suggest_float instead.\n",
            "  'learning_rate' : trial.suggest_uniform('learning_rate',0.01, 1),\n",
            "<ipython-input-19-d522cf9583d8>:13: FutureWarning: suggest_uniform has been deprecated in v3.0.0. This feature will be removed in v6.0.0. See https://github.com/optuna/optuna/releases/tag/v3.0.0. Use suggest_float instead.\n",
            "  'reg_lambda': trial.suggest_uniform('reg_lambda',1e-5,100),\n",
            "<ipython-input-19-d522cf9583d8>:14: FutureWarning: suggest_uniform has been deprecated in v3.0.0. This feature will be removed in v6.0.0. See https://github.com/optuna/optuna/releases/tag/v3.0.0. Use suggest_float instead.\n",
            "  'random_strength': trial.suggest_uniform('random_strength',10,50),\n"
          ]
        },
        {
          "output_type": "stream",
          "name": "stdout",
          "text": [
            "0:\tlearn: 3.5843231\ttest: 3.5654786\tbest: 3.5654786 (0)\ttotal: 67.5ms\tremaining: 1m 5s\n",
            "bestTest = 3.270324287\n",
            "bestIteration = 136\n",
            "Shrink model to first 137 iterations.\n"
          ]
        },
        {
          "output_type": "stream",
          "name": "stderr",
          "text": [
            "[I 2024-02-06 11:06:01,628] Trial 7 finished with value: 3.270324057623459 and parameters: {'n_estimators': 973, 'od_wait': 703, 'learning_rate': 0.5013135523601162, 'reg_lambda': 38.31690819562641, 'random_strength': 19.638164121886486, 'depth': 7, 'min_data_in_leaf': 19}. Best is trial 0 with value: 3.2622083177068038.\n",
            "<ipython-input-19-d522cf9583d8>:12: FutureWarning: suggest_uniform has been deprecated in v3.0.0. This feature will be removed in v6.0.0. See https://github.com/optuna/optuna/releases/tag/v3.0.0. Use suggest_float instead.\n",
            "  'learning_rate' : trial.suggest_uniform('learning_rate',0.01, 1),\n",
            "<ipython-input-19-d522cf9583d8>:13: FutureWarning: suggest_uniform has been deprecated in v3.0.0. This feature will be removed in v6.0.0. See https://github.com/optuna/optuna/releases/tag/v3.0.0. Use suggest_float instead.\n",
            "  'reg_lambda': trial.suggest_uniform('reg_lambda',1e-5,100),\n",
            "<ipython-input-19-d522cf9583d8>:14: FutureWarning: suggest_uniform has been deprecated in v3.0.0. This feature will be removed in v6.0.0. See https://github.com/optuna/optuna/releases/tag/v3.0.0. Use suggest_float instead.\n",
            "  'random_strength': trial.suggest_uniform('random_strength',10,50),\n"
          ]
        },
        {
          "output_type": "stream",
          "name": "stdout",
          "text": [
            "0:\tlearn: 3.4322838\ttest: 3.3935649\tbest: 3.3935649 (0)\ttotal: 240ms\tremaining: 8m 58s\n",
            "bestTest = 3.291451355\n",
            "bestIteration = 17\n",
            "Shrink model to first 18 iterations.\n"
          ]
        },
        {
          "output_type": "stream",
          "name": "stderr",
          "text": [
            "[I 2024-02-06 11:07:42,656] Trial 8 finished with value: 3.291451028703455 and parameters: {'n_estimators': 2245, 'od_wait': 2174, 'learning_rate': 0.960771444418275, 'reg_lambda': 74.07416057120774, 'random_strength': 42.47224356571064, 'depth': 13, 'min_data_in_leaf': 27}. Best is trial 0 with value: 3.2622083177068038.\n",
            "<ipython-input-19-d522cf9583d8>:12: FutureWarning: suggest_uniform has been deprecated in v3.0.0. This feature will be removed in v6.0.0. See https://github.com/optuna/optuna/releases/tag/v3.0.0. Use suggest_float instead.\n",
            "  'learning_rate' : trial.suggest_uniform('learning_rate',0.01, 1),\n",
            "<ipython-input-19-d522cf9583d8>:13: FutureWarning: suggest_uniform has been deprecated in v3.0.0. This feature will be removed in v6.0.0. See https://github.com/optuna/optuna/releases/tag/v3.0.0. Use suggest_float instead.\n",
            "  'reg_lambda': trial.suggest_uniform('reg_lambda',1e-5,100),\n",
            "<ipython-input-19-d522cf9583d8>:14: FutureWarning: suggest_uniform has been deprecated in v3.0.0. This feature will be removed in v6.0.0. See https://github.com/optuna/optuna/releases/tag/v3.0.0. Use suggest_float instead.\n",
            "  'random_strength': trial.suggest_uniform('random_strength',10,50),\n"
          ]
        },
        {
          "output_type": "stream",
          "name": "stdout",
          "text": [
            "0:\tlearn: 3.7663482\ttest: 3.7619088\tbest: 3.7619088 (0)\ttotal: 22.5ms\tremaining: 2m 46s\n",
            "2000:\tlearn: 3.3313058\ttest: 3.2722558\tbest: 3.2722549 (1999)\ttotal: 42.9s\tremaining: 1m 56s\n",
            "4000:\tlearn: 3.3281887\ttest: 3.2711966\tbest: 3.2711876 (3854)\ttotal: 1m 25s\tremaining: 1m 13s\n",
            "6000:\tlearn: 3.3266522\ttest: 3.2709174\tbest: 3.2708632 (5536)\ttotal: 2m 5s\tremaining: 29.6s\n",
            "bestTest = 3.270863213\n",
            "bestIteration = 5536\n",
            "Shrink model to first 5537 iterations.\n"
          ]
        },
        {
          "output_type": "stream",
          "name": "stderr",
          "text": [
            "[I 2024-02-06 11:10:02,006] Trial 9 finished with value: 3.2708631277095908 and parameters: {'n_estimators': 7415, 'od_wait': 1031, 'learning_rate': 0.15117195019521404, 'reg_lambda': 55.08679562506948, 'random_strength': 29.289962858690846, 'depth': 2, 'min_data_in_leaf': 29}. Best is trial 0 with value: 3.2622083177068038.\n"
          ]
        }
      ]
    },
    {
      "cell_type": "code",
      "execution_count": 21,
      "id": "97e5daf9-254d-4110-95d4-e71e2ec697df",
      "metadata": {
        "id": "97e5daf9-254d-4110-95d4-e71e2ec697df"
      },
      "outputs": [],
      "source": [
        "params=study.best_params\n",
        "params['objective'] = 'RMSE'\n",
        "params['random_state'] = 42\n",
        "params['verbose'] = False\n",
        "params['task_type'] = \"GPU\"\n",
        "params['cat_features'] = ['User-ID', 'Location', 'Book-Title', 'Book-Author', 'Publisher']"
      ]
    },
    {
      "cell_type": "code",
      "execution_count": 22,
      "id": "6ceebced-59c1-407e-a524-9cffa7c40d20",
      "metadata": {
        "id": "6ceebced-59c1-407e-a524-9cffa7c40d20",
        "colab": {
          "base_uri": "https://localhost:8080/"
        },
        "outputId": "06387531-cd8c-4a25-fe8b-1d2414e5d070"
      },
      "outputs": [
        {
          "output_type": "stream",
          "name": "stdout",
          "text": [
            "Best Score: 3.2622083177068038\n",
            "Best trial: {'n_estimators': 6543, 'od_wait': 1713, 'learning_rate': 0.06785102146166193, 'reg_lambda': 23.595066552160397, 'random_strength': 12.712364961420901, 'depth': 7, 'min_data_in_leaf': 23}\n"
          ]
        }
      ],
      "source": [
        "print(\"Best Score:\", study.best_value)\n",
        "print(\"Best trial:\", study.best_trial.params)"
      ]
    },
    {
      "cell_type": "code",
      "source": [
        "# 시각화\n",
        "optuna.visualization.plot_optimization_history(study)"
      ],
      "metadata": {
        "id": "1_Ep9geRpN9e",
        "colab": {
          "base_uri": "https://localhost:8080/",
          "height": 542
        },
        "outputId": "44f8523d-c4ca-48a7-8e88-791cb679ecfe"
      },
      "id": "1_Ep9geRpN9e",
      "execution_count": 23,
      "outputs": [
        {
          "output_type": "display_data",
          "data": {
            "text/html": [
              "<html>\n",
              "<head><meta charset=\"utf-8\" /></head>\n",
              "<body>\n",
              "    <div>            <script src=\"https://cdnjs.cloudflare.com/ajax/libs/mathjax/2.7.5/MathJax.js?config=TeX-AMS-MML_SVG\"></script><script type=\"text/javascript\">if (window.MathJax && window.MathJax.Hub && window.MathJax.Hub.Config) {window.MathJax.Hub.Config({SVG: {font: \"STIX-Web\"}});}</script>                <script type=\"text/javascript\">window.PlotlyConfig = {MathJaxConfig: 'local'};</script>\n",
              "        <script charset=\"utf-8\" src=\"https://cdn.plot.ly/plotly-2.24.1.min.js\"></script>                <div id=\"d8ab1a77-b107-45a9-a6df-9b29c50ab009\" class=\"plotly-graph-div\" style=\"height:525px; width:100%;\"></div>            <script type=\"text/javascript\">                                    window.PLOTLYENV=window.PLOTLYENV || {};                                    if (document.getElementById(\"d8ab1a77-b107-45a9-a6df-9b29c50ab009\")) {                    Plotly.newPlot(                        \"d8ab1a77-b107-45a9-a6df-9b29c50ab009\",                        [{\"mode\":\"markers\",\"name\":\"Objective Value\",\"x\":[0,1,2,3,4,5,6,7,8,9],\"y\":[3.2622083177068038,3.268983505262289,3.2690434088542455,3.279328666914363,3.27549919776945,3.2652941851059616,3.270950756746802,3.270324057623459,3.291451028703455,3.2708631277095908],\"type\":\"scatter\"},{\"mode\":\"lines\",\"name\":\"Best Value\",\"x\":[0,1,2,3,4,5,6,7,8,9],\"y\":[3.2622083177068038,3.2622083177068038,3.2622083177068038,3.2622083177068038,3.2622083177068038,3.2622083177068038,3.2622083177068038,3.2622083177068038,3.2622083177068038,3.2622083177068038],\"type\":\"scatter\"},{\"marker\":{\"color\":\"#cccccc\"},\"mode\":\"markers\",\"name\":\"Infeasible Trial\",\"showlegend\":false,\"x\":[],\"y\":[],\"type\":\"scatter\"}],                        {\"title\":{\"text\":\"Optimization History Plot\"},\"xaxis\":{\"title\":{\"text\":\"Trial\"}},\"yaxis\":{\"title\":{\"text\":\"Objective Value\"}},\"template\":{\"data\":{\"histogram2dcontour\":[{\"type\":\"histogram2dcontour\",\"colorbar\":{\"outlinewidth\":0,\"ticks\":\"\"},\"colorscale\":[[0.0,\"#0d0887\"],[0.1111111111111111,\"#46039f\"],[0.2222222222222222,\"#7201a8\"],[0.3333333333333333,\"#9c179e\"],[0.4444444444444444,\"#bd3786\"],[0.5555555555555556,\"#d8576b\"],[0.6666666666666666,\"#ed7953\"],[0.7777777777777778,\"#fb9f3a\"],[0.8888888888888888,\"#fdca26\"],[1.0,\"#f0f921\"]]}],\"choropleth\":[{\"type\":\"choropleth\",\"colorbar\":{\"outlinewidth\":0,\"ticks\":\"\"}}],\"histogram2d\":[{\"type\":\"histogram2d\",\"colorbar\":{\"outlinewidth\":0,\"ticks\":\"\"},\"colorscale\":[[0.0,\"#0d0887\"],[0.1111111111111111,\"#46039f\"],[0.2222222222222222,\"#7201a8\"],[0.3333333333333333,\"#9c179e\"],[0.4444444444444444,\"#bd3786\"],[0.5555555555555556,\"#d8576b\"],[0.6666666666666666,\"#ed7953\"],[0.7777777777777778,\"#fb9f3a\"],[0.8888888888888888,\"#fdca26\"],[1.0,\"#f0f921\"]]}],\"heatmap\":[{\"type\":\"heatmap\",\"colorbar\":{\"outlinewidth\":0,\"ticks\":\"\"},\"colorscale\":[[0.0,\"#0d0887\"],[0.1111111111111111,\"#46039f\"],[0.2222222222222222,\"#7201a8\"],[0.3333333333333333,\"#9c179e\"],[0.4444444444444444,\"#bd3786\"],[0.5555555555555556,\"#d8576b\"],[0.6666666666666666,\"#ed7953\"],[0.7777777777777778,\"#fb9f3a\"],[0.8888888888888888,\"#fdca26\"],[1.0,\"#f0f921\"]]}],\"heatmapgl\":[{\"type\":\"heatmapgl\",\"colorbar\":{\"outlinewidth\":0,\"ticks\":\"\"},\"colorscale\":[[0.0,\"#0d0887\"],[0.1111111111111111,\"#46039f\"],[0.2222222222222222,\"#7201a8\"],[0.3333333333333333,\"#9c179e\"],[0.4444444444444444,\"#bd3786\"],[0.5555555555555556,\"#d8576b\"],[0.6666666666666666,\"#ed7953\"],[0.7777777777777778,\"#fb9f3a\"],[0.8888888888888888,\"#fdca26\"],[1.0,\"#f0f921\"]]}],\"contourcarpet\":[{\"type\":\"contourcarpet\",\"colorbar\":{\"outlinewidth\":0,\"ticks\":\"\"}}],\"contour\":[{\"type\":\"contour\",\"colorbar\":{\"outlinewidth\":0,\"ticks\":\"\"},\"colorscale\":[[0.0,\"#0d0887\"],[0.1111111111111111,\"#46039f\"],[0.2222222222222222,\"#7201a8\"],[0.3333333333333333,\"#9c179e\"],[0.4444444444444444,\"#bd3786\"],[0.5555555555555556,\"#d8576b\"],[0.6666666666666666,\"#ed7953\"],[0.7777777777777778,\"#fb9f3a\"],[0.8888888888888888,\"#fdca26\"],[1.0,\"#f0f921\"]]}],\"surface\":[{\"type\":\"surface\",\"colorbar\":{\"outlinewidth\":0,\"ticks\":\"\"},\"colorscale\":[[0.0,\"#0d0887\"],[0.1111111111111111,\"#46039f\"],[0.2222222222222222,\"#7201a8\"],[0.3333333333333333,\"#9c179e\"],[0.4444444444444444,\"#bd3786\"],[0.5555555555555556,\"#d8576b\"],[0.6666666666666666,\"#ed7953\"],[0.7777777777777778,\"#fb9f3a\"],[0.8888888888888888,\"#fdca26\"],[1.0,\"#f0f921\"]]}],\"mesh3d\":[{\"type\":\"mesh3d\",\"colorbar\":{\"outlinewidth\":0,\"ticks\":\"\"}}],\"scatter\":[{\"fillpattern\":{\"fillmode\":\"overlay\",\"size\":10,\"solidity\":0.2},\"type\":\"scatter\"}],\"parcoords\":[{\"type\":\"parcoords\",\"line\":{\"colorbar\":{\"outlinewidth\":0,\"ticks\":\"\"}}}],\"scatterpolargl\":[{\"type\":\"scatterpolargl\",\"marker\":{\"colorbar\":{\"outlinewidth\":0,\"ticks\":\"\"}}}],\"bar\":[{\"error_x\":{\"color\":\"#2a3f5f\"},\"error_y\":{\"color\":\"#2a3f5f\"},\"marker\":{\"line\":{\"color\":\"#E5ECF6\",\"width\":0.5},\"pattern\":{\"fillmode\":\"overlay\",\"size\":10,\"solidity\":0.2}},\"type\":\"bar\"}],\"scattergeo\":[{\"type\":\"scattergeo\",\"marker\":{\"colorbar\":{\"outlinewidth\":0,\"ticks\":\"\"}}}],\"scatterpolar\":[{\"type\":\"scatterpolar\",\"marker\":{\"colorbar\":{\"outlinewidth\":0,\"ticks\":\"\"}}}],\"histogram\":[{\"marker\":{\"pattern\":{\"fillmode\":\"overlay\",\"size\":10,\"solidity\":0.2}},\"type\":\"histogram\"}],\"scattergl\":[{\"type\":\"scattergl\",\"marker\":{\"colorbar\":{\"outlinewidth\":0,\"ticks\":\"\"}}}],\"scatter3d\":[{\"type\":\"scatter3d\",\"line\":{\"colorbar\":{\"outlinewidth\":0,\"ticks\":\"\"}},\"marker\":{\"colorbar\":{\"outlinewidth\":0,\"ticks\":\"\"}}}],\"scattermapbox\":[{\"type\":\"scattermapbox\",\"marker\":{\"colorbar\":{\"outlinewidth\":0,\"ticks\":\"\"}}}],\"scatterternary\":[{\"type\":\"scatterternary\",\"marker\":{\"colorbar\":{\"outlinewidth\":0,\"ticks\":\"\"}}}],\"scattercarpet\":[{\"type\":\"scattercarpet\",\"marker\":{\"colorbar\":{\"outlinewidth\":0,\"ticks\":\"\"}}}],\"carpet\":[{\"aaxis\":{\"endlinecolor\":\"#2a3f5f\",\"gridcolor\":\"white\",\"linecolor\":\"white\",\"minorgridcolor\":\"white\",\"startlinecolor\":\"#2a3f5f\"},\"baxis\":{\"endlinecolor\":\"#2a3f5f\",\"gridcolor\":\"white\",\"linecolor\":\"white\",\"minorgridcolor\":\"white\",\"startlinecolor\":\"#2a3f5f\"},\"type\":\"carpet\"}],\"table\":[{\"cells\":{\"fill\":{\"color\":\"#EBF0F8\"},\"line\":{\"color\":\"white\"}},\"header\":{\"fill\":{\"color\":\"#C8D4E3\"},\"line\":{\"color\":\"white\"}},\"type\":\"table\"}],\"barpolar\":[{\"marker\":{\"line\":{\"color\":\"#E5ECF6\",\"width\":0.5},\"pattern\":{\"fillmode\":\"overlay\",\"size\":10,\"solidity\":0.2}},\"type\":\"barpolar\"}],\"pie\":[{\"automargin\":true,\"type\":\"pie\"}]},\"layout\":{\"autotypenumbers\":\"strict\",\"colorway\":[\"#636efa\",\"#EF553B\",\"#00cc96\",\"#ab63fa\",\"#FFA15A\",\"#19d3f3\",\"#FF6692\",\"#B6E880\",\"#FF97FF\",\"#FECB52\"],\"font\":{\"color\":\"#2a3f5f\"},\"hovermode\":\"closest\",\"hoverlabel\":{\"align\":\"left\"},\"paper_bgcolor\":\"white\",\"plot_bgcolor\":\"#E5ECF6\",\"polar\":{\"bgcolor\":\"#E5ECF6\",\"angularaxis\":{\"gridcolor\":\"white\",\"linecolor\":\"white\",\"ticks\":\"\"},\"radialaxis\":{\"gridcolor\":\"white\",\"linecolor\":\"white\",\"ticks\":\"\"}},\"ternary\":{\"bgcolor\":\"#E5ECF6\",\"aaxis\":{\"gridcolor\":\"white\",\"linecolor\":\"white\",\"ticks\":\"\"},\"baxis\":{\"gridcolor\":\"white\",\"linecolor\":\"white\",\"ticks\":\"\"},\"caxis\":{\"gridcolor\":\"white\",\"linecolor\":\"white\",\"ticks\":\"\"}},\"coloraxis\":{\"colorbar\":{\"outlinewidth\":0,\"ticks\":\"\"}},\"colorscale\":{\"sequential\":[[0.0,\"#0d0887\"],[0.1111111111111111,\"#46039f\"],[0.2222222222222222,\"#7201a8\"],[0.3333333333333333,\"#9c179e\"],[0.4444444444444444,\"#bd3786\"],[0.5555555555555556,\"#d8576b\"],[0.6666666666666666,\"#ed7953\"],[0.7777777777777778,\"#fb9f3a\"],[0.8888888888888888,\"#fdca26\"],[1.0,\"#f0f921\"]],\"sequentialminus\":[[0.0,\"#0d0887\"],[0.1111111111111111,\"#46039f\"],[0.2222222222222222,\"#7201a8\"],[0.3333333333333333,\"#9c179e\"],[0.4444444444444444,\"#bd3786\"],[0.5555555555555556,\"#d8576b\"],[0.6666666666666666,\"#ed7953\"],[0.7777777777777778,\"#fb9f3a\"],[0.8888888888888888,\"#fdca26\"],[1.0,\"#f0f921\"]],\"diverging\":[[0,\"#8e0152\"],[0.1,\"#c51b7d\"],[0.2,\"#de77ae\"],[0.3,\"#f1b6da\"],[0.4,\"#fde0ef\"],[0.5,\"#f7f7f7\"],[0.6,\"#e6f5d0\"],[0.7,\"#b8e186\"],[0.8,\"#7fbc41\"],[0.9,\"#4d9221\"],[1,\"#276419\"]]},\"xaxis\":{\"gridcolor\":\"white\",\"linecolor\":\"white\",\"ticks\":\"\",\"title\":{\"standoff\":15},\"zerolinecolor\":\"white\",\"automargin\":true,\"zerolinewidth\":2},\"yaxis\":{\"gridcolor\":\"white\",\"linecolor\":\"white\",\"ticks\":\"\",\"title\":{\"standoff\":15},\"zerolinecolor\":\"white\",\"automargin\":true,\"zerolinewidth\":2},\"scene\":{\"xaxis\":{\"backgroundcolor\":\"#E5ECF6\",\"gridcolor\":\"white\",\"linecolor\":\"white\",\"showbackground\":true,\"ticks\":\"\",\"zerolinecolor\":\"white\",\"gridwidth\":2},\"yaxis\":{\"backgroundcolor\":\"#E5ECF6\",\"gridcolor\":\"white\",\"linecolor\":\"white\",\"showbackground\":true,\"ticks\":\"\",\"zerolinecolor\":\"white\",\"gridwidth\":2},\"zaxis\":{\"backgroundcolor\":\"#E5ECF6\",\"gridcolor\":\"white\",\"linecolor\":\"white\",\"showbackground\":true,\"ticks\":\"\",\"zerolinecolor\":\"white\",\"gridwidth\":2}},\"shapedefaults\":{\"line\":{\"color\":\"#2a3f5f\"}},\"annotationdefaults\":{\"arrowcolor\":\"#2a3f5f\",\"arrowhead\":0,\"arrowwidth\":1},\"geo\":{\"bgcolor\":\"white\",\"landcolor\":\"#E5ECF6\",\"subunitcolor\":\"white\",\"showland\":true,\"showlakes\":true,\"lakecolor\":\"white\"},\"title\":{\"x\":0.05},\"mapbox\":{\"style\":\"light\"}}}},                        {\"responsive\": true}                    ).then(function(){\n",
              "                            \n",
              "var gd = document.getElementById('d8ab1a77-b107-45a9-a6df-9b29c50ab009');\n",
              "var x = new MutationObserver(function (mutations, observer) {{\n",
              "        var display = window.getComputedStyle(gd).display;\n",
              "        if (!display || display === 'none') {{\n",
              "            console.log([gd, 'removed!']);\n",
              "            Plotly.purge(gd);\n",
              "            observer.disconnect();\n",
              "        }}\n",
              "}});\n",
              "\n",
              "// Listen for the removal of the full notebook cells\n",
              "var notebookContainer = gd.closest('#notebook-container');\n",
              "if (notebookContainer) {{\n",
              "    x.observe(notebookContainer, {childList: true});\n",
              "}}\n",
              "\n",
              "// Listen for the clearing of the current output cell\n",
              "var outputEl = gd.closest('.output');\n",
              "if (outputEl) {{\n",
              "    x.observe(outputEl, {childList: true});\n",
              "}}\n",
              "\n",
              "                        })                };                            </script>        </div>\n",
              "</body>\n",
              "</html>"
            ]
          },
          "metadata": {}
        }
      ]
    },
    {
      "cell_type": "code",
      "execution_count": 24,
      "id": "e9165bd1-b96e-44b3-8c20-a3bb2ca5df9a",
      "metadata": {
        "id": "e9165bd1-b96e-44b3-8c20-a3bb2ca5df9a",
        "colab": {
          "base_uri": "https://localhost:8080/",
          "height": 542
        },
        "outputId": "35c8c951-d89b-4307-d070-57cb58872874"
      },
      "outputs": [
        {
          "output_type": "display_data",
          "data": {
            "text/html": [
              "<html>\n",
              "<head><meta charset=\"utf-8\" /></head>\n",
              "<body>\n",
              "    <div>            <script src=\"https://cdnjs.cloudflare.com/ajax/libs/mathjax/2.7.5/MathJax.js?config=TeX-AMS-MML_SVG\"></script><script type=\"text/javascript\">if (window.MathJax && window.MathJax.Hub && window.MathJax.Hub.Config) {window.MathJax.Hub.Config({SVG: {font: \"STIX-Web\"}});}</script>                <script type=\"text/javascript\">window.PlotlyConfig = {MathJaxConfig: 'local'};</script>\n",
              "        <script charset=\"utf-8\" src=\"https://cdn.plot.ly/plotly-2.24.1.min.js\"></script>                <div id=\"0672f7f7-d371-4504-830b-7321efca726d\" class=\"plotly-graph-div\" style=\"height:525px; width:100%;\"></div>            <script type=\"text/javascript\">                                    window.PLOTLYENV=window.PLOTLYENV || {};                                    if (document.getElementById(\"0672f7f7-d371-4504-830b-7321efca726d\")) {                    Plotly.newPlot(                        \"0672f7f7-d371-4504-830b-7321efca726d\",                        [{\"cliponaxis\":false,\"hovertemplate\":[\"n_estimators (IntDistribution): 0.02409264659797627\\u003cextra\\u003e\\u003c\\u002fextra\\u003e\",\"od_wait (IntDistribution): 0.029746116921321175\\u003cextra\\u003e\\u003c\\u002fextra\\u003e\",\"random_strength (FloatDistribution): 0.0436740374263105\\u003cextra\\u003e\\u003c\\u002fextra\\u003e\",\"reg_lambda (FloatDistribution): 0.05457088010770068\\u003cextra\\u003e\\u003c\\u002fextra\\u003e\",\"min_data_in_leaf (IntDistribution): 0.1953543863916368\\u003cextra\\u003e\\u003c\\u002fextra\\u003e\",\"depth (IntDistribution): 0.23493565069074884\\u003cextra\\u003e\\u003c\\u002fextra\\u003e\",\"learning_rate (FloatDistribution): 0.4176262818643057\\u003cextra\\u003e\\u003c\\u002fextra\\u003e\"],\"name\":\"Objective Value\",\"orientation\":\"h\",\"text\":[\"0.02\",\"0.03\",\"0.04\",\"0.05\",\"0.20\",\"0.23\",\"0.42\"],\"textposition\":\"outside\",\"x\":[0.02409264659797627,0.029746116921321175,0.0436740374263105,0.05457088010770068,0.1953543863916368,0.23493565069074884,0.4176262818643057],\"y\":[\"n_estimators\",\"od_wait\",\"random_strength\",\"reg_lambda\",\"min_data_in_leaf\",\"depth\",\"learning_rate\"],\"type\":\"bar\"}],                        {\"title\":{\"text\":\"Hyperparameter Importances\"},\"xaxis\":{\"title\":{\"text\":\"Hyperparameter Importance\"}},\"yaxis\":{\"title\":{\"text\":\"Hyperparameter\"}},\"template\":{\"data\":{\"histogram2dcontour\":[{\"type\":\"histogram2dcontour\",\"colorbar\":{\"outlinewidth\":0,\"ticks\":\"\"},\"colorscale\":[[0.0,\"#0d0887\"],[0.1111111111111111,\"#46039f\"],[0.2222222222222222,\"#7201a8\"],[0.3333333333333333,\"#9c179e\"],[0.4444444444444444,\"#bd3786\"],[0.5555555555555556,\"#d8576b\"],[0.6666666666666666,\"#ed7953\"],[0.7777777777777778,\"#fb9f3a\"],[0.8888888888888888,\"#fdca26\"],[1.0,\"#f0f921\"]]}],\"choropleth\":[{\"type\":\"choropleth\",\"colorbar\":{\"outlinewidth\":0,\"ticks\":\"\"}}],\"histogram2d\":[{\"type\":\"histogram2d\",\"colorbar\":{\"outlinewidth\":0,\"ticks\":\"\"},\"colorscale\":[[0.0,\"#0d0887\"],[0.1111111111111111,\"#46039f\"],[0.2222222222222222,\"#7201a8\"],[0.3333333333333333,\"#9c179e\"],[0.4444444444444444,\"#bd3786\"],[0.5555555555555556,\"#d8576b\"],[0.6666666666666666,\"#ed7953\"],[0.7777777777777778,\"#fb9f3a\"],[0.8888888888888888,\"#fdca26\"],[1.0,\"#f0f921\"]]}],\"heatmap\":[{\"type\":\"heatmap\",\"colorbar\":{\"outlinewidth\":0,\"ticks\":\"\"},\"colorscale\":[[0.0,\"#0d0887\"],[0.1111111111111111,\"#46039f\"],[0.2222222222222222,\"#7201a8\"],[0.3333333333333333,\"#9c179e\"],[0.4444444444444444,\"#bd3786\"],[0.5555555555555556,\"#d8576b\"],[0.6666666666666666,\"#ed7953\"],[0.7777777777777778,\"#fb9f3a\"],[0.8888888888888888,\"#fdca26\"],[1.0,\"#f0f921\"]]}],\"heatmapgl\":[{\"type\":\"heatmapgl\",\"colorbar\":{\"outlinewidth\":0,\"ticks\":\"\"},\"colorscale\":[[0.0,\"#0d0887\"],[0.1111111111111111,\"#46039f\"],[0.2222222222222222,\"#7201a8\"],[0.3333333333333333,\"#9c179e\"],[0.4444444444444444,\"#bd3786\"],[0.5555555555555556,\"#d8576b\"],[0.6666666666666666,\"#ed7953\"],[0.7777777777777778,\"#fb9f3a\"],[0.8888888888888888,\"#fdca26\"],[1.0,\"#f0f921\"]]}],\"contourcarpet\":[{\"type\":\"contourcarpet\",\"colorbar\":{\"outlinewidth\":0,\"ticks\":\"\"}}],\"contour\":[{\"type\":\"contour\",\"colorbar\":{\"outlinewidth\":0,\"ticks\":\"\"},\"colorscale\":[[0.0,\"#0d0887\"],[0.1111111111111111,\"#46039f\"],[0.2222222222222222,\"#7201a8\"],[0.3333333333333333,\"#9c179e\"],[0.4444444444444444,\"#bd3786\"],[0.5555555555555556,\"#d8576b\"],[0.6666666666666666,\"#ed7953\"],[0.7777777777777778,\"#fb9f3a\"],[0.8888888888888888,\"#fdca26\"],[1.0,\"#f0f921\"]]}],\"surface\":[{\"type\":\"surface\",\"colorbar\":{\"outlinewidth\":0,\"ticks\":\"\"},\"colorscale\":[[0.0,\"#0d0887\"],[0.1111111111111111,\"#46039f\"],[0.2222222222222222,\"#7201a8\"],[0.3333333333333333,\"#9c179e\"],[0.4444444444444444,\"#bd3786\"],[0.5555555555555556,\"#d8576b\"],[0.6666666666666666,\"#ed7953\"],[0.7777777777777778,\"#fb9f3a\"],[0.8888888888888888,\"#fdca26\"],[1.0,\"#f0f921\"]]}],\"mesh3d\":[{\"type\":\"mesh3d\",\"colorbar\":{\"outlinewidth\":0,\"ticks\":\"\"}}],\"scatter\":[{\"fillpattern\":{\"fillmode\":\"overlay\",\"size\":10,\"solidity\":0.2},\"type\":\"scatter\"}],\"parcoords\":[{\"type\":\"parcoords\",\"line\":{\"colorbar\":{\"outlinewidth\":0,\"ticks\":\"\"}}}],\"scatterpolargl\":[{\"type\":\"scatterpolargl\",\"marker\":{\"colorbar\":{\"outlinewidth\":0,\"ticks\":\"\"}}}],\"bar\":[{\"error_x\":{\"color\":\"#2a3f5f\"},\"error_y\":{\"color\":\"#2a3f5f\"},\"marker\":{\"line\":{\"color\":\"#E5ECF6\",\"width\":0.5},\"pattern\":{\"fillmode\":\"overlay\",\"size\":10,\"solidity\":0.2}},\"type\":\"bar\"}],\"scattergeo\":[{\"type\":\"scattergeo\",\"marker\":{\"colorbar\":{\"outlinewidth\":0,\"ticks\":\"\"}}}],\"scatterpolar\":[{\"type\":\"scatterpolar\",\"marker\":{\"colorbar\":{\"outlinewidth\":0,\"ticks\":\"\"}}}],\"histogram\":[{\"marker\":{\"pattern\":{\"fillmode\":\"overlay\",\"size\":10,\"solidity\":0.2}},\"type\":\"histogram\"}],\"scattergl\":[{\"type\":\"scattergl\",\"marker\":{\"colorbar\":{\"outlinewidth\":0,\"ticks\":\"\"}}}],\"scatter3d\":[{\"type\":\"scatter3d\",\"line\":{\"colorbar\":{\"outlinewidth\":0,\"ticks\":\"\"}},\"marker\":{\"colorbar\":{\"outlinewidth\":0,\"ticks\":\"\"}}}],\"scattermapbox\":[{\"type\":\"scattermapbox\",\"marker\":{\"colorbar\":{\"outlinewidth\":0,\"ticks\":\"\"}}}],\"scatterternary\":[{\"type\":\"scatterternary\",\"marker\":{\"colorbar\":{\"outlinewidth\":0,\"ticks\":\"\"}}}],\"scattercarpet\":[{\"type\":\"scattercarpet\",\"marker\":{\"colorbar\":{\"outlinewidth\":0,\"ticks\":\"\"}}}],\"carpet\":[{\"aaxis\":{\"endlinecolor\":\"#2a3f5f\",\"gridcolor\":\"white\",\"linecolor\":\"white\",\"minorgridcolor\":\"white\",\"startlinecolor\":\"#2a3f5f\"},\"baxis\":{\"endlinecolor\":\"#2a3f5f\",\"gridcolor\":\"white\",\"linecolor\":\"white\",\"minorgridcolor\":\"white\",\"startlinecolor\":\"#2a3f5f\"},\"type\":\"carpet\"}],\"table\":[{\"cells\":{\"fill\":{\"color\":\"#EBF0F8\"},\"line\":{\"color\":\"white\"}},\"header\":{\"fill\":{\"color\":\"#C8D4E3\"},\"line\":{\"color\":\"white\"}},\"type\":\"table\"}],\"barpolar\":[{\"marker\":{\"line\":{\"color\":\"#E5ECF6\",\"width\":0.5},\"pattern\":{\"fillmode\":\"overlay\",\"size\":10,\"solidity\":0.2}},\"type\":\"barpolar\"}],\"pie\":[{\"automargin\":true,\"type\":\"pie\"}]},\"layout\":{\"autotypenumbers\":\"strict\",\"colorway\":[\"#636efa\",\"#EF553B\",\"#00cc96\",\"#ab63fa\",\"#FFA15A\",\"#19d3f3\",\"#FF6692\",\"#B6E880\",\"#FF97FF\",\"#FECB52\"],\"font\":{\"color\":\"#2a3f5f\"},\"hovermode\":\"closest\",\"hoverlabel\":{\"align\":\"left\"},\"paper_bgcolor\":\"white\",\"plot_bgcolor\":\"#E5ECF6\",\"polar\":{\"bgcolor\":\"#E5ECF6\",\"angularaxis\":{\"gridcolor\":\"white\",\"linecolor\":\"white\",\"ticks\":\"\"},\"radialaxis\":{\"gridcolor\":\"white\",\"linecolor\":\"white\",\"ticks\":\"\"}},\"ternary\":{\"bgcolor\":\"#E5ECF6\",\"aaxis\":{\"gridcolor\":\"white\",\"linecolor\":\"white\",\"ticks\":\"\"},\"baxis\":{\"gridcolor\":\"white\",\"linecolor\":\"white\",\"ticks\":\"\"},\"caxis\":{\"gridcolor\":\"white\",\"linecolor\":\"white\",\"ticks\":\"\"}},\"coloraxis\":{\"colorbar\":{\"outlinewidth\":0,\"ticks\":\"\"}},\"colorscale\":{\"sequential\":[[0.0,\"#0d0887\"],[0.1111111111111111,\"#46039f\"],[0.2222222222222222,\"#7201a8\"],[0.3333333333333333,\"#9c179e\"],[0.4444444444444444,\"#bd3786\"],[0.5555555555555556,\"#d8576b\"],[0.6666666666666666,\"#ed7953\"],[0.7777777777777778,\"#fb9f3a\"],[0.8888888888888888,\"#fdca26\"],[1.0,\"#f0f921\"]],\"sequentialminus\":[[0.0,\"#0d0887\"],[0.1111111111111111,\"#46039f\"],[0.2222222222222222,\"#7201a8\"],[0.3333333333333333,\"#9c179e\"],[0.4444444444444444,\"#bd3786\"],[0.5555555555555556,\"#d8576b\"],[0.6666666666666666,\"#ed7953\"],[0.7777777777777778,\"#fb9f3a\"],[0.8888888888888888,\"#fdca26\"],[1.0,\"#f0f921\"]],\"diverging\":[[0,\"#8e0152\"],[0.1,\"#c51b7d\"],[0.2,\"#de77ae\"],[0.3,\"#f1b6da\"],[0.4,\"#fde0ef\"],[0.5,\"#f7f7f7\"],[0.6,\"#e6f5d0\"],[0.7,\"#b8e186\"],[0.8,\"#7fbc41\"],[0.9,\"#4d9221\"],[1,\"#276419\"]]},\"xaxis\":{\"gridcolor\":\"white\",\"linecolor\":\"white\",\"ticks\":\"\",\"title\":{\"standoff\":15},\"zerolinecolor\":\"white\",\"automargin\":true,\"zerolinewidth\":2},\"yaxis\":{\"gridcolor\":\"white\",\"linecolor\":\"white\",\"ticks\":\"\",\"title\":{\"standoff\":15},\"zerolinecolor\":\"white\",\"automargin\":true,\"zerolinewidth\":2},\"scene\":{\"xaxis\":{\"backgroundcolor\":\"#E5ECF6\",\"gridcolor\":\"white\",\"linecolor\":\"white\",\"showbackground\":true,\"ticks\":\"\",\"zerolinecolor\":\"white\",\"gridwidth\":2},\"yaxis\":{\"backgroundcolor\":\"#E5ECF6\",\"gridcolor\":\"white\",\"linecolor\":\"white\",\"showbackground\":true,\"ticks\":\"\",\"zerolinecolor\":\"white\",\"gridwidth\":2},\"zaxis\":{\"backgroundcolor\":\"#E5ECF6\",\"gridcolor\":\"white\",\"linecolor\":\"white\",\"showbackground\":true,\"ticks\":\"\",\"zerolinecolor\":\"white\",\"gridwidth\":2}},\"shapedefaults\":{\"line\":{\"color\":\"#2a3f5f\"}},\"annotationdefaults\":{\"arrowcolor\":\"#2a3f5f\",\"arrowhead\":0,\"arrowwidth\":1},\"geo\":{\"bgcolor\":\"white\",\"landcolor\":\"#E5ECF6\",\"subunitcolor\":\"white\",\"showland\":true,\"showlakes\":true,\"lakecolor\":\"white\"},\"title\":{\"x\":0.05},\"mapbox\":{\"style\":\"light\"}}}},                        {\"responsive\": true}                    ).then(function(){\n",
              "                            \n",
              "var gd = document.getElementById('0672f7f7-d371-4504-830b-7321efca726d');\n",
              "var x = new MutationObserver(function (mutations, observer) {{\n",
              "        var display = window.getComputedStyle(gd).display;\n",
              "        if (!display || display === 'none') {{\n",
              "            console.log([gd, 'removed!']);\n",
              "            Plotly.purge(gd);\n",
              "            observer.disconnect();\n",
              "        }}\n",
              "}});\n",
              "\n",
              "// Listen for the removal of the full notebook cells\n",
              "var notebookContainer = gd.closest('#notebook-container');\n",
              "if (notebookContainer) {{\n",
              "    x.observe(notebookContainer, {childList: true});\n",
              "}}\n",
              "\n",
              "// Listen for the clearing of the current output cell\n",
              "var outputEl = gd.closest('.output');\n",
              "if (outputEl) {{\n",
              "    x.observe(outputEl, {childList: true});\n",
              "}}\n",
              "\n",
              "                        })                };                            </script>        </div>\n",
              "</body>\n",
              "</html>"
            ]
          },
          "metadata": {}
        }
      ],
      "source": [
        "# 하이퍼파라미터 중요도\n",
        "optuna.visualization.plot_param_importances(study)"
      ]
    },
    {
      "cell_type": "code",
      "execution_count": null,
      "id": "f53a98cb-4cd4-4354-9b46-3f6b6e52834e",
      "metadata": {
        "id": "f53a98cb-4cd4-4354-9b46-3f6b6e52834e"
      },
      "outputs": [],
      "source": []
    }
  ],
  "metadata": {
    "kernelspec": {
      "display_name": "Python 3",
      "name": "python3"
    },
    "language_info": {
      "codemirror_mode": {
        "name": "ipython",
        "version": 3
      },
      "file_extension": ".py",
      "mimetype": "text/x-python",
      "name": "python",
      "nbconvert_exporter": "python",
      "pygments_lexer": "ipython3",
      "version": "3.9.13"
    },
    "colab": {
      "provenance": [],
      "gpuType": "T4"
    },
    "accelerator": "GPU"
  },
  "nbformat": 4,
  "nbformat_minor": 5
}