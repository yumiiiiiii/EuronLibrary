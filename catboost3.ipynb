{
  "cells": [
    {
      "cell_type": "code",
      "source": [
        "!pip install optuna catboost"
      ],
      "metadata": {
        "colab": {
          "base_uri": "https://localhost:8080/"
        },
        "id": "GdQo17C-5XNt",
        "outputId": "9f4ad461-5ebc-452d-db82-e80b71798477"
      },
      "id": "GdQo17C-5XNt",
      "execution_count": 2,
      "outputs": [
        {
          "output_type": "stream",
          "name": "stdout",
          "text": [
            "Collecting optuna\n",
            "  Downloading optuna-3.5.0-py3-none-any.whl (413 kB)\n",
            "\u001b[2K     \u001b[90m━━━━━━━━━━━━━━━━━━━━━━━━━━━━━━━━━━━━━━━━\u001b[0m \u001b[32m413.4/413.4 kB\u001b[0m \u001b[31m6.3 MB/s\u001b[0m eta \u001b[36m0:00:00\u001b[0m\n",
            "\u001b[?25hCollecting catboost\n",
            "  Downloading catboost-1.2.2-cp310-cp310-manylinux2014_x86_64.whl (98.7 MB)\n",
            "\u001b[2K     \u001b[90m━━━━━━━━━━━━━━━━━━━━━━━━━━━━━━━━━━━━━━━━\u001b[0m \u001b[32m98.7/98.7 MB\u001b[0m \u001b[31m3.4 MB/s\u001b[0m eta \u001b[36m0:00:00\u001b[0m\n",
            "\u001b[?25hCollecting alembic>=1.5.0 (from optuna)\n",
            "  Downloading alembic-1.13.1-py3-none-any.whl (233 kB)\n",
            "\u001b[2K     \u001b[90m━━━━━━━━━━━━━━━━━━━━━━━━━━━━━━━━━━━━━━━━\u001b[0m \u001b[32m233.4/233.4 kB\u001b[0m \u001b[31m13.9 MB/s\u001b[0m eta \u001b[36m0:00:00\u001b[0m\n",
            "\u001b[?25hCollecting colorlog (from optuna)\n",
            "  Downloading colorlog-6.8.2-py3-none-any.whl (11 kB)\n",
            "Requirement already satisfied: numpy in /usr/local/lib/python3.10/dist-packages (from optuna) (1.23.5)\n",
            "Requirement already satisfied: packaging>=20.0 in /usr/local/lib/python3.10/dist-packages (from optuna) (23.2)\n",
            "Requirement already satisfied: sqlalchemy>=1.3.0 in /usr/local/lib/python3.10/dist-packages (from optuna) (2.0.24)\n",
            "Requirement already satisfied: tqdm in /usr/local/lib/python3.10/dist-packages (from optuna) (4.66.1)\n",
            "Requirement already satisfied: PyYAML in /usr/local/lib/python3.10/dist-packages (from optuna) (6.0.1)\n",
            "Requirement already satisfied: graphviz in /usr/local/lib/python3.10/dist-packages (from catboost) (0.20.1)\n",
            "Requirement already satisfied: matplotlib in /usr/local/lib/python3.10/dist-packages (from catboost) (3.7.1)\n",
            "Requirement already satisfied: pandas>=0.24 in /usr/local/lib/python3.10/dist-packages (from catboost) (1.5.3)\n",
            "Requirement already satisfied: scipy in /usr/local/lib/python3.10/dist-packages (from catboost) (1.11.4)\n",
            "Requirement already satisfied: plotly in /usr/local/lib/python3.10/dist-packages (from catboost) (5.15.0)\n",
            "Requirement already satisfied: six in /usr/local/lib/python3.10/dist-packages (from catboost) (1.16.0)\n",
            "Collecting Mako (from alembic>=1.5.0->optuna)\n",
            "  Downloading Mako-1.3.2-py3-none-any.whl (78 kB)\n",
            "\u001b[2K     \u001b[90m━━━━━━━━━━━━━━━━━━━━━━━━━━━━━━━━━━━━━━━━\u001b[0m \u001b[32m78.7/78.7 kB\u001b[0m \u001b[31m10.7 MB/s\u001b[0m eta \u001b[36m0:00:00\u001b[0m\n",
            "\u001b[?25hRequirement already satisfied: typing-extensions>=4 in /usr/local/lib/python3.10/dist-packages (from alembic>=1.5.0->optuna) (4.5.0)\n",
            "Requirement already satisfied: python-dateutil>=2.8.1 in /usr/local/lib/python3.10/dist-packages (from pandas>=0.24->catboost) (2.8.2)\n",
            "Requirement already satisfied: pytz>=2020.1 in /usr/local/lib/python3.10/dist-packages (from pandas>=0.24->catboost) (2023.4)\n",
            "Requirement already satisfied: greenlet!=0.4.17 in /usr/local/lib/python3.10/dist-packages (from sqlalchemy>=1.3.0->optuna) (3.0.3)\n",
            "Requirement already satisfied: contourpy>=1.0.1 in /usr/local/lib/python3.10/dist-packages (from matplotlib->catboost) (1.2.0)\n",
            "Requirement already satisfied: cycler>=0.10 in /usr/local/lib/python3.10/dist-packages (from matplotlib->catboost) (0.12.1)\n",
            "Requirement already satisfied: fonttools>=4.22.0 in /usr/local/lib/python3.10/dist-packages (from matplotlib->catboost) (4.47.2)\n",
            "Requirement already satisfied: kiwisolver>=1.0.1 in /usr/local/lib/python3.10/dist-packages (from matplotlib->catboost) (1.4.5)\n",
            "Requirement already satisfied: pillow>=6.2.0 in /usr/local/lib/python3.10/dist-packages (from matplotlib->catboost) (9.4.0)\n",
            "Requirement already satisfied: pyparsing>=2.3.1 in /usr/local/lib/python3.10/dist-packages (from matplotlib->catboost) (3.1.1)\n",
            "Requirement already satisfied: tenacity>=6.2.0 in /usr/local/lib/python3.10/dist-packages (from plotly->catboost) (8.2.3)\n",
            "Requirement already satisfied: MarkupSafe>=0.9.2 in /usr/local/lib/python3.10/dist-packages (from Mako->alembic>=1.5.0->optuna) (2.1.4)\n",
            "Installing collected packages: Mako, colorlog, alembic, optuna, catboost\n",
            "Successfully installed Mako-1.3.2 alembic-1.13.1 catboost-1.2.2 colorlog-6.8.2 optuna-3.5.0\n"
          ]
        }
      ]
    },
    {
      "cell_type": "code",
      "execution_count": 3,
      "id": "d58c9dbc-8a89-4147-a3a0-594a1b4b6fc6",
      "metadata": {
        "id": "d58c9dbc-8a89-4147-a3a0-594a1b4b6fc6"
      },
      "outputs": [],
      "source": [
        "import pandas as pd\n",
        "import numpy as np\n",
        "from sklearn.preprocessing import LabelEncoder\n",
        "import optuna\n",
        "from catboost import CatBoostRegressor\n",
        "from sklearn.model_selection import KFold, StratifiedKFold\n",
        "from sklearn.metrics import make_scorer, mean_squared_error, mean_absolute_error\n",
        "from sklearn.model_selection import train_test_split\n",
        "import matplotlib.pyplot as plt\n",
        "import seaborn as sns\n",
        "import warnings\n",
        "import gc"
      ]
    },
    {
      "cell_type": "code",
      "source": [
        "from google.colab import drive\n",
        "drive.mount('/content/drive')"
      ],
      "metadata": {
        "colab": {
          "base_uri": "https://localhost:8080/"
        },
        "id": "fWpIMdgb0LBd",
        "outputId": "cbd34b1e-16d2-485b-b753-1a2738bb58fb"
      },
      "id": "fWpIMdgb0LBd",
      "execution_count": 4,
      "outputs": [
        {
          "output_type": "stream",
          "name": "stdout",
          "text": [
            "Mounted at /content/drive\n"
          ]
        }
      ]
    },
    {
      "cell_type": "code",
      "source": [
        "import os\n",
        "os.chdir('/content/drive/MyDrive/Euron')"
      ],
      "metadata": {
        "id": "uO3D81WN0N1_"
      },
      "id": "uO3D81WN0N1_",
      "execution_count": 5,
      "outputs": []
    },
    {
      "cell_type": "code",
      "source": [
        "train = pd.read_csv('train.csv')\n",
        "test = pd.read_csv('test.csv')\n",
        "submission = pd.read_csv('sample_submission.csv')"
      ],
      "metadata": {
        "id": "EtPCBd365Kss"
      },
      "id": "EtPCBd365Kss",
      "execution_count": 6,
      "outputs": []
    },
    {
      "cell_type": "code",
      "execution_count": 7,
      "id": "48f4b273-4266-4abb-8caf-47c3a028ffaf",
      "metadata": {
        "id": "48f4b273-4266-4abb-8caf-47c3a028ffaf",
        "colab": {
          "base_uri": "https://localhost:8080/"
        },
        "outputId": "1de9759f-8741-4f8f-fe0a-9fd4a4f018aa"
      },
      "outputs": [
        {
          "output_type": "stream",
          "name": "stderr",
          "text": [
            "<ipython-input-7-4af6f511e24b>:5: FutureWarning: The default value of regex will change from True to False in a future version.\n",
            "  train['Location'] = train['Location'].str.replace(r'[^0-9a-zA-Z:,]', '')\n"
          ]
        }
      ],
      "source": [
        "#train.drop(columns=['ID', 'Book-ID', 'Year-Of-Publication'], inplace=True)\n",
        "#test.drop(columns=['ID', 'Book-ID', 'Year-Of-Publication'], inplace=True)\n",
        "# location 전처리\n",
        "# Location 분리\n",
        "train['Location'] = train['Location'].str.replace(r'[^0-9a-zA-Z:,]', '')\n",
        "train['city'] = train['Location'].apply(lambda x: x.split(',')[0].strip())\n",
        "train['state'] = train['Location'].apply(lambda x: x.split(',')[1].strip())\n",
        "train['country'] = train['Location'].apply(lambda x: x.split(',')[2].strip())\n",
        "\n",
        "train.drop('Location', axis=1, inplace=True)\n",
        "train = train.replace('na', np.nan)\n",
        "train = train.replace('', np.nan)\n",
        "\n",
        "# Location 최빈값으로 대체\n",
        "mode_city = train['city'].mode()[0]\n",
        "mode_state = train['state'].mode()[0]\n",
        "mode_country = train['country'].mode()[0]\n",
        "\n",
        "# 결측값 대체\n",
        "train['city'].fillna(mode_city, inplace=True)\n",
        "train['state'].fillna(mode_state, inplace=True)\n",
        "train['country'].fillna(mode_country, inplace=True)"
      ]
    },
    {
      "cell_type": "code",
      "source": [
        "## Age 이상치 처리\n",
        "# 이상치: 5세 이하 90세 초과\n",
        "train.loc[(train['Age'] <= 5)|(train['Age'] > 90), 'Age'] = np.nan\n",
        "train['Age'].isnull().sum() # 5세 이하 또는 90세 초과인 데이터 4497개\n",
        "# 평균값으로 대체\n",
        "train['Age'].mean() # Age (이상치 제거 후) 평균: 36.541634752034845\n",
        "train['Age'] = train['Age'].fillna(train['Age'].mean())\n",
        "\n",
        "## Age 범주화\n",
        "# Age_group: 이상치 처리 & 5세 단위로 범주화\n",
        "train['Age_group'] = pd.cut(train['Age'], bins = list(range(5, 91, 5)))\n",
        "\n",
        "from sklearn.preprocessing import LabelEncoder\n",
        "\n",
        "encoder = LabelEncoder() #labelencoder함수를 가져온다.\n",
        "encoder.fit(train['Age_group']) #내가 가지고 있는 데이터에 학습시킨다\n",
        "digit_label = encoder.transform(train['Age_group'])\n",
        "train['Age_group'] = digit_label # encoding 잘됐나?\n",
        "#train['Age_group']"
      ],
      "metadata": {
        "id": "olR13yoUrn5y"
      },
      "id": "olR13yoUrn5y",
      "execution_count": 8,
      "outputs": []
    },
    {
      "cell_type": "code",
      "source": [
        "# 소문자 통일, 특수문자 제거 (종류: 15505 -> 15021)\n",
        "train['Publisher'] = train['Publisher'].str.lower().replace('[^0-9a-zA-Z\\s]', '', regex=True)\n",
        "\n",
        "# 소문자 통일, 특수문자 제거, 띄어쓰기 제거 (종류: 15505 -> 14840)\n",
        "train['Publisher'] = train['Publisher'].str.lower().replace('[^0-9a-zA-Z]', '', regex=True)"
      ],
      "metadata": {
        "id": "JOdWDEhOtcXc"
      },
      "id": "JOdWDEhOtcXc",
      "execution_count": 9,
      "outputs": []
    },
    {
      "cell_type": "code",
      "source": [
        "train['Book-Author'] = train['Book-Author'].str.lower().replace('[^0-9a-zA-Z]', '', regex=True)"
      ],
      "metadata": {
        "id": "ydbpwyoktdJt"
      },
      "id": "ydbpwyoktdJt",
      "execution_count": 10,
      "outputs": []
    },
    {
      "cell_type": "code",
      "source": [
        "# 출판년도 그룹화\n",
        "# 만약 출판연도가 null이 있다면 정보없음(-1)로 채움\n",
        "# train['Year-Of-Publication'] = train['Year-Of-Publication'].fillna(-1)\n",
        "\n",
        "labels = ['Unknown', '-1800', '1800-1850', '1850-1900', '1900-1910', '1910-1920', '1920-1930', '1930-1940', '1940-1950','1950-1960', '1960-1970', '1970-1980', '1980-1990', '1990-2000', '2000-2010', '2010-2020', '2020-']\n",
        "bins = [-1, 0, 1800, 1850, 1900, 1910, 1920, 1930, 1940, 1950, 1960, 1970, 1980, 1990, 2000, 2010, 2020, 3000]\n",
        "train['Pub_gb'] = pd.cut(train['Year-Of-Publication'], bins, labels = labels,include_lowest = True)\n",
        "train = train.drop(columns =['Year-Of-Publication'])\n",
        "#train['Year-Of-Publication'] = pd.cut(train['Year-Of-Publication'], bins=bins, labels=labels)\n",
        "\n",
        "\n",
        "encoder2 = LabelEncoder() #labelencoder함수를 가져온다.\n",
        "encoder2.fit(train['Pub_gb']) #내가 가지고 있는 데이터에 학습시킨다\n",
        "digit_label = encoder2.transform(train['Pub_gb'])\n",
        "train['Pub_gb'] = digit_label # encoding 잘됐나?\n",
        "#train['Pub_gb']"
      ],
      "metadata": {
        "id": "HbC7XtbztqWa"
      },
      "id": "HbC7XtbztqWa",
      "execution_count": 11,
      "outputs": []
    },
    {
      "cell_type": "code",
      "source": [
        "# Title 데이터 정리\n",
        "import re # 정규표현 모듈\n",
        "\n",
        "# 정규표현식으로 대소문자 통일, 특수문자 제거\n",
        "train['Book-Title'] = [re.sub(r'[^0-9a-zA-Z:,]',  ' ',str(i)) for i in train['Book-Title']]\n",
        "train['Main_Title'] = [i.split('  ')[0] for i in train['Book-Title']]\n",
        "train['Sub_Title'] = [''.join(i.split('  ')[1:]) for i in train['Book-Title']]\n",
        "train['Sub_Title'] = np.where(train['Sub_Title'] == '', 'No_SUB', train['Sub_Title'])"
      ],
      "metadata": {
        "id": "q9RQKqBp8R0R"
      },
      "id": "q9RQKqBp8R0R",
      "execution_count": 13,
      "outputs": []
    },
    {
      "cell_type": "code",
      "source": [
        "train.info()"
      ],
      "metadata": {
        "colab": {
          "base_uri": "https://localhost:8080/"
        },
        "id": "5UmgGed775Zb",
        "outputId": "f96a20f9-8e9e-41fc-df13-eac54d6d0c01"
      },
      "id": "5UmgGed775Zb",
      "execution_count": 15,
      "outputs": [
        {
          "output_type": "stream",
          "name": "stdout",
          "text": [
            "<class 'pandas.core.frame.DataFrame'>\n",
            "RangeIndex: 871393 entries, 0 to 871392\n",
            "Data columns (total 15 columns):\n",
            " #   Column       Non-Null Count   Dtype  \n",
            "---  ------       --------------   -----  \n",
            " 0   ID           871393 non-null  object \n",
            " 1   User-ID      871393 non-null  object \n",
            " 2   Book-ID      871393 non-null  object \n",
            " 3   Book-Rating  871393 non-null  int64  \n",
            " 4   Age          871393 non-null  float64\n",
            " 5   Book-Title   871393 non-null  object \n",
            " 6   Book-Author  871393 non-null  object \n",
            " 7   Publisher    871393 non-null  object \n",
            " 8   city         871393 non-null  object \n",
            " 9   state        871393 non-null  object \n",
            " 10  country      871393 non-null  object \n",
            " 11  Age_group    871393 non-null  int64  \n",
            " 12  Pub_gb       871393 non-null  int64  \n",
            " 13  Main_Title   871393 non-null  object \n",
            " 14  Sub_Title    871393 non-null  object \n",
            "dtypes: float64(1), int64(3), object(11)\n",
            "memory usage: 99.7+ MB\n"
          ]
        }
      ]
    },
    {
      "cell_type": "code",
      "execution_count": 16,
      "id": "c3f0d1c7-d713-4cfd-9d71-5c809cab7b46",
      "metadata": {
        "id": "c3f0d1c7-d713-4cfd-9d71-5c809cab7b46"
      },
      "outputs": [],
      "source": [
        "y = train['Book-Rating']\n",
        "\n",
        "X = train.drop(['Book-Rating','Book-ID','Book-Title','ID'], axis=1)"
      ]
    },
    {
      "cell_type": "code",
      "execution_count": 17,
      "id": "218a6eeb-fdd2-483c-8073-98b1916d4771",
      "metadata": {
        "id": "218a6eeb-fdd2-483c-8073-98b1916d4771"
      },
      "outputs": [],
      "source": [
        "kf = StratifiedKFold(n_splits = 10, random_state = 42, shuffle = True)\n",
        "\n",
        "cat_feature = [\"User-ID\",  \"Age_group\",\"Pub_gb\",\"Publisher\",\"country\",\"Book-Author\",\"state\",\"city\",\"Main_Title\",\"Sub_Title\"]"
      ]
    },
    {
      "cell_type": "code",
      "execution_count": 19,
      "id": "9622086f-6df0-4a4b-b45f-2360e764a5b1",
      "metadata": {
        "id": "9622086f-6df0-4a4b-b45f-2360e764a5b1"
      },
      "outputs": [],
      "source": [
        "def objective_cat(trial):\n",
        "    \"\"\"\n",
        "    Objective function to tune a `CatBoostRegressor` model.\n",
        "    \"\"\"\n",
        "\n",
        "    x_train, x_test, y_train, y_test = train_test_split(X, y, test_size=0.1, random_state=42, stratify=y)\n",
        "\n",
        "    params = {\n",
        "        'objective' :  'RMSE',\n",
        "        'n_estimators':trial.suggest_int(\"n_estimators\", 30, 10000),\n",
        "        'od_wait':trial.suggest_int('od_wait', 500, 2300),\n",
        "        'learning_rate' : trial.suggest_uniform('learning_rate',0.01, 1),\n",
        "        'reg_lambda': trial.suggest_uniform('reg_lambda',1e-5,100),\n",
        "        'random_strength': trial.suggest_uniform('random_strength',10,50),\n",
        "        'depth': trial.suggest_int('depth',1, 15),\n",
        "        'min_data_in_leaf': trial.suggest_int('min_data_in_leaf',1,30),\n",
        "        'random_state' : 42,\n",
        "        'task_type' : \"GPU\",\n",
        "        'verbose' : False\n",
        "    }\n",
        "\n",
        "\n",
        "    model = CatBoostRegressor(\n",
        "        **params,\n",
        "        cat_features=[\"User-ID\",  \"Age_group\",\"Pub_gb\",\"Publisher\",\"country\",\"Book-Author\",\"state\",\"city\",\"Main_Title\",\"Sub_Title\"]\n",
        "    )\n",
        "    model.fit(x_train, y_train, eval_set = [(x_test, y_test)], early_stopping_rounds = 500, verbose = 2000)\n",
        "\n",
        "    pred = model.predict(x_test)\n",
        "\n",
        "    mae = mean_squared_error(y_test, pred, squared=False)\n",
        "\n",
        "\n",
        "    return mae"
      ]
    },
    {
      "cell_type": "code",
      "source": [
        "study = optuna.create_study(direction=\"minimize\")\n",
        "study.optimize(objective_cat, n_trials=10)"
      ],
      "metadata": {
        "colab": {
          "base_uri": "https://localhost:8080/"
        },
        "id": "hRN-YZlunveL",
        "outputId": "9829f0cb-e8ba-4cda-f4b5-24240deb221f"
      },
      "id": "hRN-YZlunveL",
      "execution_count": 20,
      "outputs": [
        {
          "output_type": "stream",
          "name": "stderr",
          "text": [
            "[I 2024-02-06 10:23:44,933] A new study created in memory with name: no-name-5041b4b1-df8d-42f8-8b68-6cfb0928f644\n",
            "<ipython-input-19-88818f8e1d71>:12: FutureWarning: suggest_uniform has been deprecated in v3.0.0. This feature will be removed in v6.0.0. See https://github.com/optuna/optuna/releases/tag/v3.0.0. Use suggest_float instead.\n",
            "  'learning_rate' : trial.suggest_uniform('learning_rate',0.01, 1),\n",
            "<ipython-input-19-88818f8e1d71>:13: FutureWarning: suggest_uniform has been deprecated in v3.0.0. This feature will be removed in v6.0.0. See https://github.com/optuna/optuna/releases/tag/v3.0.0. Use suggest_float instead.\n",
            "  'reg_lambda': trial.suggest_uniform('reg_lambda',1e-5,100),\n",
            "<ipython-input-19-88818f8e1d71>:14: FutureWarning: suggest_uniform has been deprecated in v3.0.0. This feature will be removed in v6.0.0. See https://github.com/optuna/optuna/releases/tag/v3.0.0. Use suggest_float instead.\n",
            "  'random_strength': trial.suggest_uniform('random_strength',10,50),\n"
          ]
        },
        {
          "output_type": "stream",
          "name": "stdout",
          "text": [
            "0:\tlearn: 3.7491053\ttest: 3.7427320\tbest: 3.7427320 (0)\ttotal: 127ms\tremaining: 1m 26s\n",
            "681:\tlearn: 3.2666421\ttest: 3.2517293\tbest: 3.2516922 (659)\ttotal: 1m 17s\tremaining: 0us\n",
            "bestTest = 3.251692238\n",
            "bestIteration = 659\n",
            "Shrink model to first 660 iterations.\n"
          ]
        },
        {
          "output_type": "stream",
          "name": "stderr",
          "text": [
            "[I 2024-02-06 10:25:28,408] Trial 0 finished with value: 3.2516924284683286 and parameters: {'n_estimators': 682, 'od_wait': 886, 'learning_rate': 0.16168595684152917, 'reg_lambda': 58.252387412785495, 'random_strength': 38.20371032813519, 'depth': 8, 'min_data_in_leaf': 4}. Best is trial 0 with value: 3.2516924284683286.\n",
            "<ipython-input-19-88818f8e1d71>:12: FutureWarning: suggest_uniform has been deprecated in v3.0.0. This feature will be removed in v6.0.0. See https://github.com/optuna/optuna/releases/tag/v3.0.0. Use suggest_float instead.\n",
            "  'learning_rate' : trial.suggest_uniform('learning_rate',0.01, 1),\n",
            "<ipython-input-19-88818f8e1d71>:13: FutureWarning: suggest_uniform has been deprecated in v3.0.0. This feature will be removed in v6.0.0. See https://github.com/optuna/optuna/releases/tag/v3.0.0. Use suggest_float instead.\n",
            "  'reg_lambda': trial.suggest_uniform('reg_lambda',1e-5,100),\n",
            "<ipython-input-19-88818f8e1d71>:14: FutureWarning: suggest_uniform has been deprecated in v3.0.0. This feature will be removed in v6.0.0. See https://github.com/optuna/optuna/releases/tag/v3.0.0. Use suggest_float instead.\n",
            "  'random_strength': trial.suggest_uniform('random_strength',10,50),\n"
          ]
        },
        {
          "output_type": "stream",
          "name": "stdout",
          "text": [
            "0:\tlearn: 3.5333517\ttest: 3.4989478\tbest: 3.4989478 (0)\ttotal: 57.2ms\tremaining: 2m 43s\n",
            "bestTest = 3.266890288\n",
            "bestIteration = 501\n",
            "Shrink model to first 502 iterations.\n"
          ]
        },
        {
          "output_type": "stream",
          "name": "stderr",
          "text": [
            "[I 2024-02-06 10:26:35,529] Trial 1 finished with value: 3.2668905786490066 and parameters: {'n_estimators': 2863, 'od_wait': 1214, 'learning_rate': 0.9258427148178731, 'reg_lambda': 46.77590350966542, 'random_strength': 10.755186231674942, 'depth': 3, 'min_data_in_leaf': 11}. Best is trial 0 with value: 3.2516924284683286.\n",
            "<ipython-input-19-88818f8e1d71>:12: FutureWarning: suggest_uniform has been deprecated in v3.0.0. This feature will be removed in v6.0.0. See https://github.com/optuna/optuna/releases/tag/v3.0.0. Use suggest_float instead.\n",
            "  'learning_rate' : trial.suggest_uniform('learning_rate',0.01, 1),\n",
            "<ipython-input-19-88818f8e1d71>:13: FutureWarning: suggest_uniform has been deprecated in v3.0.0. This feature will be removed in v6.0.0. See https://github.com/optuna/optuna/releases/tag/v3.0.0. Use suggest_float instead.\n",
            "  'reg_lambda': trial.suggest_uniform('reg_lambda',1e-5,100),\n",
            "<ipython-input-19-88818f8e1d71>:14: FutureWarning: suggest_uniform has been deprecated in v3.0.0. This feature will be removed in v6.0.0. See https://github.com/optuna/optuna/releases/tag/v3.0.0. Use suggest_float instead.\n",
            "  'random_strength': trial.suggest_uniform('random_strength',10,50),\n"
          ]
        },
        {
          "output_type": "stream",
          "name": "stdout",
          "text": [
            "0:\tlearn: 3.5295822\ttest: 3.5043278\tbest: 3.5043278 (0)\ttotal: 238ms\tremaining: 57.2s\n",
            "241:\tlearn: 3.0513924\ttest: 3.2985120\tbest: 3.2722790 (64)\ttotal: 49.5s\tremaining: 0us\n",
            "bestTest = 3.272279021\n",
            "bestIteration = 64\n",
            "Shrink model to first 65 iterations.\n"
          ]
        },
        {
          "output_type": "stream",
          "name": "stderr",
          "text": [
            "[I 2024-02-06 10:27:38,852] Trial 2 finished with value: 3.272279254360232 and parameters: {'n_estimators': 242, 'od_wait': 708, 'learning_rate': 0.624690584994746, 'reg_lambda': 97.89061216989627, 'random_strength': 22.533547342449964, 'depth': 12, 'min_data_in_leaf': 29}. Best is trial 0 with value: 3.2516924284683286.\n",
            "<ipython-input-19-88818f8e1d71>:12: FutureWarning: suggest_uniform has been deprecated in v3.0.0. This feature will be removed in v6.0.0. See https://github.com/optuna/optuna/releases/tag/v3.0.0. Use suggest_float instead.\n",
            "  'learning_rate' : trial.suggest_uniform('learning_rate',0.01, 1),\n",
            "<ipython-input-19-88818f8e1d71>:13: FutureWarning: suggest_uniform has been deprecated in v3.0.0. This feature will be removed in v6.0.0. See https://github.com/optuna/optuna/releases/tag/v3.0.0. Use suggest_float instead.\n",
            "  'reg_lambda': trial.suggest_uniform('reg_lambda',1e-5,100),\n",
            "<ipython-input-19-88818f8e1d71>:14: FutureWarning: suggest_uniform has been deprecated in v3.0.0. This feature will be removed in v6.0.0. See https://github.com/optuna/optuna/releases/tag/v3.0.0. Use suggest_float instead.\n",
            "  'random_strength': trial.suggest_uniform('random_strength',10,50),\n"
          ]
        },
        {
          "output_type": "stream",
          "name": "stdout",
          "text": [
            "0:\tlearn: 3.5879911\ttest: 3.5649801\tbest: 3.5649801 (0)\ttotal: 33.9ms\tremaining: 53.3s\n",
            "1574:\tlearn: 3.3146154\ttest: 3.2655657\tbest: 3.2654793 (1516)\ttotal: 49.8s\tremaining: 0us\n",
            "bestTest = 3.265479283\n",
            "bestIteration = 1516\n",
            "Shrink model to first 1517 iterations.\n"
          ]
        },
        {
          "output_type": "stream",
          "name": "stderr",
          "text": [
            "[I 2024-02-06 10:28:42,661] Trial 3 finished with value: 3.2654792291055177 and parameters: {'n_estimators': 1575, 'od_wait': 1420, 'learning_rate': 0.6462443339685288, 'reg_lambda': 49.022930108234476, 'random_strength': 26.53546648985339, 'depth': 2, 'min_data_in_leaf': 19}. Best is trial 0 with value: 3.2516924284683286.\n",
            "<ipython-input-19-88818f8e1d71>:12: FutureWarning: suggest_uniform has been deprecated in v3.0.0. This feature will be removed in v6.0.0. See https://github.com/optuna/optuna/releases/tag/v3.0.0. Use suggest_float instead.\n",
            "  'learning_rate' : trial.suggest_uniform('learning_rate',0.01, 1),\n",
            "<ipython-input-19-88818f8e1d71>:13: FutureWarning: suggest_uniform has been deprecated in v3.0.0. This feature will be removed in v6.0.0. See https://github.com/optuna/optuna/releases/tag/v3.0.0. Use suggest_float instead.\n",
            "  'reg_lambda': trial.suggest_uniform('reg_lambda',1e-5,100),\n",
            "<ipython-input-19-88818f8e1d71>:14: FutureWarning: suggest_uniform has been deprecated in v3.0.0. This feature will be removed in v6.0.0. See https://github.com/optuna/optuna/releases/tag/v3.0.0. Use suggest_float instead.\n",
            "  'random_strength': trial.suggest_uniform('random_strength',10,50),\n"
          ]
        },
        {
          "output_type": "stream",
          "name": "stdout",
          "text": [
            "0:\tlearn: 3.7985385\ttest: 3.7957091\tbest: 3.7957091 (0)\ttotal: 235ms\tremaining: 21m 8s\n",
            "bestTest = 3.249889213\n",
            "bestIteration = 924\n",
            "Shrink model to first 925 iterations.\n"
          ]
        },
        {
          "output_type": "stream",
          "name": "stderr",
          "text": [
            "[I 2024-02-06 10:34:01,732] Trial 4 finished with value: 3.249889191106378 and parameters: {'n_estimators': 5411, 'od_wait': 1699, 'learning_rate': 0.07706713006326803, 'reg_lambda': 85.29820422306061, 'random_strength': 44.314299423505496, 'depth': 12, 'min_data_in_leaf': 24}. Best is trial 4 with value: 3.249889191106378.\n",
            "<ipython-input-19-88818f8e1d71>:12: FutureWarning: suggest_uniform has been deprecated in v3.0.0. This feature will be removed in v6.0.0. See https://github.com/optuna/optuna/releases/tag/v3.0.0. Use suggest_float instead.\n",
            "  'learning_rate' : trial.suggest_uniform('learning_rate',0.01, 1),\n",
            "<ipython-input-19-88818f8e1d71>:13: FutureWarning: suggest_uniform has been deprecated in v3.0.0. This feature will be removed in v6.0.0. See https://github.com/optuna/optuna/releases/tag/v3.0.0. Use suggest_float instead.\n",
            "  'reg_lambda': trial.suggest_uniform('reg_lambda',1e-5,100),\n",
            "<ipython-input-19-88818f8e1d71>:14: FutureWarning: suggest_uniform has been deprecated in v3.0.0. This feature will be removed in v6.0.0. See https://github.com/optuna/optuna/releases/tag/v3.0.0. Use suggest_float instead.\n",
            "  'random_strength': trial.suggest_uniform('random_strength',10,50),\n"
          ]
        },
        {
          "output_type": "stream",
          "name": "stdout",
          "text": [
            "0:\tlearn: 3.5781271\ttest: 3.5555286\tbest: 3.5555286 (0)\ttotal: 81.6ms\tremaining: 6m 11s\n",
            "bestTest = 3.261504637\n",
            "bestIteration = 786\n",
            "Shrink model to first 787 iterations.\n"
          ]
        },
        {
          "output_type": "stream",
          "name": "stderr",
          "text": [
            "[I 2024-02-06 10:35:52,148] Trial 5 finished with value: 3.261504714710523 and parameters: {'n_estimators': 4553, 'od_wait': 1354, 'learning_rate': 0.618005306927719, 'reg_lambda': 52.67261776003193, 'random_strength': 11.125591437351655, 'depth': 4, 'min_data_in_leaf': 25}. Best is trial 4 with value: 3.249889191106378.\n",
            "<ipython-input-19-88818f8e1d71>:12: FutureWarning: suggest_uniform has been deprecated in v3.0.0. This feature will be removed in v6.0.0. See https://github.com/optuna/optuna/releases/tag/v3.0.0. Use suggest_float instead.\n",
            "  'learning_rate' : trial.suggest_uniform('learning_rate',0.01, 1),\n",
            "<ipython-input-19-88818f8e1d71>:13: FutureWarning: suggest_uniform has been deprecated in v3.0.0. This feature will be removed in v6.0.0. See https://github.com/optuna/optuna/releases/tag/v3.0.0. Use suggest_float instead.\n",
            "  'reg_lambda': trial.suggest_uniform('reg_lambda',1e-5,100),\n",
            "<ipython-input-19-88818f8e1d71>:14: FutureWarning: suggest_uniform has been deprecated in v3.0.0. This feature will be removed in v6.0.0. See https://github.com/optuna/optuna/releases/tag/v3.0.0. Use suggest_float instead.\n",
            "  'random_strength': trial.suggest_uniform('random_strength',10,50),\n"
          ]
        },
        {
          "output_type": "stream",
          "name": "stdout",
          "text": [
            "0:\tlearn: 3.5026521\ttest: 3.4636958\tbest: 3.4636958 (0)\ttotal: 98.3ms\tremaining: 10m 40s\n",
            "bestTest = 3.269665942\n",
            "bestIteration = 106\n",
            "Shrink model to first 107 iterations.\n"
          ]
        },
        {
          "output_type": "stream",
          "name": "stderr",
          "text": [
            "[I 2024-02-06 10:37:14,678] Trial 6 finished with value: 3.2696658830874474 and parameters: {'n_estimators': 6511, 'od_wait': 676, 'learning_rate': 0.7532082730852896, 'reg_lambda': 79.33706871195575, 'random_strength': 14.344488442761506, 'depth': 8, 'min_data_in_leaf': 2}. Best is trial 4 with value: 3.249889191106378.\n",
            "<ipython-input-19-88818f8e1d71>:12: FutureWarning: suggest_uniform has been deprecated in v3.0.0. This feature will be removed in v6.0.0. See https://github.com/optuna/optuna/releases/tag/v3.0.0. Use suggest_float instead.\n",
            "  'learning_rate' : trial.suggest_uniform('learning_rate',0.01, 1),\n",
            "<ipython-input-19-88818f8e1d71>:13: FutureWarning: suggest_uniform has been deprecated in v3.0.0. This feature will be removed in v6.0.0. See https://github.com/optuna/optuna/releases/tag/v3.0.0. Use suggest_float instead.\n",
            "  'reg_lambda': trial.suggest_uniform('reg_lambda',1e-5,100),\n",
            "<ipython-input-19-88818f8e1d71>:14: FutureWarning: suggest_uniform has been deprecated in v3.0.0. This feature will be removed in v6.0.0. See https://github.com/optuna/optuna/releases/tag/v3.0.0. Use suggest_float instead.\n",
            "  'random_strength': trial.suggest_uniform('random_strength',10,50),\n"
          ]
        },
        {
          "output_type": "stream",
          "name": "stdout",
          "text": [
            "0:\tlearn: 3.6769005\ttest: 3.6622148\tbest: 3.6622148 (0)\ttotal: 754ms\tremaining: 54m 53s\n",
            "bestTest = 3.262159353\n",
            "bestIteration = 95\n",
            "Shrink model to first 96 iterations.\n"
          ]
        },
        {
          "output_type": "stream",
          "name": "stderr",
          "text": [
            "[I 2024-02-06 10:41:23,973] Trial 7 finished with value: 3.262159528534828 and parameters: {'n_estimators': 4368, 'od_wait': 1748, 'learning_rate': 0.27573946067279853, 'reg_lambda': 57.626942204764475, 'random_strength': 12.713945216803388, 'depth': 14, 'min_data_in_leaf': 4}. Best is trial 4 with value: 3.249889191106378.\n",
            "<ipython-input-19-88818f8e1d71>:12: FutureWarning: suggest_uniform has been deprecated in v3.0.0. This feature will be removed in v6.0.0. See https://github.com/optuna/optuna/releases/tag/v3.0.0. Use suggest_float instead.\n",
            "  'learning_rate' : trial.suggest_uniform('learning_rate',0.01, 1),\n",
            "<ipython-input-19-88818f8e1d71>:13: FutureWarning: suggest_uniform has been deprecated in v3.0.0. This feature will be removed in v6.0.0. See https://github.com/optuna/optuna/releases/tag/v3.0.0. Use suggest_float instead.\n",
            "  'reg_lambda': trial.suggest_uniform('reg_lambda',1e-5,100),\n",
            "<ipython-input-19-88818f8e1d71>:14: FutureWarning: suggest_uniform has been deprecated in v3.0.0. This feature will be removed in v6.0.0. See https://github.com/optuna/optuna/releases/tag/v3.0.0. Use suggest_float instead.\n",
            "  'random_strength': trial.suggest_uniform('random_strength',10,50),\n"
          ]
        },
        {
          "output_type": "stream",
          "name": "stdout",
          "text": [
            "0:\tlearn: 3.5811853\ttest: 3.5569345\tbest: 3.5569345 (0)\ttotal: 34ms\tremaining: 4m 14s\n",
            "bestTest = 3.264751088\n",
            "bestIteration = 1499\n",
            "Shrink model to first 1500 iterations.\n"
          ]
        },
        {
          "output_type": "stream",
          "name": "stderr",
          "text": [
            "[I 2024-02-06 10:42:41,727] Trial 8 finished with value: 3.2647513701226143 and parameters: {'n_estimators': 7486, 'od_wait': 897, 'learning_rate': 0.6792514070680401, 'reg_lambda': 95.722028431747, 'random_strength': 24.029269659067317, 'depth': 2, 'min_data_in_leaf': 30}. Best is trial 4 with value: 3.249889191106378.\n",
            "<ipython-input-19-88818f8e1d71>:12: FutureWarning: suggest_uniform has been deprecated in v3.0.0. This feature will be removed in v6.0.0. See https://github.com/optuna/optuna/releases/tag/v3.0.0. Use suggest_float instead.\n",
            "  'learning_rate' : trial.suggest_uniform('learning_rate',0.01, 1),\n",
            "<ipython-input-19-88818f8e1d71>:13: FutureWarning: suggest_uniform has been deprecated in v3.0.0. This feature will be removed in v6.0.0. See https://github.com/optuna/optuna/releases/tag/v3.0.0. Use suggest_float instead.\n",
            "  'reg_lambda': trial.suggest_uniform('reg_lambda',1e-5,100),\n",
            "<ipython-input-19-88818f8e1d71>:14: FutureWarning: suggest_uniform has been deprecated in v3.0.0. This feature will be removed in v6.0.0. See https://github.com/optuna/optuna/releases/tag/v3.0.0. Use suggest_float instead.\n",
            "  'random_strength': trial.suggest_uniform('random_strength',10,50),\n"
          ]
        },
        {
          "output_type": "stream",
          "name": "stdout",
          "text": [
            "0:\tlearn: 3.4679572\ttest: 3.4289433\tbest: 3.4289433 (0)\ttotal: 620ms\tremaining: 54m 11s\n",
            "bestTest = 3.30164971\n",
            "bestIteration = 16\n",
            "Shrink model to first 17 iterations.\n"
          ]
        },
        {
          "output_type": "stream",
          "name": "stderr",
          "text": [
            "[I 2024-02-06 10:48:17,311] Trial 9 finished with value: 3.3016501774030567 and parameters: {'n_estimators': 5246, 'od_wait': 2294, 'learning_rate': 0.9534697231454429, 'reg_lambda': 67.37683210145836, 'random_strength': 13.102977553645925, 'depth': 15, 'min_data_in_leaf': 11}. Best is trial 4 with value: 3.249889191106378.\n"
          ]
        }
      ]
    },
    {
      "cell_type": "code",
      "execution_count": 21,
      "id": "97e5daf9-254d-4110-95d4-e71e2ec697df",
      "metadata": {
        "id": "97e5daf9-254d-4110-95d4-e71e2ec697df"
      },
      "outputs": [],
      "source": [
        "params=study.best_params\n",
        "params['objective'] = 'RMSE'\n",
        "params['random_state'] = 42\n",
        "params['verbose'] = False\n",
        "params['task_type'] = \"GPU\"\n",
        "params['cat_features'] = [\"User-ID\",  \"Age_group\",\"Pub_gb\",\"Publisher\",\"country\",\"Book-Author\",\"state\",\"city\",\"Main_Title\",\"Sub_Title\"]"
      ]
    },
    {
      "cell_type": "code",
      "execution_count": 22,
      "id": "6ceebced-59c1-407e-a524-9cffa7c40d20",
      "metadata": {
        "id": "6ceebced-59c1-407e-a524-9cffa7c40d20",
        "colab": {
          "base_uri": "https://localhost:8080/"
        },
        "outputId": "2b9bab6b-3e2a-4d7c-ca74-be02f205a60e"
      },
      "outputs": [
        {
          "output_type": "stream",
          "name": "stdout",
          "text": [
            "Best Score: 3.249889191106378\n",
            "Best trial: {'n_estimators': 5411, 'od_wait': 1699, 'learning_rate': 0.07706713006326803, 'reg_lambda': 85.29820422306061, 'random_strength': 44.314299423505496, 'depth': 12, 'min_data_in_leaf': 24}\n"
          ]
        }
      ],
      "source": [
        "print(\"Best Score:\", study.best_value)\n",
        "print(\"Best trial:\", study.best_trial.params)"
      ]
    },
    {
      "cell_type": "code",
      "source": [
        "# 시각화\n",
        "optuna.visualization.plot_optimization_history(study)"
      ],
      "metadata": {
        "id": "1_Ep9geRpN9e",
        "colab": {
          "base_uri": "https://localhost:8080/",
          "height": 542
        },
        "outputId": "5ec607fd-caad-47ff-c220-b85b1799147f"
      },
      "id": "1_Ep9geRpN9e",
      "execution_count": 23,
      "outputs": [
        {
          "output_type": "display_data",
          "data": {
            "text/html": [
              "<html>\n",
              "<head><meta charset=\"utf-8\" /></head>\n",
              "<body>\n",
              "    <div>            <script src=\"https://cdnjs.cloudflare.com/ajax/libs/mathjax/2.7.5/MathJax.js?config=TeX-AMS-MML_SVG\"></script><script type=\"text/javascript\">if (window.MathJax && window.MathJax.Hub && window.MathJax.Hub.Config) {window.MathJax.Hub.Config({SVG: {font: \"STIX-Web\"}});}</script>                <script type=\"text/javascript\">window.PlotlyConfig = {MathJaxConfig: 'local'};</script>\n",
              "        <script charset=\"utf-8\" src=\"https://cdn.plot.ly/plotly-2.24.1.min.js\"></script>                <div id=\"efd8a983-a62c-4e29-ab24-6c620b2bafd1\" class=\"plotly-graph-div\" style=\"height:525px; width:100%;\"></div>            <script type=\"text/javascript\">                                    window.PLOTLYENV=window.PLOTLYENV || {};                                    if (document.getElementById(\"efd8a983-a62c-4e29-ab24-6c620b2bafd1\")) {                    Plotly.newPlot(                        \"efd8a983-a62c-4e29-ab24-6c620b2bafd1\",                        [{\"mode\":\"markers\",\"name\":\"Objective Value\",\"x\":[0,1,2,3,4,5,6,7,8,9],\"y\":[3.2516924284683286,3.2668905786490066,3.272279254360232,3.2654792291055177,3.249889191106378,3.261504714710523,3.2696658830874474,3.262159528534828,3.2647513701226143,3.3016501774030567],\"type\":\"scatter\"},{\"mode\":\"lines\",\"name\":\"Best Value\",\"x\":[0,1,2,3,4,5,6,7,8,9],\"y\":[3.2516924284683286,3.2516924284683286,3.2516924284683286,3.2516924284683286,3.249889191106378,3.249889191106378,3.249889191106378,3.249889191106378,3.249889191106378,3.249889191106378],\"type\":\"scatter\"},{\"marker\":{\"color\":\"#cccccc\"},\"mode\":\"markers\",\"name\":\"Infeasible Trial\",\"showlegend\":false,\"x\":[],\"y\":[],\"type\":\"scatter\"}],                        {\"title\":{\"text\":\"Optimization History Plot\"},\"xaxis\":{\"title\":{\"text\":\"Trial\"}},\"yaxis\":{\"title\":{\"text\":\"Objective Value\"}},\"template\":{\"data\":{\"histogram2dcontour\":[{\"type\":\"histogram2dcontour\",\"colorbar\":{\"outlinewidth\":0,\"ticks\":\"\"},\"colorscale\":[[0.0,\"#0d0887\"],[0.1111111111111111,\"#46039f\"],[0.2222222222222222,\"#7201a8\"],[0.3333333333333333,\"#9c179e\"],[0.4444444444444444,\"#bd3786\"],[0.5555555555555556,\"#d8576b\"],[0.6666666666666666,\"#ed7953\"],[0.7777777777777778,\"#fb9f3a\"],[0.8888888888888888,\"#fdca26\"],[1.0,\"#f0f921\"]]}],\"choropleth\":[{\"type\":\"choropleth\",\"colorbar\":{\"outlinewidth\":0,\"ticks\":\"\"}}],\"histogram2d\":[{\"type\":\"histogram2d\",\"colorbar\":{\"outlinewidth\":0,\"ticks\":\"\"},\"colorscale\":[[0.0,\"#0d0887\"],[0.1111111111111111,\"#46039f\"],[0.2222222222222222,\"#7201a8\"],[0.3333333333333333,\"#9c179e\"],[0.4444444444444444,\"#bd3786\"],[0.5555555555555556,\"#d8576b\"],[0.6666666666666666,\"#ed7953\"],[0.7777777777777778,\"#fb9f3a\"],[0.8888888888888888,\"#fdca26\"],[1.0,\"#f0f921\"]]}],\"heatmap\":[{\"type\":\"heatmap\",\"colorbar\":{\"outlinewidth\":0,\"ticks\":\"\"},\"colorscale\":[[0.0,\"#0d0887\"],[0.1111111111111111,\"#46039f\"],[0.2222222222222222,\"#7201a8\"],[0.3333333333333333,\"#9c179e\"],[0.4444444444444444,\"#bd3786\"],[0.5555555555555556,\"#d8576b\"],[0.6666666666666666,\"#ed7953\"],[0.7777777777777778,\"#fb9f3a\"],[0.8888888888888888,\"#fdca26\"],[1.0,\"#f0f921\"]]}],\"heatmapgl\":[{\"type\":\"heatmapgl\",\"colorbar\":{\"outlinewidth\":0,\"ticks\":\"\"},\"colorscale\":[[0.0,\"#0d0887\"],[0.1111111111111111,\"#46039f\"],[0.2222222222222222,\"#7201a8\"],[0.3333333333333333,\"#9c179e\"],[0.4444444444444444,\"#bd3786\"],[0.5555555555555556,\"#d8576b\"],[0.6666666666666666,\"#ed7953\"],[0.7777777777777778,\"#fb9f3a\"],[0.8888888888888888,\"#fdca26\"],[1.0,\"#f0f921\"]]}],\"contourcarpet\":[{\"type\":\"contourcarpet\",\"colorbar\":{\"outlinewidth\":0,\"ticks\":\"\"}}],\"contour\":[{\"type\":\"contour\",\"colorbar\":{\"outlinewidth\":0,\"ticks\":\"\"},\"colorscale\":[[0.0,\"#0d0887\"],[0.1111111111111111,\"#46039f\"],[0.2222222222222222,\"#7201a8\"],[0.3333333333333333,\"#9c179e\"],[0.4444444444444444,\"#bd3786\"],[0.5555555555555556,\"#d8576b\"],[0.6666666666666666,\"#ed7953\"],[0.7777777777777778,\"#fb9f3a\"],[0.8888888888888888,\"#fdca26\"],[1.0,\"#f0f921\"]]}],\"surface\":[{\"type\":\"surface\",\"colorbar\":{\"outlinewidth\":0,\"ticks\":\"\"},\"colorscale\":[[0.0,\"#0d0887\"],[0.1111111111111111,\"#46039f\"],[0.2222222222222222,\"#7201a8\"],[0.3333333333333333,\"#9c179e\"],[0.4444444444444444,\"#bd3786\"],[0.5555555555555556,\"#d8576b\"],[0.6666666666666666,\"#ed7953\"],[0.7777777777777778,\"#fb9f3a\"],[0.8888888888888888,\"#fdca26\"],[1.0,\"#f0f921\"]]}],\"mesh3d\":[{\"type\":\"mesh3d\",\"colorbar\":{\"outlinewidth\":0,\"ticks\":\"\"}}],\"scatter\":[{\"fillpattern\":{\"fillmode\":\"overlay\",\"size\":10,\"solidity\":0.2},\"type\":\"scatter\"}],\"parcoords\":[{\"type\":\"parcoords\",\"line\":{\"colorbar\":{\"outlinewidth\":0,\"ticks\":\"\"}}}],\"scatterpolargl\":[{\"type\":\"scatterpolargl\",\"marker\":{\"colorbar\":{\"outlinewidth\":0,\"ticks\":\"\"}}}],\"bar\":[{\"error_x\":{\"color\":\"#2a3f5f\"},\"error_y\":{\"color\":\"#2a3f5f\"},\"marker\":{\"line\":{\"color\":\"#E5ECF6\",\"width\":0.5},\"pattern\":{\"fillmode\":\"overlay\",\"size\":10,\"solidity\":0.2}},\"type\":\"bar\"}],\"scattergeo\":[{\"type\":\"scattergeo\",\"marker\":{\"colorbar\":{\"outlinewidth\":0,\"ticks\":\"\"}}}],\"scatterpolar\":[{\"type\":\"scatterpolar\",\"marker\":{\"colorbar\":{\"outlinewidth\":0,\"ticks\":\"\"}}}],\"histogram\":[{\"marker\":{\"pattern\":{\"fillmode\":\"overlay\",\"size\":10,\"solidity\":0.2}},\"type\":\"histogram\"}],\"scattergl\":[{\"type\":\"scattergl\",\"marker\":{\"colorbar\":{\"outlinewidth\":0,\"ticks\":\"\"}}}],\"scatter3d\":[{\"type\":\"scatter3d\",\"line\":{\"colorbar\":{\"outlinewidth\":0,\"ticks\":\"\"}},\"marker\":{\"colorbar\":{\"outlinewidth\":0,\"ticks\":\"\"}}}],\"scattermapbox\":[{\"type\":\"scattermapbox\",\"marker\":{\"colorbar\":{\"outlinewidth\":0,\"ticks\":\"\"}}}],\"scatterternary\":[{\"type\":\"scatterternary\",\"marker\":{\"colorbar\":{\"outlinewidth\":0,\"ticks\":\"\"}}}],\"scattercarpet\":[{\"type\":\"scattercarpet\",\"marker\":{\"colorbar\":{\"outlinewidth\":0,\"ticks\":\"\"}}}],\"carpet\":[{\"aaxis\":{\"endlinecolor\":\"#2a3f5f\",\"gridcolor\":\"white\",\"linecolor\":\"white\",\"minorgridcolor\":\"white\",\"startlinecolor\":\"#2a3f5f\"},\"baxis\":{\"endlinecolor\":\"#2a3f5f\",\"gridcolor\":\"white\",\"linecolor\":\"white\",\"minorgridcolor\":\"white\",\"startlinecolor\":\"#2a3f5f\"},\"type\":\"carpet\"}],\"table\":[{\"cells\":{\"fill\":{\"color\":\"#EBF0F8\"},\"line\":{\"color\":\"white\"}},\"header\":{\"fill\":{\"color\":\"#C8D4E3\"},\"line\":{\"color\":\"white\"}},\"type\":\"table\"}],\"barpolar\":[{\"marker\":{\"line\":{\"color\":\"#E5ECF6\",\"width\":0.5},\"pattern\":{\"fillmode\":\"overlay\",\"size\":10,\"solidity\":0.2}},\"type\":\"barpolar\"}],\"pie\":[{\"automargin\":true,\"type\":\"pie\"}]},\"layout\":{\"autotypenumbers\":\"strict\",\"colorway\":[\"#636efa\",\"#EF553B\",\"#00cc96\",\"#ab63fa\",\"#FFA15A\",\"#19d3f3\",\"#FF6692\",\"#B6E880\",\"#FF97FF\",\"#FECB52\"],\"font\":{\"color\":\"#2a3f5f\"},\"hovermode\":\"closest\",\"hoverlabel\":{\"align\":\"left\"},\"paper_bgcolor\":\"white\",\"plot_bgcolor\":\"#E5ECF6\",\"polar\":{\"bgcolor\":\"#E5ECF6\",\"angularaxis\":{\"gridcolor\":\"white\",\"linecolor\":\"white\",\"ticks\":\"\"},\"radialaxis\":{\"gridcolor\":\"white\",\"linecolor\":\"white\",\"ticks\":\"\"}},\"ternary\":{\"bgcolor\":\"#E5ECF6\",\"aaxis\":{\"gridcolor\":\"white\",\"linecolor\":\"white\",\"ticks\":\"\"},\"baxis\":{\"gridcolor\":\"white\",\"linecolor\":\"white\",\"ticks\":\"\"},\"caxis\":{\"gridcolor\":\"white\",\"linecolor\":\"white\",\"ticks\":\"\"}},\"coloraxis\":{\"colorbar\":{\"outlinewidth\":0,\"ticks\":\"\"}},\"colorscale\":{\"sequential\":[[0.0,\"#0d0887\"],[0.1111111111111111,\"#46039f\"],[0.2222222222222222,\"#7201a8\"],[0.3333333333333333,\"#9c179e\"],[0.4444444444444444,\"#bd3786\"],[0.5555555555555556,\"#d8576b\"],[0.6666666666666666,\"#ed7953\"],[0.7777777777777778,\"#fb9f3a\"],[0.8888888888888888,\"#fdca26\"],[1.0,\"#f0f921\"]],\"sequentialminus\":[[0.0,\"#0d0887\"],[0.1111111111111111,\"#46039f\"],[0.2222222222222222,\"#7201a8\"],[0.3333333333333333,\"#9c179e\"],[0.4444444444444444,\"#bd3786\"],[0.5555555555555556,\"#d8576b\"],[0.6666666666666666,\"#ed7953\"],[0.7777777777777778,\"#fb9f3a\"],[0.8888888888888888,\"#fdca26\"],[1.0,\"#f0f921\"]],\"diverging\":[[0,\"#8e0152\"],[0.1,\"#c51b7d\"],[0.2,\"#de77ae\"],[0.3,\"#f1b6da\"],[0.4,\"#fde0ef\"],[0.5,\"#f7f7f7\"],[0.6,\"#e6f5d0\"],[0.7,\"#b8e186\"],[0.8,\"#7fbc41\"],[0.9,\"#4d9221\"],[1,\"#276419\"]]},\"xaxis\":{\"gridcolor\":\"white\",\"linecolor\":\"white\",\"ticks\":\"\",\"title\":{\"standoff\":15},\"zerolinecolor\":\"white\",\"automargin\":true,\"zerolinewidth\":2},\"yaxis\":{\"gridcolor\":\"white\",\"linecolor\":\"white\",\"ticks\":\"\",\"title\":{\"standoff\":15},\"zerolinecolor\":\"white\",\"automargin\":true,\"zerolinewidth\":2},\"scene\":{\"xaxis\":{\"backgroundcolor\":\"#E5ECF6\",\"gridcolor\":\"white\",\"linecolor\":\"white\",\"showbackground\":true,\"ticks\":\"\",\"zerolinecolor\":\"white\",\"gridwidth\":2},\"yaxis\":{\"backgroundcolor\":\"#E5ECF6\",\"gridcolor\":\"white\",\"linecolor\":\"white\",\"showbackground\":true,\"ticks\":\"\",\"zerolinecolor\":\"white\",\"gridwidth\":2},\"zaxis\":{\"backgroundcolor\":\"#E5ECF6\",\"gridcolor\":\"white\",\"linecolor\":\"white\",\"showbackground\":true,\"ticks\":\"\",\"zerolinecolor\":\"white\",\"gridwidth\":2}},\"shapedefaults\":{\"line\":{\"color\":\"#2a3f5f\"}},\"annotationdefaults\":{\"arrowcolor\":\"#2a3f5f\",\"arrowhead\":0,\"arrowwidth\":1},\"geo\":{\"bgcolor\":\"white\",\"landcolor\":\"#E5ECF6\",\"subunitcolor\":\"white\",\"showland\":true,\"showlakes\":true,\"lakecolor\":\"white\"},\"title\":{\"x\":0.05},\"mapbox\":{\"style\":\"light\"}}}},                        {\"responsive\": true}                    ).then(function(){\n",
              "                            \n",
              "var gd = document.getElementById('efd8a983-a62c-4e29-ab24-6c620b2bafd1');\n",
              "var x = new MutationObserver(function (mutations, observer) {{\n",
              "        var display = window.getComputedStyle(gd).display;\n",
              "        if (!display || display === 'none') {{\n",
              "            console.log([gd, 'removed!']);\n",
              "            Plotly.purge(gd);\n",
              "            observer.disconnect();\n",
              "        }}\n",
              "}});\n",
              "\n",
              "// Listen for the removal of the full notebook cells\n",
              "var notebookContainer = gd.closest('#notebook-container');\n",
              "if (notebookContainer) {{\n",
              "    x.observe(notebookContainer, {childList: true});\n",
              "}}\n",
              "\n",
              "// Listen for the clearing of the current output cell\n",
              "var outputEl = gd.closest('.output');\n",
              "if (outputEl) {{\n",
              "    x.observe(outputEl, {childList: true});\n",
              "}}\n",
              "\n",
              "                        })                };                            </script>        </div>\n",
              "</body>\n",
              "</html>"
            ]
          },
          "metadata": {}
        }
      ]
    },
    {
      "cell_type": "code",
      "execution_count": 24,
      "id": "e9165bd1-b96e-44b3-8c20-a3bb2ca5df9a",
      "metadata": {
        "id": "e9165bd1-b96e-44b3-8c20-a3bb2ca5df9a",
        "colab": {
          "base_uri": "https://localhost:8080/",
          "height": 542
        },
        "outputId": "dd1b55fd-c073-4ad5-e858-4fcfbbed9bc8"
      },
      "outputs": [
        {
          "output_type": "display_data",
          "data": {
            "text/html": [
              "<html>\n",
              "<head><meta charset=\"utf-8\" /></head>\n",
              "<body>\n",
              "    <div>            <script src=\"https://cdnjs.cloudflare.com/ajax/libs/mathjax/2.7.5/MathJax.js?config=TeX-AMS-MML_SVG\"></script><script type=\"text/javascript\">if (window.MathJax && window.MathJax.Hub && window.MathJax.Hub.Config) {window.MathJax.Hub.Config({SVG: {font: \"STIX-Web\"}});}</script>                <script type=\"text/javascript\">window.PlotlyConfig = {MathJaxConfig: 'local'};</script>\n",
              "        <script charset=\"utf-8\" src=\"https://cdn.plot.ly/plotly-2.24.1.min.js\"></script>                <div id=\"1ae13704-0041-46b5-8666-bb09d0d4f4b1\" class=\"plotly-graph-div\" style=\"height:525px; width:100%;\"></div>            <script type=\"text/javascript\">                                    window.PLOTLYENV=window.PLOTLYENV || {};                                    if (document.getElementById(\"1ae13704-0041-46b5-8666-bb09d0d4f4b1\")) {                    Plotly.newPlot(                        \"1ae13704-0041-46b5-8666-bb09d0d4f4b1\",                        [{\"cliponaxis\":false,\"hovertemplate\":[\"min_data_in_leaf (IntDistribution): 0.013965786027781625\\u003cextra\\u003e\\u003c\\u002fextra\\u003e\",\"reg_lambda (FloatDistribution): 0.014472907478770126\\u003cextra\\u003e\\u003c\\u002fextra\\u003e\",\"n_estimators (IntDistribution): 0.05405643205157992\\u003cextra\\u003e\\u003c\\u002fextra\\u003e\",\"random_strength (FloatDistribution): 0.18899930387257002\\u003cextra\\u003e\\u003c\\u002fextra\\u003e\",\"od_wait (IntDistribution): 0.2113864109391123\\u003cextra\\u003e\\u003c\\u002fextra\\u003e\",\"depth (IntDistribution): 0.234401861967839\\u003cextra\\u003e\\u003c\\u002fextra\\u003e\",\"learning_rate (FloatDistribution): 0.28271729766234693\\u003cextra\\u003e\\u003c\\u002fextra\\u003e\"],\"name\":\"Objective Value\",\"orientation\":\"h\",\"text\":[\"0.01\",\"0.01\",\"0.05\",\"0.19\",\"0.21\",\"0.23\",\"0.28\"],\"textposition\":\"outside\",\"x\":[0.013965786027781625,0.014472907478770126,0.05405643205157992,0.18899930387257002,0.2113864109391123,0.234401861967839,0.28271729766234693],\"y\":[\"min_data_in_leaf\",\"reg_lambda\",\"n_estimators\",\"random_strength\",\"od_wait\",\"depth\",\"learning_rate\"],\"type\":\"bar\"}],                        {\"title\":{\"text\":\"Hyperparameter Importances\"},\"xaxis\":{\"title\":{\"text\":\"Hyperparameter Importance\"}},\"yaxis\":{\"title\":{\"text\":\"Hyperparameter\"}},\"template\":{\"data\":{\"histogram2dcontour\":[{\"type\":\"histogram2dcontour\",\"colorbar\":{\"outlinewidth\":0,\"ticks\":\"\"},\"colorscale\":[[0.0,\"#0d0887\"],[0.1111111111111111,\"#46039f\"],[0.2222222222222222,\"#7201a8\"],[0.3333333333333333,\"#9c179e\"],[0.4444444444444444,\"#bd3786\"],[0.5555555555555556,\"#d8576b\"],[0.6666666666666666,\"#ed7953\"],[0.7777777777777778,\"#fb9f3a\"],[0.8888888888888888,\"#fdca26\"],[1.0,\"#f0f921\"]]}],\"choropleth\":[{\"type\":\"choropleth\",\"colorbar\":{\"outlinewidth\":0,\"ticks\":\"\"}}],\"histogram2d\":[{\"type\":\"histogram2d\",\"colorbar\":{\"outlinewidth\":0,\"ticks\":\"\"},\"colorscale\":[[0.0,\"#0d0887\"],[0.1111111111111111,\"#46039f\"],[0.2222222222222222,\"#7201a8\"],[0.3333333333333333,\"#9c179e\"],[0.4444444444444444,\"#bd3786\"],[0.5555555555555556,\"#d8576b\"],[0.6666666666666666,\"#ed7953\"],[0.7777777777777778,\"#fb9f3a\"],[0.8888888888888888,\"#fdca26\"],[1.0,\"#f0f921\"]]}],\"heatmap\":[{\"type\":\"heatmap\",\"colorbar\":{\"outlinewidth\":0,\"ticks\":\"\"},\"colorscale\":[[0.0,\"#0d0887\"],[0.1111111111111111,\"#46039f\"],[0.2222222222222222,\"#7201a8\"],[0.3333333333333333,\"#9c179e\"],[0.4444444444444444,\"#bd3786\"],[0.5555555555555556,\"#d8576b\"],[0.6666666666666666,\"#ed7953\"],[0.7777777777777778,\"#fb9f3a\"],[0.8888888888888888,\"#fdca26\"],[1.0,\"#f0f921\"]]}],\"heatmapgl\":[{\"type\":\"heatmapgl\",\"colorbar\":{\"outlinewidth\":0,\"ticks\":\"\"},\"colorscale\":[[0.0,\"#0d0887\"],[0.1111111111111111,\"#46039f\"],[0.2222222222222222,\"#7201a8\"],[0.3333333333333333,\"#9c179e\"],[0.4444444444444444,\"#bd3786\"],[0.5555555555555556,\"#d8576b\"],[0.6666666666666666,\"#ed7953\"],[0.7777777777777778,\"#fb9f3a\"],[0.8888888888888888,\"#fdca26\"],[1.0,\"#f0f921\"]]}],\"contourcarpet\":[{\"type\":\"contourcarpet\",\"colorbar\":{\"outlinewidth\":0,\"ticks\":\"\"}}],\"contour\":[{\"type\":\"contour\",\"colorbar\":{\"outlinewidth\":0,\"ticks\":\"\"},\"colorscale\":[[0.0,\"#0d0887\"],[0.1111111111111111,\"#46039f\"],[0.2222222222222222,\"#7201a8\"],[0.3333333333333333,\"#9c179e\"],[0.4444444444444444,\"#bd3786\"],[0.5555555555555556,\"#d8576b\"],[0.6666666666666666,\"#ed7953\"],[0.7777777777777778,\"#fb9f3a\"],[0.8888888888888888,\"#fdca26\"],[1.0,\"#f0f921\"]]}],\"surface\":[{\"type\":\"surface\",\"colorbar\":{\"outlinewidth\":0,\"ticks\":\"\"},\"colorscale\":[[0.0,\"#0d0887\"],[0.1111111111111111,\"#46039f\"],[0.2222222222222222,\"#7201a8\"],[0.3333333333333333,\"#9c179e\"],[0.4444444444444444,\"#bd3786\"],[0.5555555555555556,\"#d8576b\"],[0.6666666666666666,\"#ed7953\"],[0.7777777777777778,\"#fb9f3a\"],[0.8888888888888888,\"#fdca26\"],[1.0,\"#f0f921\"]]}],\"mesh3d\":[{\"type\":\"mesh3d\",\"colorbar\":{\"outlinewidth\":0,\"ticks\":\"\"}}],\"scatter\":[{\"fillpattern\":{\"fillmode\":\"overlay\",\"size\":10,\"solidity\":0.2},\"type\":\"scatter\"}],\"parcoords\":[{\"type\":\"parcoords\",\"line\":{\"colorbar\":{\"outlinewidth\":0,\"ticks\":\"\"}}}],\"scatterpolargl\":[{\"type\":\"scatterpolargl\",\"marker\":{\"colorbar\":{\"outlinewidth\":0,\"ticks\":\"\"}}}],\"bar\":[{\"error_x\":{\"color\":\"#2a3f5f\"},\"error_y\":{\"color\":\"#2a3f5f\"},\"marker\":{\"line\":{\"color\":\"#E5ECF6\",\"width\":0.5},\"pattern\":{\"fillmode\":\"overlay\",\"size\":10,\"solidity\":0.2}},\"type\":\"bar\"}],\"scattergeo\":[{\"type\":\"scattergeo\",\"marker\":{\"colorbar\":{\"outlinewidth\":0,\"ticks\":\"\"}}}],\"scatterpolar\":[{\"type\":\"scatterpolar\",\"marker\":{\"colorbar\":{\"outlinewidth\":0,\"ticks\":\"\"}}}],\"histogram\":[{\"marker\":{\"pattern\":{\"fillmode\":\"overlay\",\"size\":10,\"solidity\":0.2}},\"type\":\"histogram\"}],\"scattergl\":[{\"type\":\"scattergl\",\"marker\":{\"colorbar\":{\"outlinewidth\":0,\"ticks\":\"\"}}}],\"scatter3d\":[{\"type\":\"scatter3d\",\"line\":{\"colorbar\":{\"outlinewidth\":0,\"ticks\":\"\"}},\"marker\":{\"colorbar\":{\"outlinewidth\":0,\"ticks\":\"\"}}}],\"scattermapbox\":[{\"type\":\"scattermapbox\",\"marker\":{\"colorbar\":{\"outlinewidth\":0,\"ticks\":\"\"}}}],\"scatterternary\":[{\"type\":\"scatterternary\",\"marker\":{\"colorbar\":{\"outlinewidth\":0,\"ticks\":\"\"}}}],\"scattercarpet\":[{\"type\":\"scattercarpet\",\"marker\":{\"colorbar\":{\"outlinewidth\":0,\"ticks\":\"\"}}}],\"carpet\":[{\"aaxis\":{\"endlinecolor\":\"#2a3f5f\",\"gridcolor\":\"white\",\"linecolor\":\"white\",\"minorgridcolor\":\"white\",\"startlinecolor\":\"#2a3f5f\"},\"baxis\":{\"endlinecolor\":\"#2a3f5f\",\"gridcolor\":\"white\",\"linecolor\":\"white\",\"minorgridcolor\":\"white\",\"startlinecolor\":\"#2a3f5f\"},\"type\":\"carpet\"}],\"table\":[{\"cells\":{\"fill\":{\"color\":\"#EBF0F8\"},\"line\":{\"color\":\"white\"}},\"header\":{\"fill\":{\"color\":\"#C8D4E3\"},\"line\":{\"color\":\"white\"}},\"type\":\"table\"}],\"barpolar\":[{\"marker\":{\"line\":{\"color\":\"#E5ECF6\",\"width\":0.5},\"pattern\":{\"fillmode\":\"overlay\",\"size\":10,\"solidity\":0.2}},\"type\":\"barpolar\"}],\"pie\":[{\"automargin\":true,\"type\":\"pie\"}]},\"layout\":{\"autotypenumbers\":\"strict\",\"colorway\":[\"#636efa\",\"#EF553B\",\"#00cc96\",\"#ab63fa\",\"#FFA15A\",\"#19d3f3\",\"#FF6692\",\"#B6E880\",\"#FF97FF\",\"#FECB52\"],\"font\":{\"color\":\"#2a3f5f\"},\"hovermode\":\"closest\",\"hoverlabel\":{\"align\":\"left\"},\"paper_bgcolor\":\"white\",\"plot_bgcolor\":\"#E5ECF6\",\"polar\":{\"bgcolor\":\"#E5ECF6\",\"angularaxis\":{\"gridcolor\":\"white\",\"linecolor\":\"white\",\"ticks\":\"\"},\"radialaxis\":{\"gridcolor\":\"white\",\"linecolor\":\"white\",\"ticks\":\"\"}},\"ternary\":{\"bgcolor\":\"#E5ECF6\",\"aaxis\":{\"gridcolor\":\"white\",\"linecolor\":\"white\",\"ticks\":\"\"},\"baxis\":{\"gridcolor\":\"white\",\"linecolor\":\"white\",\"ticks\":\"\"},\"caxis\":{\"gridcolor\":\"white\",\"linecolor\":\"white\",\"ticks\":\"\"}},\"coloraxis\":{\"colorbar\":{\"outlinewidth\":0,\"ticks\":\"\"}},\"colorscale\":{\"sequential\":[[0.0,\"#0d0887\"],[0.1111111111111111,\"#46039f\"],[0.2222222222222222,\"#7201a8\"],[0.3333333333333333,\"#9c179e\"],[0.4444444444444444,\"#bd3786\"],[0.5555555555555556,\"#d8576b\"],[0.6666666666666666,\"#ed7953\"],[0.7777777777777778,\"#fb9f3a\"],[0.8888888888888888,\"#fdca26\"],[1.0,\"#f0f921\"]],\"sequentialminus\":[[0.0,\"#0d0887\"],[0.1111111111111111,\"#46039f\"],[0.2222222222222222,\"#7201a8\"],[0.3333333333333333,\"#9c179e\"],[0.4444444444444444,\"#bd3786\"],[0.5555555555555556,\"#d8576b\"],[0.6666666666666666,\"#ed7953\"],[0.7777777777777778,\"#fb9f3a\"],[0.8888888888888888,\"#fdca26\"],[1.0,\"#f0f921\"]],\"diverging\":[[0,\"#8e0152\"],[0.1,\"#c51b7d\"],[0.2,\"#de77ae\"],[0.3,\"#f1b6da\"],[0.4,\"#fde0ef\"],[0.5,\"#f7f7f7\"],[0.6,\"#e6f5d0\"],[0.7,\"#b8e186\"],[0.8,\"#7fbc41\"],[0.9,\"#4d9221\"],[1,\"#276419\"]]},\"xaxis\":{\"gridcolor\":\"white\",\"linecolor\":\"white\",\"ticks\":\"\",\"title\":{\"standoff\":15},\"zerolinecolor\":\"white\",\"automargin\":true,\"zerolinewidth\":2},\"yaxis\":{\"gridcolor\":\"white\",\"linecolor\":\"white\",\"ticks\":\"\",\"title\":{\"standoff\":15},\"zerolinecolor\":\"white\",\"automargin\":true,\"zerolinewidth\":2},\"scene\":{\"xaxis\":{\"backgroundcolor\":\"#E5ECF6\",\"gridcolor\":\"white\",\"linecolor\":\"white\",\"showbackground\":true,\"ticks\":\"\",\"zerolinecolor\":\"white\",\"gridwidth\":2},\"yaxis\":{\"backgroundcolor\":\"#E5ECF6\",\"gridcolor\":\"white\",\"linecolor\":\"white\",\"showbackground\":true,\"ticks\":\"\",\"zerolinecolor\":\"white\",\"gridwidth\":2},\"zaxis\":{\"backgroundcolor\":\"#E5ECF6\",\"gridcolor\":\"white\",\"linecolor\":\"white\",\"showbackground\":true,\"ticks\":\"\",\"zerolinecolor\":\"white\",\"gridwidth\":2}},\"shapedefaults\":{\"line\":{\"color\":\"#2a3f5f\"}},\"annotationdefaults\":{\"arrowcolor\":\"#2a3f5f\",\"arrowhead\":0,\"arrowwidth\":1},\"geo\":{\"bgcolor\":\"white\",\"landcolor\":\"#E5ECF6\",\"subunitcolor\":\"white\",\"showland\":true,\"showlakes\":true,\"lakecolor\":\"white\"},\"title\":{\"x\":0.05},\"mapbox\":{\"style\":\"light\"}}}},                        {\"responsive\": true}                    ).then(function(){\n",
              "                            \n",
              "var gd = document.getElementById('1ae13704-0041-46b5-8666-bb09d0d4f4b1');\n",
              "var x = new MutationObserver(function (mutations, observer) {{\n",
              "        var display = window.getComputedStyle(gd).display;\n",
              "        if (!display || display === 'none') {{\n",
              "            console.log([gd, 'removed!']);\n",
              "            Plotly.purge(gd);\n",
              "            observer.disconnect();\n",
              "        }}\n",
              "}});\n",
              "\n",
              "// Listen for the removal of the full notebook cells\n",
              "var notebookContainer = gd.closest('#notebook-container');\n",
              "if (notebookContainer) {{\n",
              "    x.observe(notebookContainer, {childList: true});\n",
              "}}\n",
              "\n",
              "// Listen for the clearing of the current output cell\n",
              "var outputEl = gd.closest('.output');\n",
              "if (outputEl) {{\n",
              "    x.observe(outputEl, {childList: true});\n",
              "}}\n",
              "\n",
              "                        })                };                            </script>        </div>\n",
              "</body>\n",
              "</html>"
            ]
          },
          "metadata": {}
        }
      ],
      "source": [
        "# 하이퍼파라미터 중요도\n",
        "optuna.visualization.plot_param_importances(study)"
      ]
    },
    {
      "cell_type": "code",
      "execution_count": null,
      "id": "f53a98cb-4cd4-4354-9b46-3f6b6e52834e",
      "metadata": {
        "id": "f53a98cb-4cd4-4354-9b46-3f6b6e52834e"
      },
      "outputs": [],
      "source": []
    }
  ],
  "metadata": {
    "kernelspec": {
      "display_name": "Python 3",
      "name": "python3"
    },
    "language_info": {
      "codemirror_mode": {
        "name": "ipython",
        "version": 3
      },
      "file_extension": ".py",
      "mimetype": "text/x-python",
      "name": "python",
      "nbconvert_exporter": "python",
      "pygments_lexer": "ipython3",
      "version": "3.9.13"
    },
    "colab": {
      "provenance": [],
      "gpuType": "T4"
    },
    "accelerator": "GPU"
  },
  "nbformat": 4,
  "nbformat_minor": 5
}